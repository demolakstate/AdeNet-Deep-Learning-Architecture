{
  "nbformat": 4,
  "nbformat_minor": 0,
  "metadata": {
    "colab": {
      "name": "ROC of insulators_v24_2.ipynb",
      "provenance": [],
      "collapsed_sections": [],
      "include_colab_link": true
    },
    "kernelspec": {
      "name": "python3",
      "display_name": "Python 3"
    },
    "accelerator": "GPU"
  },
  "cells": [
    {
      "cell_type": "markdown",
      "metadata": {
        "id": "view-in-github",
        "colab_type": "text"
      },
      "source": [
        "<a href=\"https://colab.research.google.com/github/demolakstate/AdeNet-Deep-Learning-Architecture/blob/main/ROC_of_insulators_v24_2.ipynb\" target=\"_parent\"><img src=\"https://colab.research.google.com/assets/colab-badge.svg\" alt=\"Open In Colab\"/></a>"
      ]
    },
    {
      "cell_type": "code",
      "metadata": {
        "id": "EROtr8re5vre"
      },
      "source": [
        "# Load the TensorBoard notebook extension\n",
        "# %load_ext tensorboard\n"
      ],
      "execution_count": null,
      "outputs": []
    },
    {
      "cell_type": "code",
      "metadata": {
        "id": "8m7hLocc7E1n"
      },
      "source": [
        "#!unzip all_test.zip\n",
        "#!unzip all_dataset_fold_1.zip"
      ],
      "execution_count": null,
      "outputs": []
    },
    {
      "cell_type": "code",
      "metadata": {
        "id": "L9BZVgQn7E5s"
      },
      "source": [
        ""
      ],
      "execution_count": null,
      "outputs": []
    },
    {
      "cell_type": "code",
      "metadata": {
        "id": "MD-f0i4x5yyf"
      },
      "source": [
        "#imports\n",
        "\n",
        "import tensorflow as tf\n",
        "import datetime\n",
        "\n",
        "from tensorflow.keras.applications.mobilenet_v2 import MobileNetV2,preprocess_input\n",
        "from tensorflow.keras.layers import Input,GlobalMaxPooling2D,Dense\n",
        "from tensorflow.keras.models import Model\n",
        "from tensorflow.keras.preprocessing.image import img_to_array,load_img\n",
        "\n",
        "import numpy as np\n",
        "from cv2 import resize\n",
        "from os import path, listdir\n",
        "\n",
        "# Clear any logs from previous runs\n",
        "!rm -rf ./logs/ "
      ],
      "execution_count": null,
      "outputs": []
    },
    {
      "cell_type": "code",
      "metadata": {
        "id": "VXJzFL-05y2p"
      },
      "source": [
        ""
      ],
      "execution_count": null,
      "outputs": []
    },
    {
      "cell_type": "code",
      "metadata": {
        "id": "oHnNi5R6XTvG"
      },
      "source": [
        "import keras\n",
        "import keras.layers as layers\n",
        "from keras.models import Sequential"
      ],
      "execution_count": null,
      "outputs": []
    },
    {
      "cell_type": "code",
      "metadata": {
        "id": "z6CRsAl5XTzp"
      },
      "source": [
        ""
      ],
      "execution_count": null,
      "outputs": []
    },
    {
      "cell_type": "code",
      "metadata": {
        "id": "0OM_sFZ2idbL"
      },
      "source": [
        "# model = Sequential(\n",
        "#     [\n",
        "#      #layers.Conv2D(16, (3,3), activation='relu'),\n",
        "#      layers.Dense(512, activation='relu'),\n",
        "#      layers.Dense(256, activation='relu'),\n",
        "#      layers.Dense(2)\n",
        "     \n",
        "#     ])"
      ],
      "execution_count": null,
      "outputs": []
    },
    {
      "cell_type": "code",
      "metadata": {
        "id": "uefYJBAltdEE"
      },
      "source": [
        ""
      ],
      "execution_count": null,
      "outputs": []
    },
    {
      "cell_type": "code",
      "metadata": {
        "id": "yzLSENQTtdIO"
      },
      "source": [
        "# model = Sequential(\n",
        "#     [\n",
        "#      Input(shape=(400,160, 3)),\n",
        "#      layers.Conv2D(32, 3, activation='relu'),\n",
        "#      layers.MaxPooling2D(),\n",
        "#      layers.Conv2D(64, 3, activation='relu'),\n",
        "#      layers.MaxPooling2D(),\n",
        "#      layers.Conv2D(128, 3, activation='relu'),\n",
        "#      layers.Flatten(),\n",
        "#      #layers.Conv2D(16, (3,3), activation='relu'),\n",
        "#      layers.Dense(512, activation='relu'),\n",
        "#      layers.Dense(256, activation='relu'),\n",
        "#      layers.Dense(2)\n",
        "     \n",
        "#     ])"
      ],
      "execution_count": null,
      "outputs": []
    },
    {
      "cell_type": "code",
      "metadata": {
        "id": "UR8nE7yqvJWV"
      },
      "source": [
        ""
      ],
      "execution_count": null,
      "outputs": []
    },
    {
      "cell_type": "code",
      "metadata": {
        "id": "6yygL1PF3Xy0"
      },
      "source": [
        ""
      ],
      "execution_count": null,
      "outputs": []
    },
    {
      "cell_type": "code",
      "metadata": {
        "id": "w9dO5l_A3X3H"
      },
      "source": [
        "#inputs = Input(shape=(None,None,3))"
      ],
      "execution_count": null,
      "outputs": []
    },
    {
      "cell_type": "code",
      "metadata": {
        "id": "lw_A1-Zj3X6q"
      },
      "source": [
        ""
      ],
      "execution_count": null,
      "outputs": []
    },
    {
      "cell_type": "code",
      "metadata": {
        "id": "q-Hkgj1lyN71"
      },
      "source": [
        "# def my_model():\n",
        "#   inputs = keras.Input(shape=(400,400, 3))\n",
        "#   #inputs = Input(shape=(300,300,3))\n",
        "#   x = layers.Conv2D(32, 3, padding='valid')(inputs)\n",
        "#   x = layers.BatchNormalization()(x)\n",
        "#   x = keras.activations.relu(x)\n",
        "#   x = layers.MaxPooling2D()(x)\n",
        "#   x = layers.Conv2D(64, 5, padding='same')(x)\n",
        "#   #x = layers.GlobalMaxPooling2D()(x)\n",
        "#   x = layers.BatchNormalization()(x)\n",
        "#   x = keras.activations.relu(x)\n",
        "  \n",
        "#   x = layers.Flatten()(x)\n",
        "#   x = layers.Dense(64, activation='relu')(x)\n",
        "  \n",
        "#   outputs = layers.Dense(2, activation='softmax')(x)\n",
        "#   model = Input(inputs=inputs, outputs=outputs)\n",
        "\n",
        "\n",
        "#   return model"
      ],
      "execution_count": null,
      "outputs": []
    },
    {
      "cell_type": "code",
      "metadata": {
        "id": "6kpptESv66Xf"
      },
      "source": [
        ""
      ],
      "execution_count": null,
      "outputs": []
    },
    {
      "cell_type": "code",
      "metadata": {
        "id": "f2VYZjrT66bt"
      },
      "source": [
        "def my_model():\n",
        "    inputs = keras.Input(shape=(32, 32, 3))\n",
        "    x = layers.Conv2D(32, 3)(inputs)\n",
        "    x = layers.BatchNormalization()(x)\n",
        "    x = keras.activations.relu(x)\n",
        "    x = layers.MaxPooling2D()(x)\n",
        "    x = layers.Conv2D(64, 3)(x)\n",
        "    x = layers.BatchNormalization()(x)\n",
        "    x = keras.activations.relu(x)\n",
        "    x = layers.MaxPooling2D()(x)\n",
        "    x = layers.Conv2D(128, 3)(x)\n",
        "    x = layers.GlobalMaxPooling2D()(x)\n",
        "    x = layers.BatchNormalization()(x)\n",
        "    x = keras.activations.relu(x)\n",
        "    x = layers.Flatten()(x)\n",
        "    x = layers.Dense(64, activation=\"relu\")(x)\n",
        "    outputs = layers.Dense(2)(x)\n",
        "    model = keras.Model(inputs=inputs, outputs=outputs)\n",
        "    return model"
      ],
      "execution_count": null,
      "outputs": []
    },
    {
      "cell_type": "code",
      "metadata": {
        "id": "83c6bB2U66fl",
        "colab": {
          "base_uri": "https://localhost:8080/",
          "height": 35
        },
        "outputId": "bedfbf83-03f1-47ff-ec48-d57a085f15b7"
      },
      "source": [
        "\n",
        "\n",
        "#set up MobileNet GlobalMaxPooling and unsepcified input resolution\n",
        "n_classes = 2\n",
        "inputs_mn = Input(shape=(None,None,3))\n",
        "net = MobileNetV2(include_top=False, alpha=0.35, weights='imagenet', input_tensor=inputs_mn, classes=n_classes)\n",
        "net = GlobalMaxPooling2D()(net.output)\n",
        "outputs = Dense(n_classes,activation='softmax')(net)\n",
        "\n",
        "model_mn = Model(inputs=inputs_mn,outputs=outputs)\n",
        "model_mn.compile(optimizer='Adam', loss='sparse_categorical_crossentropy',metrics=['sparse_categorical_accuracy'])\n"
      ],
      "execution_count": null,
      "outputs": [
        {
          "output_type": "stream",
          "text": [
            "WARNING:tensorflow:`input_shape` is undefined or non-square, or `rows` is not in [96, 128, 160, 192, 224]. Weights for input shape (224, 224) will be loaded as the default.\n"
          ],
          "name": "stdout"
        }
      ]
    },
    {
      "cell_type": "code",
      "metadata": {
        "id": "3WcehfFFyOAY"
      },
      "source": [
        "model_mn.load_weights('insulators-v28.h5')"
      ],
      "execution_count": null,
      "outputs": []
    },
    {
      "cell_type": "code",
      "metadata": {
        "id": "DLzVCdbZ0OfT"
      },
      "source": [
        "model = my_model()\n",
        "model.load_weights('insulators-v24_fold_5_20.h5')"
      ],
      "execution_count": null,
      "outputs": []
    },
    {
      "cell_type": "code",
      "metadata": {
        "id": "X7DeZRqu7TrM"
      },
      "source": [
        "model.compile(\n",
        "    loss=keras.losses.SparseCategoricalCrossentropy(from_logits=True),\n",
        "    optimizer=keras.optimizers.Adam(lr=3e-4),\n",
        "    metrics=[\"accuracy\"],\n",
        ")"
      ],
      "execution_count": null,
      "outputs": []
    },
    {
      "cell_type": "code",
      "metadata": {
        "id": "tiF_joGN7Tvm"
      },
      "source": [
        ""
      ],
      "execution_count": null,
      "outputs": []
    },
    {
      "cell_type": "code",
      "metadata": {
        "id": "Cb2cqpTK7T0D"
      },
      "source": [
        ""
      ],
      "execution_count": null,
      "outputs": []
    },
    {
      "cell_type": "code",
      "metadata": {
        "id": "7ySbcGIA0oxX"
      },
      "source": [
        "#model.compile(optimizer='Adam', loss='sparse_categorical_crossentropy',metrics=['sparse_categorical_accuracy'])"
      ],
      "execution_count": null,
      "outputs": []
    },
    {
      "cell_type": "code",
      "metadata": {
        "id": "KRsEbeRi0o19"
      },
      "source": [
        ""
      ],
      "execution_count": null,
      "outputs": []
    },
    {
      "cell_type": "code",
      "metadata": {
        "id": "WXqDn-ye0Ojk"
      },
      "source": [
        "#net = GlobalMaxPooling2D()(net.output)\n",
        "# #outputs = Dense(n_classes,activation='softmax')(net)\n",
        "\n",
        "# #model = Model(inputs=inputs,outputs=outputs)\n",
        "# model.compile(optimizer='Adam', loss='sparse_categorical_crossentropy',metrics=['sparse_categorical_accuracy'])"
      ],
      "execution_count": null,
      "outputs": []
    },
    {
      "cell_type": "code",
      "metadata": {
        "id": "GnK47LVm0OnD"
      },
      "source": [
        ""
      ],
      "execution_count": null,
      "outputs": []
    },
    {
      "cell_type": "code",
      "metadata": {
        "id": "f-qiUI3JvmHn"
      },
      "source": [
        ""
      ],
      "execution_count": null,
      "outputs": []
    },
    {
      "cell_type": "code",
      "metadata": {
        "id": "DBKZvLP_vmLn"
      },
      "source": [
        ""
      ],
      "execution_count": null,
      "outputs": []
    },
    {
      "cell_type": "code",
      "metadata": {
        "id": "cUmXHC3nvmPT"
      },
      "source": [
        ""
      ],
      "execution_count": null,
      "outputs": []
    },
    {
      "cell_type": "code",
      "metadata": {
        "id": "Otgf7YYUvJcX",
        "colab": {
          "base_uri": "https://localhost:8080/",
          "height": 752
        },
        "outputId": "9022297d-f81e-48ef-bf9e-86135edc080a"
      },
      "source": [
        "model.summary()"
      ],
      "execution_count": null,
      "outputs": [
        {
          "output_type": "stream",
          "text": [
            "Model: \"functional_3\"\n",
            "_________________________________________________________________\n",
            "Layer (type)                 Output Shape              Param #   \n",
            "=================================================================\n",
            "input_2 (InputLayer)         [(None, 32, 32, 3)]       0         \n",
            "_________________________________________________________________\n",
            "conv2d (Conv2D)              (None, 30, 30, 32)        896       \n",
            "_________________________________________________________________\n",
            "batch_normalization (BatchNo (None, 30, 30, 32)        128       \n",
            "_________________________________________________________________\n",
            "tf_op_layer_Relu (TensorFlow [(None, 30, 30, 32)]      0         \n",
            "_________________________________________________________________\n",
            "max_pooling2d (MaxPooling2D) (None, 15, 15, 32)        0         \n",
            "_________________________________________________________________\n",
            "conv2d_1 (Conv2D)            (None, 13, 13, 64)        18496     \n",
            "_________________________________________________________________\n",
            "batch_normalization_1 (Batch (None, 13, 13, 64)        256       \n",
            "_________________________________________________________________\n",
            "tf_op_layer_Relu_1 (TensorFl [(None, 13, 13, 64)]      0         \n",
            "_________________________________________________________________\n",
            "max_pooling2d_1 (MaxPooling2 (None, 6, 6, 64)          0         \n",
            "_________________________________________________________________\n",
            "conv2d_2 (Conv2D)            (None, 4, 4, 128)         73856     \n",
            "_________________________________________________________________\n",
            "global_max_pooling2d_1 (Glob (None, 128)               0         \n",
            "_________________________________________________________________\n",
            "batch_normalization_2 (Batch (None, 128)               512       \n",
            "_________________________________________________________________\n",
            "tf_op_layer_Relu_2 (TensorFl [(None, 128)]             0         \n",
            "_________________________________________________________________\n",
            "flatten (Flatten)            (None, 128)               0         \n",
            "_________________________________________________________________\n",
            "dense_1 (Dense)              (None, 64)                8256      \n",
            "_________________________________________________________________\n",
            "dense_2 (Dense)              (None, 2)                 130       \n",
            "=================================================================\n",
            "Total params: 102,530\n",
            "Trainable params: 102,082\n",
            "Non-trainable params: 448\n",
            "_________________________________________________________________\n"
          ],
          "name": "stdout"
        }
      ]
    },
    {
      "cell_type": "code",
      "metadata": {
        "id": "pwXLL61etc_-"
      },
      "source": [
        ""
      ],
      "execution_count": null,
      "outputs": []
    },
    {
      "cell_type": "code",
      "metadata": {
        "id": "6KXUZpc-idf2"
      },
      "source": [
        ""
      ],
      "execution_count": null,
      "outputs": []
    },
    {
      "cell_type": "code",
      "metadata": {
        "id": "CkLKJVqOidkO"
      },
      "source": [
        "# model.compile(\n",
        "#     loss=keras.losses.SparseCategoricalCrossentropy(from_logits=True),\n",
        "#     optimizer=keras.optimizers.Adam(lr=0.001),\n",
        "#     metrics=[\"accuracy\"]\n",
        "# )"
      ],
      "execution_count": null,
      "outputs": []
    },
    {
      "cell_type": "code",
      "metadata": {
        "id": "R3N2VR5aidoN"
      },
      "source": [
        "#model.compile(optimizer='Adam', loss='sparse_categorical_crossentropy',metrics=['sparse_categorical_accuracy'])"
      ],
      "execution_count": null,
      "outputs": []
    },
    {
      "cell_type": "code",
      "metadata": {
        "id": "sD8CTvcYidsT"
      },
      "source": [
        ""
      ],
      "execution_count": null,
      "outputs": []
    },
    {
      "cell_type": "code",
      "metadata": {
        "id": "Zs2onVRYidwL"
      },
      "source": [
        ""
      ],
      "execution_count": null,
      "outputs": []
    },
    {
      "cell_type": "code",
      "metadata": {
        "id": "klpJ6Dxdid0F"
      },
      "source": [
        ""
      ],
      "execution_count": null,
      "outputs": []
    },
    {
      "cell_type": "code",
      "metadata": {
        "id": "v_LBkFWLid39"
      },
      "source": [
        ""
      ],
      "execution_count": null,
      "outputs": []
    },
    {
      "cell_type": "code",
      "metadata": {
        "id": "H7HMOzpvid9D"
      },
      "source": [
        ""
      ],
      "execution_count": null,
      "outputs": []
    },
    {
      "cell_type": "code",
      "metadata": {
        "id": "Y4mQY12hieCB"
      },
      "source": [
        ""
      ],
      "execution_count": null,
      "outputs": []
    },
    {
      "cell_type": "code",
      "metadata": {
        "id": "rmUmRwnd8msY"
      },
      "source": [
        "n_classes = 2"
      ],
      "execution_count": null,
      "outputs": []
    },
    {
      "cell_type": "code",
      "metadata": {
        "id": "dXpQ7L8u5y6L"
      },
      "source": [
        "# #set up MobileNet GlobalMaxPooling and unsepcified input resolution\n",
        "\n",
        "# inputs = Input(shape=(None,None,3))\n",
        "\n",
        "\n",
        "# def model():\n",
        "#  net = keras.Sequential([layers.Conv2D(filters=6, kernel_size=(3, 3), activation='relu', input_shape=(512,512,3)), # input_shape=(None,None,3)\n",
        "#                             layers.AveragePooling2D(),\n",
        "#                             layers.Conv2D(filters=16, kernel_size=(3, 3), activation='relu'),\n",
        "#                             layers.AveragePooling2D(),\n",
        "#                             layers.Flatten(),\n",
        "#                             layers.Dense(units=120, activation='relu'),\n",
        "#                             layers.Dense(units=84, activation='relu'),\n",
        "#                             layers.Dense(units=2, activation = 'softmax'),\n",
        "#                             #layers.GlobalMaxPooling2D()\n",
        "                            \n",
        "#                             ])\n",
        "#  return net\n",
        "\n",
        "\n",
        "\n",
        "# #net = MobileNetV2(include_top=False, alpha=0.35, weights='imagenet', input_tensor=inputs, classes=n_classes)\n",
        "# model = model()\n",
        "# #net = GlobalMaxPooling2D()(net.output)\n",
        "# #outputs = Dense(n_classes,activation='softmax')(net)\n",
        "\n",
        "# #model = Model(inputs=inputs,outputs=outputs)\n",
        "# model.compile(optimizer='Adam', loss='sparse_categorical_crossentropy',metrics=['sparse_categorical_accuracy'])\n"
      ],
      "execution_count": null,
      "outputs": []
    },
    {
      "cell_type": "code",
      "metadata": {
        "id": "ct_MmDDcd8nc"
      },
      "source": [
        "#set up MobileNet GlobalMaxPooling and unsepcified input resolution\n",
        "\n",
        "#inputs = Input(shape=(None,None,3))\n",
        "\n",
        "\n",
        "# def model(inputs):\n",
        "#  net = keras.Sequential([layers.InputLayer(input_tensor=inputs),\n",
        "#                          layers.Conv2D(filters=6, kernel_size=(3, 3), activation='relu'), # input_shape=(None,None,3)\n",
        "#                             layers.AveragePooling2D(),\n",
        "#                             layers.Conv2D(filters=16, kernel_size=(3, 3), activation='relu'),\n",
        "#                             layers.AveragePooling2D(),\n",
        "#                             layers.Flatten(),\n",
        "#                             layers.Dense(units=120, activation='relu'),\n",
        "#                             layers.Dense(units=84, activation='relu'),\n",
        "#                             layers.Dense(units=10, activation = 'softmax'),\n",
        "#                             #layers.GlobalMaxPooling2D()\n",
        "                            \n",
        "#                             ])\n",
        "#  return net\n",
        "\n",
        "\n",
        "\n",
        "# net = keras.Sequential([layers.InputLayer(input_tensor=inputs),\n",
        "#                          layers.Conv2D(filters=6, kernel_size=(3, 3), activation='relu', input_shape=(32,32,1)), # input_shape=(None,None,3)\n",
        "#                             layers.AveragePooling2D(),\n",
        "#                             layers.Conv2D(filters=16, kernel_size=(3, 3), activation='relu'),\n",
        "#                             #layers.GlobalMaxPooling2D(),\n",
        "#                             layers.AveragePooling2D(),\n",
        "#                             layers.Flatten(),\n",
        "#                             layers.Dense(units=120, activation='relu'),\n",
        "#                             layers.Dense(units=84, activation='relu'),\n",
        "#                             layers.Dense(units=10, activation = 'softmax'),\n",
        "#                             #layers.GlobalMaxPooling2D()\n",
        "                            \n",
        "#                             ])\n",
        "\n",
        "\n",
        "\n",
        "\n",
        "\n",
        "\n",
        "\n",
        "\n",
        "#net = MobileNetV2(include_top=False, alpha=0.35, weights='imagenet', input_tensor=inputs, classes=n_classes)\n",
        "#net = model(inputs)\n",
        "#net = GlobalMaxPooling2D()(net.output)\n",
        "\n",
        "\n"
      ],
      "execution_count": null,
      "outputs": []
    },
    {
      "cell_type": "code",
      "metadata": {
        "id": "wA4yBc0l52Gw"
      },
      "source": [
        "#net.summary()"
      ],
      "execution_count": null,
      "outputs": []
    },
    {
      "cell_type": "code",
      "metadata": {
        "id": "ZtgqOWGQ6Ii6"
      },
      "source": [
        ""
      ],
      "execution_count": null,
      "outputs": []
    },
    {
      "cell_type": "code",
      "metadata": {
        "id": "7cP9sOByEhef"
      },
      "source": [
        ""
      ],
      "execution_count": null,
      "outputs": []
    },
    {
      "cell_type": "code",
      "metadata": {
        "id": "DGFKRoJlEhkD"
      },
      "source": [
        "#net.trainable = False"
      ],
      "execution_count": null,
      "outputs": []
    },
    {
      "cell_type": "code",
      "metadata": {
        "id": "TCSimylkEqFh"
      },
      "source": [
        "#net.summary()"
      ],
      "execution_count": null,
      "outputs": []
    },
    {
      "cell_type": "code",
      "metadata": {
        "id": "P5PT8uZkEqJu"
      },
      "source": [
        ""
      ],
      "execution_count": null,
      "outputs": []
    },
    {
      "cell_type": "code",
      "metadata": {
        "id": "S5xA998Q6InM"
      },
      "source": [
        "#x = net(inputs, training=False)"
      ],
      "execution_count": null,
      "outputs": []
    },
    {
      "cell_type": "code",
      "metadata": {
        "id": "miVOWQi7F0y0"
      },
      "source": [
        "# x = layers.Conv2D(filters=6, kernel_size=(3, 3), activation='relu')(x)\n",
        "# x = layers.AveragePooling2D()(x)\n",
        "# x = layers.Conv2D(filters=16, kernel_size=(3, 3), activation='relu')(x)\n",
        "# x = layers.AveragePooling2D()(x)"
      ],
      "execution_count": null,
      "outputs": []
    },
    {
      "cell_type": "code",
      "metadata": {
        "id": "ilnZQxKHKQBe"
      },
      "source": [
        "#x = layers.GlobalAveragePooling2D()(x)"
      ],
      "execution_count": null,
      "outputs": []
    },
    {
      "cell_type": "code",
      "metadata": {
        "id": "6uNNqwM7MPRm"
      },
      "source": [
        "#x = layers.Flatten()(x)"
      ],
      "execution_count": null,
      "outputs": []
    },
    {
      "cell_type": "code",
      "metadata": {
        "id": "VBqKA7umMQum"
      },
      "source": [
        "#x = layers.Dense(120)(x)"
      ],
      "execution_count": null,
      "outputs": []
    },
    {
      "cell_type": "code",
      "metadata": {
        "id": "LvQM9uQlMQz0"
      },
      "source": [
        "#x = layers.Dense(84)(x)"
      ],
      "execution_count": null,
      "outputs": []
    },
    {
      "cell_type": "code",
      "metadata": {
        "id": "dL6YS7PhMPWv"
      },
      "source": [
        ""
      ],
      "execution_count": null,
      "outputs": []
    },
    {
      "cell_type": "code",
      "metadata": {
        "id": "WkOUtwZcKQFc"
      },
      "source": [
        "#outputs = layers.Dense(2)(x)"
      ],
      "execution_count": null,
      "outputs": []
    },
    {
      "cell_type": "code",
      "metadata": {
        "id": "rfTKfUD6M7vA"
      },
      "source": [
        ""
      ],
      "execution_count": null,
      "outputs": []
    },
    {
      "cell_type": "code",
      "metadata": {
        "id": "C76_nZ9RKQKF"
      },
      "source": [
        "#model = Model(inputs, outputs)"
      ],
      "execution_count": null,
      "outputs": []
    },
    {
      "cell_type": "code",
      "metadata": {
        "id": "GIAg_CEnKQOT"
      },
      "source": [
        ""
      ],
      "execution_count": null,
      "outputs": []
    },
    {
      "cell_type": "code",
      "metadata": {
        "id": "nB2XamtDLHkV"
      },
      "source": [
        "#model.summary()"
      ],
      "execution_count": null,
      "outputs": []
    },
    {
      "cell_type": "code",
      "metadata": {
        "id": "AbcAbKjBLHpU"
      },
      "source": [
        "#model.compile(optimizer='Adam', loss='sparse_categorical_crossentropy',metrics=['sparse_categorical_accuracy'])"
      ],
      "execution_count": null,
      "outputs": []
    },
    {
      "cell_type": "code",
      "metadata": {
        "id": "o_3wXJObLNLa"
      },
      "source": [
        "#model.compile(optimizer='Adam', loss='binary_crossentropy',metrics=['binary_accuracy'])"
      ],
      "execution_count": null,
      "outputs": []
    },
    {
      "cell_type": "code",
      "metadata": {
        "id": "bkLg1z1lO07s"
      },
      "source": [
        ""
      ],
      "execution_count": null,
      "outputs": []
    },
    {
      "cell_type": "code",
      "metadata": {
        "id": "AoBNDZCMO1AI"
      },
      "source": [
        ""
      ],
      "execution_count": null,
      "outputs": []
    },
    {
      "cell_type": "code",
      "metadata": {
        "id": "UNqo4aqg5zB8"
      },
      "source": [
        "#data generator class; yields batches of data for training/testing\n",
        "class ImageGenerator():\n",
        "\n",
        "    def __init__(self, directory, batch_size=16, shuffle=False, max_dimension=None):        \n",
        "        \n",
        "        self.directories = directory\n",
        "        self.batch_size = batch_size\n",
        "        self.shuffle = shuffle\n",
        "        self.max_dimension = max_dimension\n",
        "        \n",
        "        self.image_paths = []\n",
        "        self.class_labels = []\n",
        "        \n",
        "        #create list of image file paths and class target labels\n",
        "        for class_label, class_dir in enumerate(listdir(directory)):\n",
        "            self.image_paths += [path.join(directory,class_dir,f) for f in listdir(path.join(directory,class_dir))]\n",
        "            self.class_labels += [class_label for _ in listdir(path.join(directory,class_dir))]\n",
        "\n",
        "        self.image_paths = np.array(self.image_paths)\n",
        "        self.class_labels = np.array(self.class_labels)\n",
        "\n",
        "        #index array for shuffling data\n",
        "        self.idx = np.arange(len(self.image_paths))\n",
        "        \n",
        "    \n",
        "    def __len__(self):\n",
        "        \n",
        "        #number of batches in an epoch\n",
        "        return int(np.ceil(len(self.image_paths)/float(self.batch_size)))\n",
        "    \n",
        "    \n",
        "    def _load_image(self,img_path):\n",
        "        \n",
        "        #load image from path and convert to array\n",
        "        img = load_img(img_path, color_mode='rgb', interpolation='nearest')\n",
        "        img = img_to_array(img)\n",
        "        \n",
        "        #downsample image if above allowed size if specified\n",
        "        max_dim = max(img.shape) \n",
        "        if self.max_dimension:\n",
        "            if max_dim > self.max_dimension:\n",
        "                new_dim = tuple(d*self.max_dimension//max_dim for d in img.shape[1::-1])\n",
        "                img = resize(img, new_dim)\n",
        "            \n",
        "        #scale image values\n",
        "        img = preprocess_input(img)\n",
        "\n",
        "        return img\n",
        "    \n",
        "    \n",
        "    def _pad_images(self,img,shape):\n",
        "        #pad images to match largest image in batch\n",
        "        img = np.pad(img,(*[((shape[i]-img.shape[i])//2,\n",
        "                    ((shape[i]-img.shape[i])//2) + ((shape[i]-img.shape[i])%2)) for i in range(2)],\n",
        "                          (0,0)),mode='constant',constant_values=0.)\n",
        "        \n",
        "        return img\n",
        "\n",
        "\n",
        "    def __call__(self):\n",
        "        #shuffle index\n",
        "        if self.shuffle:\n",
        "            np.random.shuffle(self.idx)\n",
        "        \n",
        "        #generate batches\n",
        "        for batch in range(len(self)):\n",
        "\n",
        "            batch_image_paths = self.image_paths[self.idx[batch*self.batch_size:(batch+1)*self.batch_size]]\n",
        "            batch_class_labels = self.class_labels[self.idx[batch*self.batch_size:(batch+1)*self.batch_size]]\n",
        "\n",
        "            batch_images = [self._load_image(image_path) for image_path in batch_image_paths]\n",
        "\n",
        "            max_resolution = tuple(max([img.shape[i] for img in batch_images]) for i in range(2))\n",
        "            batch_images = np.array([self._pad_images(image,max_resolution) for image in batch_images])\n",
        "\n",
        "            yield batch_images, batch_class_labels"
      ],
      "execution_count": null,
      "outputs": []
    },
    {
      "cell_type": "code",
      "metadata": {
        "id": "6pUQY993550c"
      },
      "source": [
        ""
      ],
      "execution_count": null,
      "outputs": []
    },
    {
      "cell_type": "code",
      "metadata": {
        "id": "ZrqNmaKZNysQ"
      },
      "source": [
        ""
      ],
      "execution_count": null,
      "outputs": []
    },
    {
      "cell_type": "code",
      "metadata": {
        "id": "1TT47dDMNywx"
      },
      "source": [
        ""
      ],
      "execution_count": null,
      "outputs": []
    },
    {
      "cell_type": "code",
      "metadata": {
        "id": "4lsQQYlcIC-y"
      },
      "source": [
        "#model.load_weights('insulators-v24.h5')"
      ],
      "execution_count": null,
      "outputs": []
    },
    {
      "cell_type": "code",
      "metadata": {
        "id": "sEv2vlVkNy1g"
      },
      "source": [
        ""
      ],
      "execution_count": null,
      "outputs": []
    },
    {
      "cell_type": "code",
      "metadata": {
        "id": "dNXd0bCC5541"
      },
      "source": [
        "#initialize our generators; specifying data directories, batch size, and dimension threshold\n",
        "\n",
        "train_image_directory = 'all_dataset_fold_1/train'\n",
        "test_image_directory = 'all_dataset_fold_1/validation/'\n",
        "\n",
        "n_classes = 10\n",
        "batch_size = 16\n",
        "max_dimension = 512\n",
        "\n",
        "#create generators for training and generating\n",
        "\n",
        "train_generator = ImageGenerator(train_image_directory, batch_size=batch_size, shuffle=True, max_dimension=max_dimension)\n",
        "test_generator = ImageGenerator(test_image_directory, batch_size=batch_size, max_dimension=max_dimension)\n",
        "\n",
        "#convert generators into tf.data.Dataset objects for optimization with keras model fit method\n",
        "\n",
        "train_dataset = tf.data.Dataset.from_generator(train_generator,\n",
        "     (tf.float32, tf.int32),\n",
        "    (tf.TensorShape([None,None,None,3]), tf.TensorShape([None])))\n",
        "\n",
        "test_dataset = tf.data.Dataset.from_generator(test_generator,\n",
        "     (tf.float32, tf.int32),\n",
        "    (tf.TensorShape([None,None,None,3]), tf.TensorShape([None])))\n",
        "\n",
        "log_dir = \"logs/fit/\" + datetime.datetime.now().strftime(\"%Y%m%d-%H%M%S\")\n",
        "tensorboard_callback = tf.keras.callbacks.TensorBoard(log_dir=log_dir, histogram_freq=1)\n",
        "\n",
        "\n",
        "#train and evaluate model\n",
        "#history = model.fit(train_dataset,validation_data=test_dataset,epochs=5,verbose=1,workers=2,max_queue_size=20, callbacks=[tensorboard_callback])"
      ],
      "execution_count": null,
      "outputs": []
    },
    {
      "cell_type": "code",
      "metadata": {
        "id": "fShVu-LikNLr"
      },
      "source": [
        ""
      ],
      "execution_count": null,
      "outputs": []
    },
    {
      "cell_type": "code",
      "metadata": {
        "id": "LSrWfpTEkNQz"
      },
      "source": [
        "#history = model.fit(train_dataset,validation_data=test_dataset,epochs=2,verbose=1)"
      ],
      "execution_count": null,
      "outputs": []
    },
    {
      "cell_type": "code",
      "metadata": {
        "id": "5PX64mG6558a"
      },
      "source": [
        "#history = model.fit(train_dataset,validation_data=test_dataset,epochs=2,verbose=1)"
      ],
      "execution_count": null,
      "outputs": []
    },
    {
      "cell_type": "code",
      "metadata": {
        "id": "9qaFTuBxOGp0"
      },
      "source": [
        ""
      ],
      "execution_count": null,
      "outputs": []
    },
    {
      "cell_type": "code",
      "metadata": {
        "id": "Mld10ngROGuF"
      },
      "source": [
        ""
      ],
      "execution_count": null,
      "outputs": []
    },
    {
      "cell_type": "code",
      "metadata": {
        "id": "HQffqt-tOGyM"
      },
      "source": [
        ""
      ],
      "execution_count": null,
      "outputs": []
    },
    {
      "cell_type": "code",
      "metadata": {
        "id": "DDz2fTPoOG1_"
      },
      "source": [
        "# %tensorboard --logdir logs/fit"
      ],
      "execution_count": null,
      "outputs": []
    },
    {
      "cell_type": "code",
      "metadata": {
        "id": "mPWWNamSIC6D"
      },
      "source": [
        "# Save the entire model to a HDF5 file\n",
        "# model.save('insulators-v24_fold_5_20.h5')"
      ],
      "execution_count": null,
      "outputs": []
    },
    {
      "cell_type": "markdown",
      "metadata": {
        "id": "onPSA7edIZzE"
      },
      "source": [
        "Visualize"
      ]
    },
    {
      "cell_type": "code",
      "metadata": {
        "id": "8y43g1SZLET-"
      },
      "source": [
        ""
      ],
      "execution_count": null,
      "outputs": []
    },
    {
      "cell_type": "code",
      "metadata": {
        "id": "e2BYqVLXLEYD"
      },
      "source": [
        "import matplotlib.pyplot as plt"
      ],
      "execution_count": null,
      "outputs": []
    },
    {
      "cell_type": "code",
      "metadata": {
        "id": "z7gQI38q_txj"
      },
      "source": [
        "# acc = history.history['accuracy']\n",
        "# val_acc = history.history['val_accuracy']\n",
        "\n",
        "# loss = history.history['loss']\n",
        "# val_loss = history.history['val_loss']\n",
        "\n",
        "# epochs_range = range(12)\n",
        "\n",
        "# plt.figure(figsize=(25, 8))\n",
        "# plt.subplot(1, 2, 1)\n",
        "\n",
        "\n",
        "# #plt.plot(epochs_range, acc, label='Training Accuracy')\n",
        "# #plt.plot(epochs_range, val_acc, label='Validation Accuracy')\n",
        "\n",
        "# plt.plot(acc, label='Training Accuracy')\n",
        "# plt.plot(val_acc, label='Validation Accuracy')\n",
        "\n",
        "\n",
        "# plt.legend(loc='lower right')\n",
        "# plt.title('Training and Validation Accuracy')\n",
        "\n",
        "# plt.subplot(1, 2, 2)\n",
        "# #plt.plot(epochs_range, loss, label='Training Loss')\n",
        "# #plt.plot(epochs_range, val_loss, label='Validation Loss')\n",
        "\n",
        "\n",
        "# plt.plot(loss, label='Training Loss')\n",
        "# plt.plot(val_loss, label='Validation Loss')\n",
        "\n",
        "# plt.legend(loc='upper right')\n",
        "# plt.title('Training and Validation Loss')\n",
        "# plt.show()"
      ],
      "execution_count": null,
      "outputs": []
    },
    {
      "cell_type": "code",
      "metadata": {
        "id": "o-P9EzTm_t2E"
      },
      "source": [
        ""
      ],
      "execution_count": null,
      "outputs": []
    },
    {
      "cell_type": "code",
      "metadata": {
        "id": "WavzSdZvIYZW"
      },
      "source": [
        "# acc = history.history['sparse_categorical_accuracy']\n",
        "# val_acc = history.history['val_sparse_categorical_accuracy']\n",
        "\n",
        "# loss = history.history['loss']\n",
        "# val_loss = history.history['val_loss']\n",
        "\n",
        "# epochs_range = range(12)\n",
        "\n",
        "# plt.figure(figsize=(25, 8))\n",
        "# plt.subplot(1, 2, 1)\n",
        "\n",
        "\n",
        "# #plt.plot(epochs_range, acc, label='Training Accuracy')\n",
        "# #plt.plot(epochs_range, val_acc, label='Validation Accuracy')\n",
        "\n",
        "# plt.plot(acc, label='Training Accuracy')\n",
        "# plt.plot(val_acc, label='Validation Accuracy')\n",
        "\n",
        "\n",
        "# plt.legend(loc='lower right')\n",
        "# plt.title('Training and Validation Accuracy')\n",
        "\n",
        "# plt.subplot(1, 2, 2)\n",
        "# #plt.plot(epochs_range, loss, label='Training Loss')\n",
        "# #plt.plot(epochs_range, val_loss, label='Validation Loss')\n",
        "\n",
        "\n",
        "# plt.plot(loss, label='Training Loss')\n",
        "# plt.plot(val_loss, label='Validation Loss')\n",
        "\n",
        "# plt.legend(loc='upper right')\n",
        "# plt.title('Training and Validation Loss')\n",
        "# plt.show()"
      ],
      "execution_count": null,
      "outputs": []
    },
    {
      "cell_type": "code",
      "metadata": {
        "id": "YhMr0lP3IYdw"
      },
      "source": [
        ""
      ],
      "execution_count": null,
      "outputs": []
    },
    {
      "cell_type": "code",
      "metadata": {
        "id": "itABmUbTIYiC"
      },
      "source": [
        ""
      ],
      "execution_count": null,
      "outputs": []
    },
    {
      "cell_type": "markdown",
      "metadata": {
        "id": "bmMbjdyaKCm8"
      },
      "source": [
        "Evaluation"
      ]
    },
    {
      "cell_type": "code",
      "metadata": {
        "id": "KInf04UIKCDf"
      },
      "source": [
        ""
      ],
      "execution_count": null,
      "outputs": []
    },
    {
      "cell_type": "code",
      "metadata": {
        "id": "FjIWGE4OKZG8",
        "colab": {
          "base_uri": "https://localhost:8080/",
          "height": 182
        },
        "outputId": "cdd8661b-3b1d-4f8d-ffb4-552e0abbc237"
      },
      "source": [
        "test_loss, test_acc = model.evaluate_generator(test_dataset, verbose=0)\n",
        "\n",
        "#test_loss, test_acc = model.evaluate_generator(test_data_gen, verbose=0)\n",
        "\n",
        "print('\\nTest accuracy:', test_acc)\n",
        "\n",
        "\n",
        "\n",
        "print('\\nTest accuracy:', test_acc)\n",
        "\n",
        "print('\\nTest loss:', test_loss)\n",
        "\n",
        "\n",
        "#model.evaluate(train_dataset)\n",
        "\n",
        "\n",
        "\n",
        "\n",
        "\n",
        "\n"
      ],
      "execution_count": null,
      "outputs": [
        {
          "output_type": "stream",
          "text": [
            "WARNING:tensorflow:From <ipython-input-46-83cb4ae9341c>:1: Model.evaluate_generator (from tensorflow.python.keras.engine.training) is deprecated and will be removed in a future version.\n",
            "Instructions for updating:\n",
            "Please use Model.evaluate, which supports generators.\n",
            "\n",
            "Test accuracy: 0.9153936505317688\n",
            "\n",
            "Test accuracy: 0.9153936505317688\n",
            "\n",
            "Test loss: 0.19328716397285461\n"
          ],
          "name": "stdout"
        }
      ]
    },
    {
      "cell_type": "code",
      "metadata": {
        "id": "VGdfCkpOKp0w"
      },
      "source": [
        "# from sklearn.metrics import roc_curve\n",
        "# y_pred_keras = model.predict(train_dataset).ravel()\n"
      ],
      "execution_count": null,
      "outputs": []
    },
    {
      "cell_type": "code",
      "metadata": {
        "id": "yF20D0jNL5Z4"
      },
      "source": [
        ""
      ],
      "execution_count": null,
      "outputs": []
    },
    {
      "cell_type": "code",
      "metadata": {
        "id": "QGc5jniQKp5i",
        "colab": {
          "base_uri": "https://localhost:8080/",
          "height": 90
        },
        "outputId": "edd2ef3c-08a2-461b-c54f-8e33a2b7ddd4"
      },
      "source": [
        "\n",
        "predictions_mn = model_mn.predict_generator(test_dataset)\n",
        "\n",
        "## Make predictions on test data ##\n",
        "\n",
        "### Let's make predictions on some images ###\n",
        "\n",
        "test_generator.class_labels\n",
        "\n",
        "predictions = model.predict_generator(test_dataset)\n",
        "\n",
        "true_labels = test_generator.class_labels\n",
        "\n",
        "predictions[0]\n",
        "\n",
        "np.argmax(predictions[0])\n",
        "\n",
        "test_generator.class_labels[0]\n",
        "\n",
        "predictions[-1]\n",
        "\n",
        "np.argmax(predictions[-1])\n",
        "\n",
        "test_generator.class_labels[-1]\n",
        "\n",
        "\n",
        "\n",
        "#test_dataset.classes"
      ],
      "execution_count": null,
      "outputs": [
        {
          "output_type": "stream",
          "text": [
            "WARNING:tensorflow:From <ipython-input-48-a87b5e4f00d1>:2: Model.predict_generator (from tensorflow.python.keras.engine.training) is deprecated and will be removed in a future version.\n",
            "Instructions for updating:\n",
            "Please use Model.predict, which supports generators.\n"
          ],
          "name": "stdout"
        },
        {
          "output_type": "execute_result",
          "data": {
            "text/plain": [
              "1"
            ]
          },
          "metadata": {
            "tags": []
          },
          "execution_count": 48
        }
      ]
    },
    {
      "cell_type": "code",
      "metadata": {
        "id": "DXV0a-08MpRm"
      },
      "source": [
        ""
      ],
      "execution_count": null,
      "outputs": []
    },
    {
      "cell_type": "code",
      "metadata": {
        "id": "zotUK5EMKZK5",
        "colab": {
          "base_uri": "https://localhost:8080/",
          "height": 35
        },
        "outputId": "3c4574de-d735-4e76-c806-575ac513b0b0"
      },
      "source": [
        "type(test_dataset)\n"
      ],
      "execution_count": null,
      "outputs": [
        {
          "output_type": "execute_result",
          "data": {
            "text/plain": [
              "tensorflow.python.data.ops.dataset_ops.FlatMapDataset"
            ]
          },
          "metadata": {
            "tags": []
          },
          "execution_count": 49
        }
      ]
    },
    {
      "cell_type": "code",
      "metadata": {
        "id": "83SaEY0ybOeK"
      },
      "source": [
        "#test_generator.image_paths\n",
        "\n"
      ],
      "execution_count": null,
      "outputs": []
    },
    {
      "cell_type": "code",
      "metadata": {
        "id": "IxqmnEMybOir",
        "colab": {
          "base_uri": "https://localhost:8080/",
          "height": 733
        },
        "outputId": "717860c6-5a83-4170-fbf9-ca609a2f4ccc"
      },
      "source": [
        "test_generator.class_labels"
      ],
      "execution_count": null,
      "outputs": [
        {
          "output_type": "execute_result",
          "data": {
            "text/plain": [
              "array([0, 0, 0, 0, 0, 0, 0, 0, 0, 0, 0, 0, 0, 0, 0, 0, 0, 0, 0, 0, 0, 0,\n",
              "       0, 0, 0, 0, 0, 0, 0, 0, 0, 0, 0, 0, 0, 0, 0, 0, 0, 0, 0, 0, 0, 0,\n",
              "       0, 0, 0, 0, 0, 0, 0, 0, 0, 0, 0, 0, 0, 0, 0, 0, 0, 0, 0, 0, 0, 0,\n",
              "       0, 0, 0, 0, 0, 0, 0, 0, 0, 0, 0, 0, 0, 0, 0, 0, 0, 0, 0, 0, 0, 0,\n",
              "       0, 0, 0, 0, 0, 0, 0, 0, 0, 0, 0, 0, 0, 0, 0, 0, 0, 0, 0, 0, 0, 0,\n",
              "       0, 0, 0, 0, 0, 0, 0, 0, 0, 0, 0, 0, 0, 0, 0, 0, 0, 0, 0, 0, 0, 0,\n",
              "       0, 0, 0, 0, 0, 0, 0, 0, 0, 0, 0, 0, 0, 0, 0, 0, 0, 0, 0, 0, 0, 0,\n",
              "       0, 0, 0, 0, 0, 0, 0, 0, 0, 0, 0, 0, 0, 0, 0, 0, 0, 0, 0, 0, 0, 0,\n",
              "       0, 0, 0, 0, 0, 0, 0, 0, 0, 0, 0, 0, 0, 0, 0, 0, 0, 0, 0, 0, 0, 0,\n",
              "       0, 0, 0, 0, 0, 0, 0, 0, 0, 0, 0, 0, 0, 0, 0, 0, 0, 0, 0, 0, 0, 0,\n",
              "       0, 0, 0, 0, 0, 0, 0, 0, 0, 0, 0, 0, 0, 0, 0, 0, 0, 0, 0, 0, 0, 0,\n",
              "       0, 0, 0, 0, 0, 0, 0, 0, 0, 0, 0, 0, 0, 0, 0, 0, 0, 0, 0, 0, 0, 0,\n",
              "       0, 0, 0, 0, 0, 0, 0, 0, 0, 0, 0, 0, 0, 0, 0, 0, 0, 0, 0, 0, 1, 1,\n",
              "       1, 1, 1, 1, 1, 1, 1, 1, 1, 1, 1, 1, 1, 1, 1, 1, 1, 1, 1, 1, 1, 1,\n",
              "       1, 1, 1, 1, 1, 1, 1, 1, 1, 1, 1, 1, 1, 1, 1, 1, 1, 1, 1, 1, 1, 1,\n",
              "       1, 1, 1, 1, 1, 1, 1, 1, 1, 1, 1, 1, 1, 1, 1, 1, 1, 1, 1, 1, 1, 1,\n",
              "       1, 1, 1, 1, 1, 1, 1, 1, 1, 1, 1, 1, 1, 1, 1, 1, 1, 1, 1, 1, 1, 1,\n",
              "       1, 1, 1, 1, 1, 1, 1, 1, 1, 1, 1, 1, 1, 1, 1, 1, 1, 1, 1, 1, 1, 1,\n",
              "       1, 1, 1, 1, 1, 1, 1, 1, 1, 1, 1, 1, 1, 1, 1, 1, 1, 1, 1, 1, 1, 1,\n",
              "       1, 1, 1, 1, 1, 1, 1, 1, 1, 1, 1, 1, 1, 1, 1, 1, 1, 1, 1, 1, 1, 1,\n",
              "       1, 1, 1, 1, 1, 1, 1, 1, 1, 1, 1, 1, 1, 1, 1, 1, 1, 1, 1, 1, 1, 1,\n",
              "       1, 1, 1, 1, 1, 1, 1, 1, 1, 1, 1, 1, 1, 1, 1, 1, 1, 1, 1, 1, 1, 1,\n",
              "       1, 1, 1, 1, 1, 1, 1, 1, 1, 1, 1, 1, 1, 1, 1, 1, 1, 1, 1, 1, 1, 1,\n",
              "       1, 1, 1, 1, 1, 1, 1, 1, 1, 1, 1, 1, 1, 1, 1, 1, 1, 1, 1, 1, 1, 1,\n",
              "       1, 1, 1, 1, 1, 1, 1, 1, 1, 1, 1, 1, 1, 1, 1, 1, 1, 1, 1, 1, 1, 1,\n",
              "       1, 1, 1, 1, 1, 1, 1, 1, 1, 1, 1, 1, 1, 1, 1, 1, 1, 1, 1, 1, 1, 1,\n",
              "       1, 1, 1, 1, 1, 1, 1, 1, 1, 1, 1, 1, 1, 1, 1, 1, 1, 1, 1, 1, 1, 1,\n",
              "       1, 1, 1, 1, 1, 1, 1, 1, 1, 1, 1, 1, 1, 1, 1, 1, 1, 1, 1, 1, 1, 1,\n",
              "       1, 1, 1, 1, 1, 1, 1, 1, 1, 1, 1, 1, 1, 1, 1, 1, 1, 1, 1, 1, 1, 1,\n",
              "       1, 1, 1, 1, 1, 1, 1, 1, 1, 1, 1, 1, 1, 1, 1, 1, 1, 1, 1, 1, 1, 1,\n",
              "       1, 1, 1, 1, 1, 1, 1, 1, 1, 1, 1, 1, 1, 1, 1, 1, 1, 1, 1, 1, 1, 1,\n",
              "       1, 1, 1, 1, 1, 1, 1, 1, 1, 1, 1, 1, 1, 1, 1, 1, 1, 1, 1, 1, 1, 1,\n",
              "       1, 1, 1, 1, 1, 1, 1, 1, 1, 1, 1, 1, 1, 1, 1, 1, 1, 1, 1, 1, 1, 1,\n",
              "       1, 1, 1, 1, 1, 1, 1, 1, 1, 1, 1, 1, 1, 1, 1, 1, 1, 1, 1, 1, 1, 1,\n",
              "       1, 1, 1, 1, 1, 1, 1, 1, 1, 1, 1, 1, 1, 1, 1, 1, 1, 1, 1, 1, 1, 1,\n",
              "       1, 1, 1, 1, 1, 1, 1, 1, 1, 1, 1, 1, 1, 1, 1, 1, 1, 1, 1, 1, 1, 1,\n",
              "       1, 1, 1, 1, 1, 1, 1, 1, 1, 1, 1, 1, 1, 1, 1, 1, 1, 1, 1, 1, 1, 1,\n",
              "       1, 1, 1, 1, 1, 1, 1, 1, 1, 1, 1, 1, 1, 1, 1, 1, 1, 1, 1, 1, 1, 1,\n",
              "       1, 1, 1, 1, 1, 1, 1, 1, 1, 1, 1, 1, 1, 1, 1])"
            ]
          },
          "metadata": {
            "tags": []
          },
          "execution_count": 51
        }
      ]
    },
    {
      "cell_type": "code",
      "metadata": {
        "id": "xTTi4cZqbOmU"
      },
      "source": [
        ""
      ],
      "execution_count": null,
      "outputs": []
    },
    {
      "cell_type": "code",
      "metadata": {
        "id": "vEXQ7HpWKZOd"
      },
      "source": [
        ""
      ],
      "execution_count": null,
      "outputs": []
    },
    {
      "cell_type": "code",
      "metadata": {
        "id": "LBM1ISA7KZST",
        "colab": {
          "base_uri": "https://localhost:8080/",
          "height": 312
        },
        "outputId": "68321322-d40a-4d4f-c9ca-ab81c7169f03"
      },
      "source": [
        "## Confusion Matrix ##\n",
        "\n",
        "from sklearn.metrics import confusion_matrix\n",
        "import matplotlib.pyplot as plt\n",
        "import numpy as np\n",
        "\n",
        "\n",
        "\n",
        "y_true = true_labels\n",
        "y_pred = np.array([np.argmax(x) for x in predictions])\n",
        "\n",
        "y_pred_mn = np.array([np.argmax(x) for x in predictions_mn])\n",
        "\n",
        "y_pred\n",
        "\n",
        "\n",
        "\n",
        "\n",
        "\n",
        "cm = confusion_matrix(y_true, y_pred)\n",
        "\n",
        "print(cm)\n",
        "\n",
        "\n",
        "\n",
        "plt.matshow(cm, cmap=plt.cm.gray)\n",
        "plt.show()"
      ],
      "execution_count": null,
      "outputs": [
        {
          "output_type": "stream",
          "text": [
            "[[214  70]\n",
            " [  2 565]]\n"
          ],
          "name": "stdout"
        },
        {
          "output_type": "display_data",
          "data": {
            "image/png": "[encoded data removed]",
            "text/plain": [
              "<Figure size 288x288 with 1 Axes>"
            ]
          },
          "metadata": {
            "tags": [],
            "needs_background": "light"
          }
        }
      ]
    },
    {
      "cell_type": "code",
      "metadata": {
        "id": "8EmRhfnShGTU",
        "colab": {
          "base_uri": "https://localhost:8080/",
          "height": 312
        },
        "outputId": "cefb4f5c-dbc7-4bd6-e823-35d1b00095ce"
      },
      "source": [
        "## Confusion Matrix ##\n",
        "\n",
        "from sklearn.metrics import confusion_matrix\n",
        "import matplotlib.pyplot as plt\n",
        "import numpy as np\n",
        "\n",
        "\n",
        "\n",
        "y_true = true_labels\n",
        "y_pred = np.array([np.argmax(x) for x in predictions])\n",
        "\n",
        "y_pred_mn = np.array([np.argmax(x) for x in predictions_mn])\n",
        "\n",
        "y_pred\n",
        "\n",
        "\n",
        "\n",
        "\n",
        "\n",
        "cm_mn = confusion_matrix(y_true, y_pred_mn)\n",
        "\n",
        "print(cm_mn)\n",
        "\n",
        "\n",
        "\n",
        "plt.matshow(cm_mn, cmap=plt.cm.gray)\n",
        "plt.show()"
      ],
      "execution_count": null,
      "outputs": [
        {
          "output_type": "stream",
          "text": [
            "[[234  50]\n",
            " [ 16 551]]\n"
          ],
          "name": "stdout"
        },
        {
          "output_type": "display_data",
          "data": {
            "image/png": "[encoded data removed]",
            "text/plain": [
              "<Figure size 288x288 with 1 Axes>"
            ]
          },
          "metadata": {
            "tags": [],
            "needs_background": "light"
          }
        }
      ]
    },
    {
      "cell_type": "code",
      "metadata": {
        "id": "iSJiAOFGKZWt",
        "colab": {
          "base_uri": "https://localhost:8080/",
          "height": 733
        },
        "outputId": "ec8167f5-9640-4932-ac2b-0834a967abbe"
      },
      "source": [
        "y_pred"
      ],
      "execution_count": null,
      "outputs": [
        {
          "output_type": "execute_result",
          "data": {
            "text/plain": [
              "array([0, 0, 0, 0, 0, 0, 0, 0, 0, 0, 1, 0, 1, 0, 0, 0, 0, 1, 0, 1, 0, 0,\n",
              "       0, 1, 1, 0, 0, 0, 0, 1, 0, 0, 0, 0, 0, 0, 0, 0, 1, 0, 0, 0, 0, 0,\n",
              "       1, 0, 1, 1, 0, 0, 0, 0, 0, 0, 0, 0, 0, 0, 1, 0, 0, 0, 0, 0, 0, 0,\n",
              "       1, 1, 0, 0, 0, 0, 0, 0, 1, 0, 0, 0, 0, 0, 1, 0, 0, 0, 0, 0, 0, 0,\n",
              "       0, 0, 0, 0, 1, 0, 0, 1, 0, 0, 0, 0, 1, 1, 0, 0, 0, 0, 0, 0, 1, 0,\n",
              "       1, 0, 0, 1, 0, 0, 0, 1, 0, 0, 0, 0, 0, 0, 0, 0, 0, 1, 1, 0, 1, 0,\n",
              "       0, 0, 0, 0, 1, 0, 1, 1, 1, 1, 1, 0, 1, 1, 0, 1, 0, 0, 0, 0, 0, 0,\n",
              "       0, 0, 0, 0, 0, 0, 0, 0, 0, 0, 0, 0, 0, 0, 0, 0, 0, 0, 1, 0, 0, 1,\n",
              "       0, 0, 0, 0, 0, 0, 1, 0, 0, 0, 0, 0, 0, 0, 1, 0, 0, 0, 1, 0, 1, 0,\n",
              "       0, 1, 1, 0, 0, 0, 0, 0, 1, 1, 1, 0, 1, 1, 0, 1, 1, 0, 1, 0, 1, 1,\n",
              "       0, 0, 0, 1, 1, 1, 1, 0, 0, 0, 0, 0, 0, 0, 0, 0, 0, 0, 0, 1, 0, 0,\n",
              "       0, 0, 1, 0, 0, 0, 0, 0, 1, 0, 0, 0, 0, 0, 0, 0, 1, 1, 0, 0, 0, 1,\n",
              "       0, 0, 0, 0, 0, 0, 0, 0, 0, 0, 1, 0, 1, 0, 1, 0, 1, 1, 0, 1, 1, 1,\n",
              "       1, 1, 1, 1, 1, 1, 1, 1, 1, 1, 1, 1, 1, 1, 1, 1, 1, 1, 1, 1, 1, 1,\n",
              "       1, 1, 1, 1, 1, 1, 1, 1, 1, 1, 1, 1, 1, 1, 1, 1, 1, 1, 1, 1, 1, 1,\n",
              "       1, 1, 1, 1, 1, 1, 1, 1, 1, 1, 1, 1, 1, 1, 1, 1, 1, 1, 1, 1, 1, 1,\n",
              "       1, 1, 1, 1, 1, 1, 1, 1, 1, 1, 1, 1, 1, 1, 1, 1, 1, 1, 1, 1, 1, 1,\n",
              "       1, 1, 1, 1, 1, 1, 1, 1, 1, 1, 1, 1, 1, 1, 1, 1, 1, 1, 1, 1, 1, 0,\n",
              "       1, 1, 1, 1, 1, 1, 1, 1, 1, 1, 1, 1, 1, 1, 1, 1, 1, 1, 1, 1, 1, 1,\n",
              "       1, 1, 1, 1, 1, 1, 1, 1, 1, 1, 1, 1, 1, 1, 1, 1, 1, 1, 1, 1, 1, 1,\n",
              "       1, 1, 1, 1, 1, 1, 1, 1, 1, 1, 1, 1, 1, 1, 1, 1, 1, 1, 1, 1, 1, 1,\n",
              "       1, 1, 1, 1, 1, 1, 1, 1, 1, 1, 1, 1, 1, 1, 1, 1, 1, 1, 1, 1, 1, 1,\n",
              "       1, 1, 1, 1, 1, 1, 1, 1, 1, 1, 1, 1, 1, 1, 1, 1, 1, 1, 1, 1, 1, 1,\n",
              "       1, 1, 1, 1, 1, 1, 1, 1, 1, 1, 1, 1, 1, 1, 1, 1, 1, 1, 1, 1, 1, 1,\n",
              "       1, 1, 1, 1, 1, 1, 1, 1, 1, 1, 1, 1, 1, 1, 1, 1, 1, 1, 1, 1, 1, 1,\n",
              "       1, 1, 1, 1, 1, 1, 1, 1, 1, 1, 1, 1, 1, 1, 1, 1, 1, 1, 1, 1, 1, 1,\n",
              "       1, 1, 1, 1, 1, 1, 1, 1, 1, 1, 1, 1, 1, 1, 1, 1, 1, 1, 1, 1, 1, 1,\n",
              "       1, 1, 1, 1, 1, 1, 1, 1, 1, 1, 0, 1, 1, 1, 1, 1, 1, 1, 1, 1, 1, 1,\n",
              "       1, 1, 1, 1, 1, 1, 1, 1, 1, 1, 1, 1, 1, 1, 1, 1, 1, 1, 1, 1, 1, 1,\n",
              "       1, 1, 1, 1, 1, 1, 1, 1, 1, 1, 1, 1, 1, 1, 1, 1, 1, 1, 1, 1, 1, 1,\n",
              "       1, 1, 1, 1, 1, 1, 1, 1, 1, 1, 1, 1, 1, 1, 1, 1, 1, 1, 1, 1, 1, 1,\n",
              "       1, 1, 1, 1, 1, 1, 1, 1, 1, 1, 1, 1, 1, 1, 1, 1, 1, 1, 1, 1, 1, 1,\n",
              "       1, 1, 1, 1, 1, 1, 1, 1, 1, 1, 1, 1, 1, 1, 1, 1, 1, 1, 1, 1, 1, 1,\n",
              "       1, 1, 1, 1, 1, 1, 1, 1, 1, 1, 1, 1, 1, 1, 1, 1, 1, 1, 1, 1, 1, 1,\n",
              "       1, 1, 1, 1, 1, 1, 1, 1, 1, 1, 1, 1, 1, 1, 1, 1, 1, 1, 1, 1, 1, 1,\n",
              "       1, 1, 1, 1, 1, 1, 1, 1, 1, 1, 1, 1, 1, 1, 1, 1, 1, 1, 1, 1, 1, 1,\n",
              "       1, 1, 1, 1, 1, 1, 1, 1, 1, 1, 1, 1, 1, 1, 1, 1, 1, 1, 1, 1, 1, 1,\n",
              "       1, 1, 1, 1, 1, 1, 1, 1, 1, 1, 1, 1, 1, 1, 1, 1, 1, 1, 1, 1, 1, 1,\n",
              "       1, 1, 1, 1, 1, 1, 1, 1, 1, 1, 1, 1, 1, 1, 1])"
            ]
          },
          "metadata": {
            "tags": []
          },
          "execution_count": 54
        }
      ]
    },
    {
      "cell_type": "code",
      "metadata": {
        "id": "ynXlPbz4epJn",
        "colab": {
          "base_uri": "https://localhost:8080/",
          "height": 733
        },
        "outputId": "640acf94-922b-4c76-971e-ef9cc169ae74"
      },
      "source": [
        "y_pred_mn"
      ],
      "execution_count": null,
      "outputs": [
        {
          "output_type": "execute_result",
          "data": {
            "text/plain": [
              "array([0, 0, 0, 0, 0, 0, 0, 0, 0, 0, 1, 0, 0, 0, 0, 0, 1, 0, 0, 0, 1, 0,\n",
              "       0, 1, 0, 0, 0, 0, 0, 0, 0, 0, 1, 0, 0, 0, 0, 0, 1, 0, 0, 0, 1, 1,\n",
              "       0, 0, 0, 1, 0, 0, 1, 0, 0, 0, 0, 0, 0, 0, 0, 0, 0, 0, 1, 0, 0, 0,\n",
              "       1, 0, 0, 0, 0, 0, 0, 0, 1, 0, 0, 0, 0, 0, 1, 0, 1, 0, 0, 0, 0, 0,\n",
              "       0, 0, 1, 0, 1, 0, 0, 0, 0, 0, 0, 0, 0, 0, 0, 0, 0, 0, 0, 0, 1, 0,\n",
              "       1, 0, 0, 0, 1, 0, 0, 1, 0, 0, 0, 0, 0, 1, 0, 0, 0, 0, 1, 0, 0, 0,\n",
              "       0, 0, 1, 0, 0, 0, 0, 0, 0, 1, 0, 0, 1, 1, 0, 0, 0, 0, 0, 0, 0, 0,\n",
              "       1, 0, 0, 0, 0, 0, 0, 0, 0, 0, 0, 0, 0, 0, 0, 0, 0, 0, 0, 0, 0, 0,\n",
              "       0, 0, 0, 0, 1, 1, 1, 0, 0, 0, 0, 0, 0, 0, 1, 1, 0, 0, 0, 0, 0, 1,\n",
              "       0, 0, 0, 0, 0, 0, 0, 1, 0, 1, 1, 0, 1, 0, 0, 0, 1, 0, 0, 0, 1, 1,\n",
              "       1, 0, 0, 1, 0, 1, 0, 0, 0, 0, 0, 0, 0, 0, 0, 0, 0, 0, 0, 0, 0, 0,\n",
              "       0, 0, 0, 0, 0, 0, 0, 0, 1, 0, 1, 0, 0, 0, 0, 0, 1, 0, 0, 0, 0, 0,\n",
              "       0, 0, 0, 0, 1, 0, 0, 0, 0, 0, 1, 0, 0, 0, 1, 0, 0, 0, 0, 0, 1, 1,\n",
              "       1, 1, 1, 1, 1, 1, 1, 1, 1, 1, 1, 1, 1, 1, 1, 1, 1, 1, 1, 1, 1, 1,\n",
              "       1, 1, 1, 1, 1, 1, 1, 0, 1, 1, 1, 0, 1, 1, 1, 1, 1, 1, 1, 1, 1, 1,\n",
              "       1, 1, 1, 1, 1, 1, 1, 1, 1, 1, 1, 1, 1, 1, 1, 1, 1, 1, 1, 1, 0, 1,\n",
              "       1, 1, 1, 1, 1, 1, 1, 1, 1, 1, 1, 1, 1, 1, 1, 1, 1, 1, 1, 1, 1, 1,\n",
              "       1, 1, 1, 1, 1, 1, 1, 1, 1, 1, 1, 1, 1, 1, 1, 1, 1, 1, 1, 1, 1, 0,\n",
              "       1, 1, 1, 1, 1, 1, 1, 1, 1, 1, 1, 1, 1, 1, 1, 1, 1, 1, 1, 1, 1, 1,\n",
              "       1, 1, 1, 1, 1, 1, 1, 1, 1, 1, 1, 1, 1, 1, 1, 1, 0, 1, 1, 1, 1, 1,\n",
              "       1, 1, 1, 1, 1, 1, 1, 1, 1, 1, 1, 1, 1, 1, 1, 1, 1, 1, 1, 1, 1, 1,\n",
              "       1, 1, 1, 1, 1, 1, 1, 1, 1, 1, 1, 1, 1, 1, 1, 1, 1, 1, 1, 1, 1, 1,\n",
              "       1, 1, 1, 1, 1, 1, 1, 1, 1, 1, 1, 1, 1, 1, 1, 1, 1, 1, 1, 1, 1, 1,\n",
              "       1, 1, 1, 1, 1, 1, 1, 1, 1, 1, 1, 1, 1, 1, 1, 1, 1, 1, 1, 1, 1, 1,\n",
              "       0, 1, 1, 1, 1, 1, 1, 1, 1, 1, 1, 1, 1, 1, 1, 1, 1, 1, 1, 1, 1, 1,\n",
              "       1, 1, 1, 1, 1, 1, 1, 1, 1, 1, 1, 1, 1, 1, 1, 1, 1, 1, 1, 1, 1, 1,\n",
              "       1, 1, 1, 1, 1, 1, 1, 1, 1, 1, 1, 1, 1, 1, 1, 1, 1, 1, 1, 1, 1, 1,\n",
              "       1, 1, 1, 1, 1, 1, 1, 1, 1, 1, 0, 1, 1, 1, 1, 1, 0, 1, 1, 1, 1, 1,\n",
              "       1, 1, 1, 1, 1, 1, 1, 1, 1, 1, 1, 1, 1, 1, 1, 1, 1, 1, 1, 1, 1, 1,\n",
              "       1, 1, 1, 1, 1, 1, 1, 1, 1, 1, 1, 1, 1, 1, 1, 1, 1, 1, 1, 1, 1, 1,\n",
              "       1, 1, 1, 1, 1, 1, 1, 0, 1, 1, 1, 1, 1, 1, 1, 1, 1, 1, 1, 1, 1, 0,\n",
              "       1, 1, 1, 1, 1, 1, 1, 1, 0, 1, 1, 1, 1, 1, 1, 1, 1, 1, 1, 1, 1, 1,\n",
              "       1, 0, 1, 1, 1, 1, 1, 1, 1, 1, 1, 1, 1, 1, 1, 1, 1, 1, 1, 1, 1, 1,\n",
              "       1, 1, 1, 1, 1, 1, 1, 1, 1, 0, 1, 1, 1, 1, 1, 1, 1, 1, 1, 1, 1, 1,\n",
              "       1, 1, 1, 1, 1, 1, 1, 1, 1, 1, 1, 1, 1, 1, 0, 1, 1, 1, 1, 1, 1, 1,\n",
              "       1, 1, 1, 1, 1, 1, 1, 1, 1, 1, 1, 1, 1, 1, 1, 1, 1, 1, 1, 1, 1, 1,\n",
              "       1, 1, 1, 1, 1, 1, 1, 1, 1, 1, 1, 1, 1, 1, 1, 1, 1, 1, 1, 1, 1, 1,\n",
              "       1, 1, 1, 1, 1, 1, 1, 1, 1, 1, 1, 1, 1, 1, 1, 1, 1, 1, 1, 1, 1, 1,\n",
              "       1, 0, 1, 1, 1, 1, 0, 1, 1, 1, 1, 1, 1, 1, 1])"
            ]
          },
          "metadata": {
            "tags": []
          },
          "execution_count": 55
        }
      ]
    },
    {
      "cell_type": "code",
      "metadata": {
        "id": "LypLjapdKZax"
      },
      "source": [
        "from sklearn.metrics import roc_curve\n",
        "\n",
        "fpr_keras, tpr_keras, thresholds_keras = roc_curve(y_true, y_pred)\n",
        "\n",
        "\n",
        "\n",
        "#roc_auc_score(y_true, y_pred)\n",
        "\n",
        "fpr_keras_mn, tpr_keras_mn, thresholds_keras = roc_curve(y_true, y_pred_mn)\n",
        "\n",
        "#roc_auc_score(y_true, y_pred)\n"
      ],
      "execution_count": null,
      "outputs": []
    },
    {
      "cell_type": "code",
      "metadata": {
        "id": "J8OLU_rLNpAH",
        "colab": {
          "base_uri": "https://localhost:8080/",
          "height": 573
        },
        "outputId": "e890bd4d-8117-4e35-91fb-59b0c4bb0ebc"
      },
      "source": [
        "from sklearn.metrics import roc_auc_score\n",
        "from sklearn.metrics import auc\n",
        "fpr, tpr, _ = roc_curve(y_true, y_pred)\n",
        "fpr_mn, tpr_mn, _ = roc_curve(y_true, y_pred_mn)\n",
        "roc_auc = auc(fpr, tpr)\n",
        "roc_auc_mn = auc(fpr_mn, tpr_mn)\n",
        "\n",
        "lw = 2\n",
        "\n",
        "plt.figure(1)\n",
        "\n",
        "plt.plot([0, 1], [0, 1], 'k--')\n",
        "\n",
        "plt.plot(fpr, tpr, color='darkorange',lw=lw, label='ROC curve AdeNet (area = %0.3f)' % roc_auc)\n",
        "\n",
        "\n",
        "plt.plot(fpr_mn, tpr_mn, color='purple',lw=lw, label='ROC curve MobileNetV2 (area = %0.3f)' % roc_auc_mn)\n",
        "plt.plot([0, 1], [0, 1], color='navy', lw=lw, linestyle='--')\n",
        "\n",
        "plt.xlabel('False Positive Rate')\n",
        "plt.ylabel('True Positive Rate')\n",
        "plt.title('Receiver operating characteristic')\n",
        "plt.legend(loc=\"best\")\n",
        "plt.show()\n",
        "\n",
        "plt.figure(2)\n",
        "\n",
        "plt.xlim(0, 0.7)\n",
        "plt.ylim(0, 1.2)\n",
        "plt.plot([0, 1], [0, 1], 'k--')\n",
        "\n",
        "plt.plot(fpr, tpr, color='darkorange',lw=lw, label='ROC curve AdeNet (area = %0.3f)' % roc_auc)\n",
        "\n",
        "\n",
        "plt.plot(fpr_mn, tpr_mn, color='purple',lw=lw, label='ROC curve MobileNetV2 (area = %0.3f)' % roc_auc_mn)\n",
        "plt.plot([0, 1], [0, 1], color='navy', lw=lw, linestyle='--')\n",
        "\n",
        "plt.xlabel('False Positive Rate')\n",
        "plt.ylabel('True Positive Rate')\n",
        "plt.title('Receiver operating characteristic (Zoomed in at top-left)')\n",
        "plt.legend(loc=\"best\")\n",
        "plt.show()"
      ],
      "execution_count": null,
      "outputs": [
        {
          "output_type": "display_data",
          "data": {
            "image/png": "[encoded data removed]",
            "text/plain": [
              "<Figure size 432x288 with 1 Axes>"
            ]
          },
          "metadata": {
            "tags": [],
            "needs_background": "light"
          }
        },
        {
          "output_type": "display_data",
          "data": {
            "image/png": "[encoded data removed]",
            "text/plain": [
              "<Figure size 432x288 with 1 Axes>"
            ]
          },
          "metadata": {
            "tags": [],
            "needs_background": "light"
          }
        }
      ]
    },
    {
      "cell_type": "code",
      "metadata": {
        "id": "lzKdx6I3nu5t"
      },
      "source": [
        ""
      ],
      "execution_count": null,
      "outputs": []
    },
    {
      "cell_type": "code",
      "metadata": {
        "id": "jvoieV5_sAy5"
      },
      "source": [
        ""
      ],
      "execution_count": null,
      "outputs": []
    },
    {
      "cell_type": "code",
      "metadata": {
        "id": "j8DkrB_5KZe7"
      },
      "source": [
        "from sklearn.metrics import classification_report"
      ],
      "execution_count": null,
      "outputs": []
    },
    {
      "cell_type": "code",
      "metadata": {
        "id": "vAd5rrSyJcEp",
        "colab": {
          "base_uri": "https://localhost:8080/",
          "height": 182
        },
        "outputId": "6e8276e4-1818-4da2-d571-99aa2eee4912"
      },
      "source": [
        "target_names = ['undamaged', 'damaged']\n",
        "print(classification_report(y_true, y_pred, target_names=target_names))\n",
        "\n"
      ],
      "execution_count": null,
      "outputs": [
        {
          "output_type": "stream",
          "text": [
            "              precision    recall  f1-score   support\n",
            "\n",
            "   undamaged       0.99      0.75      0.86       284\n",
            "     damaged       0.89      1.00      0.94       567\n",
            "\n",
            "    accuracy                           0.92       851\n",
            "   macro avg       0.94      0.87      0.90       851\n",
            "weighted avg       0.92      0.92      0.91       851\n",
            "\n"
          ],
          "name": "stdout"
        }
      ]
    },
    {
      "cell_type": "code",
      "metadata": {
        "id": "V4nER7DGJcIk",
        "colab": {
          "base_uri": "https://localhost:8080/",
          "height": 182
        },
        "outputId": "cd614472-fbc1-4028-f3d8-8d0f215bb7dc"
      },
      "source": [
        "print(classification_report(y_true, y_pred_mn, target_names=target_names))"
      ],
      "execution_count": null,
      "outputs": [
        {
          "output_type": "stream",
          "text": [
            "              precision    recall  f1-score   support\n",
            "\n",
            "   undamaged       0.94      0.82      0.88       284\n",
            "     damaged       0.92      0.97      0.94       567\n",
            "\n",
            "    accuracy                           0.92       851\n",
            "   macro avg       0.93      0.90      0.91       851\n",
            "weighted avg       0.92      0.92      0.92       851\n",
            "\n"
          ],
          "name": "stdout"
        }
      ]
    },
    {
      "cell_type": "code",
      "metadata": {
        "id": "QWvf_IwEJcMI"
      },
      "source": [
        ""
      ],
      "execution_count": null,
      "outputs": []
    },
    {
      "cell_type": "code",
      "metadata": {
        "id": "9mPODO-nIDCi"
      },
      "source": [
        ""
      ],
      "execution_count": null,
      "outputs": []
    },
    {
      "cell_type": "code",
      "metadata": {
        "id": "Cq7D6-qiIDGF"
      },
      "source": [
        ""
      ],
      "execution_count": null,
      "outputs": []
    },
    {
      "cell_type": "code",
      "metadata": {
        "id": "eAAZ_FVb56AD"
      },
      "source": [
        "#train and evaluate model\n",
        "#model.fit(train_dataset,epochs=10,verbose=1,workers=2,max_queue_size=20)"
      ],
      "execution_count": null,
      "outputs": []
    },
    {
      "cell_type": "code",
      "metadata": {
        "id": "7bp8g03656ER"
      },
      "source": [
        ""
      ],
      "execution_count": null,
      "outputs": []
    },
    {
      "cell_type": "code",
      "metadata": {
        "id": "arxG4EPE5zFO"
      },
      "source": [
        ""
      ],
      "execution_count": null,
      "outputs": []
    },
    {
      "cell_type": "code",
      "metadata": {
        "id": "wwwMWdnzSaon"
      },
      "source": [
        "# from sklearn.metrics import precision_recall_curve\n",
        "# from sklearn.metrics import plot_precision_recall_curve\n",
        "# import matplotlib.pyplot as plt\n",
        "\n",
        "# disp = plot_precision_recall_curve(classifier, x_true, y_true)\n",
        "# disp.ax_.set_title('2-class Precision-Recall curve: '\n",
        "#                    'AP={0:0.2f}'.format(average_precision))"
      ],
      "execution_count": null,
      "outputs": []
    }
  ]
}