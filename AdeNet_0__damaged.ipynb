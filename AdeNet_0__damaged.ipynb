{
  "nbformat": 4,
  "nbformat_minor": 0,
  "metadata": {
    "colab": {
      "name": "AdeNet_0%_damaged.ipynb",
      "provenance": [],
      "collapsed_sections": [],
      "authorship_tag": "ABX9TyPHwFwSr+Av5hv/d3O07P7O",
      "include_colab_link": true
    },
    "kernelspec": {
      "name": "python3",
      "display_name": "Python 3"
    },
    "accelerator": "GPU"
  },
  "cells": [
    {
      "cell_type": "markdown",
      "metadata": {
        "id": "view-in-github",
        "colab_type": "text"
      },
      "source": [
        "<a href=\"https://colab.research.google.com/github/demolakstate/AdeNet-Deep-Learning-Architecture/blob/main/AdeNet_0__damaged.ipynb\" target=\"_parent\"><img src=\"https://colab.research.google.com/assets/colab-badge.svg\" alt=\"Open In Colab\"/></a>"
      ]
    },
    {
      "cell_type": "code",
      "metadata": {
        "id": "EROtr8re5vre"
      },
      "source": [
        ""
      ],
      "execution_count": null,
      "outputs": []
    },
    {
      "cell_type": "code",
      "metadata": {
        "id": "8m7hLocc7E1n"
      },
      "source": [
        "!unzip zero_damaged.zip"
      ],
      "execution_count": null,
      "outputs": []
    },
    {
      "cell_type": "code",
      "metadata": {
        "id": "L9BZVgQn7E5s",
        "colab": {
          "base_uri": "https://localhost:8080/",
          "height": 34
        },
        "outputId": "33c0f9fd-2e57-4d46-d7f7-48f8495223fd"
      },
      "source": [
        "ls"
      ],
      "execution_count": null,
      "outputs": [
        {
          "output_type": "stream",
          "text": [
            "\u001b[0m\u001b[01;34msample_data\u001b[0m/  \u001b[01;34mzero_damaged\u001b[0m/  zero_damaged.zip\n"
          ],
          "name": "stdout"
        }
      ]
    },
    {
      "cell_type": "code",
      "metadata": {
        "id": "G5GdQ6KCNFak"
      },
      "source": [
        ""
      ],
      "execution_count": null,
      "outputs": []
    },
    {
      "cell_type": "code",
      "metadata": {
        "id": "4KFf6QGGNFg4"
      },
      "source": [
        ""
      ],
      "execution_count": null,
      "outputs": []
    },
    {
      "cell_type": "code",
      "metadata": {
        "id": "MD-f0i4x5yyf"
      },
      "source": [
        "#imports\n",
        "\n",
        "import tensorflow as tf\n",
        "\n",
        "from tensorflow.keras.applications.mobilenet_v2 import MobileNetV2,preprocess_input\n",
        "from tensorflow.keras.layers import Input,GlobalMaxPooling2D,Dense\n",
        "from tensorflow.keras.models import Model\n",
        "from tensorflow.keras.preprocessing.image import img_to_array,load_img\n",
        "\n",
        "import numpy as np\n",
        "from cv2 import resize\n",
        "from os import path, listdir"
      ],
      "execution_count": null,
      "outputs": []
    },
    {
      "cell_type": "code",
      "metadata": {
        "id": "VXJzFL-05y2p"
      },
      "source": [
        ""
      ],
      "execution_count": null,
      "outputs": []
    },
    {
      "cell_type": "code",
      "metadata": {
        "id": "oHnNi5R6XTvG"
      },
      "source": [
        "import keras\n",
        "import keras.layers as layers\n",
        "from keras.models import Sequential"
      ],
      "execution_count": null,
      "outputs": []
    },
    {
      "cell_type": "code",
      "metadata": {
        "id": "z6CRsAl5XTzp"
      },
      "source": [
        ""
      ],
      "execution_count": null,
      "outputs": []
    },
    {
      "cell_type": "code",
      "metadata": {
        "id": "0OM_sFZ2idbL"
      },
      "source": [
        "# model = Sequential(\n",
        "#     [\n",
        "#      #layers.Conv2D(16, (3,3), activation='relu'),\n",
        "#      layers.Dense(512, activation='relu'),\n",
        "#      layers.Dense(256, activation='relu'),\n",
        "#      layers.Dense(2)\n",
        "     \n",
        "#     ])"
      ],
      "execution_count": null,
      "outputs": []
    },
    {
      "cell_type": "code",
      "metadata": {
        "id": "uefYJBAltdEE"
      },
      "source": [
        ""
      ],
      "execution_count": null,
      "outputs": []
    },
    {
      "cell_type": "code",
      "metadata": {
        "id": "yzLSENQTtdIO"
      },
      "source": [
        "# model = Sequential(\n",
        "#     [\n",
        "#      Input(shape=(400,160, 3)),\n",
        "#      layers.Conv2D(32, 3, activation='relu'),\n",
        "#      layers.MaxPooling2D(),\n",
        "#      layers.Conv2D(64, 3, activation='relu'),\n",
        "#      layers.MaxPooling2D(),\n",
        "#      layers.Conv2D(128, 3, activation='relu'),\n",
        "#      layers.Flatten(),\n",
        "#      #layers.Conv2D(16, (3,3), activation='relu'),\n",
        "#      layers.Dense(512, activation='relu'),\n",
        "#      layers.Dense(256, activation='relu'),\n",
        "#      layers.Dense(2)\n",
        "     \n",
        "#     ])"
      ],
      "execution_count": null,
      "outputs": []
    },
    {
      "cell_type": "code",
      "metadata": {
        "id": "UR8nE7yqvJWV"
      },
      "source": [
        ""
      ],
      "execution_count": null,
      "outputs": []
    },
    {
      "cell_type": "code",
      "metadata": {
        "id": "6yygL1PF3Xy0"
      },
      "source": [
        ""
      ],
      "execution_count": null,
      "outputs": []
    },
    {
      "cell_type": "code",
      "metadata": {
        "id": "w9dO5l_A3X3H"
      },
      "source": [
        "#inputs = Input(shape=(None,None,3))"
      ],
      "execution_count": null,
      "outputs": []
    },
    {
      "cell_type": "code",
      "metadata": {
        "id": "lw_A1-Zj3X6q"
      },
      "source": [
        ""
      ],
      "execution_count": null,
      "outputs": []
    },
    {
      "cell_type": "code",
      "metadata": {
        "id": "q-Hkgj1lyN71"
      },
      "source": [
        "# def my_model():\n",
        "#   inputs = keras.Input(shape=(400,400, 3))\n",
        "#   #inputs = Input(shape=(300,300,3))\n",
        "#   x = layers.Conv2D(32, 3, padding='valid')(inputs)\n",
        "#   x = layers.BatchNormalization()(x)\n",
        "#   x = keras.activations.relu(x)\n",
        "#   x = layers.MaxPooling2D()(x)\n",
        "#   x = layers.Conv2D(64, 5, padding='same')(x)\n",
        "#   #x = layers.GlobalMaxPooling2D()(x)\n",
        "#   x = layers.BatchNormalization()(x)\n",
        "#   x = keras.activations.relu(x)\n",
        "  \n",
        "#   x = layers.Flatten()(x)\n",
        "#   x = layers.Dense(64, activation='relu')(x)\n",
        "  \n",
        "#   outputs = layers.Dense(2, activation='softmax')(x)\n",
        "#   model = Input(inputs=inputs, outputs=outputs)\n",
        "\n",
        "\n",
        "#   return model"
      ],
      "execution_count": null,
      "outputs": []
    },
    {
      "cell_type": "code",
      "metadata": {
        "id": "6kpptESv66Xf"
      },
      "source": [
        ""
      ],
      "execution_count": null,
      "outputs": []
    },
    {
      "cell_type": "code",
      "metadata": {
        "id": "f2VYZjrT66bt"
      },
      "source": [
        "def my_model():\n",
        "    inputs = keras.Input(shape=(32, 32, 3))\n",
        "    x = layers.Conv2D(32, 3)(inputs)\n",
        "    x = layers.BatchNormalization()(x)\n",
        "    x = keras.activations.relu(x)\n",
        "    x = layers.MaxPooling2D()(x)\n",
        "    x = layers.Conv2D(64, 3)(x)\n",
        "    x = layers.BatchNormalization()(x)\n",
        "    x = keras.activations.relu(x)\n",
        "    x = layers.MaxPooling2D()(x)\n",
        "    x = layers.Conv2D(128, 3)(x)\n",
        "    x = layers.GlobalMaxPooling2D()(x)\n",
        "    x = layers.BatchNormalization()(x)\n",
        "    x = keras.activations.relu(x)\n",
        "    x = layers.Flatten()(x)\n",
        "    x = layers.Dense(64, activation=\"relu\")(x)\n",
        "    outputs = layers.Dense(2)(x)\n",
        "    model = keras.Model(inputs=inputs, outputs=outputs)\n",
        "    return model"
      ],
      "execution_count": null,
      "outputs": []
    },
    {
      "cell_type": "code",
      "metadata": {
        "id": "83c6bB2U66fl"
      },
      "source": [
        ""
      ],
      "execution_count": null,
      "outputs": []
    },
    {
      "cell_type": "code",
      "metadata": {
        "id": "3WcehfFFyOAY"
      },
      "source": [
        ""
      ],
      "execution_count": null,
      "outputs": []
    },
    {
      "cell_type": "code",
      "metadata": {
        "id": "DLzVCdbZ0OfT"
      },
      "source": [
        "model = my_model()"
      ],
      "execution_count": null,
      "outputs": []
    },
    {
      "cell_type": "code",
      "metadata": {
        "id": "X7DeZRqu7TrM"
      },
      "source": [
        "model.compile(\n",
        "    loss=keras.losses.SparseCategoricalCrossentropy(from_logits=True),\n",
        "    optimizer=keras.optimizers.Adam(lr=3e-4),\n",
        "    metrics=[\"accuracy\"],\n",
        ")"
      ],
      "execution_count": null,
      "outputs": []
    },
    {
      "cell_type": "code",
      "metadata": {
        "id": "tiF_joGN7Tvm"
      },
      "source": [
        ""
      ],
      "execution_count": null,
      "outputs": []
    },
    {
      "cell_type": "code",
      "metadata": {
        "id": "Cb2cqpTK7T0D"
      },
      "source": [
        ""
      ],
      "execution_count": null,
      "outputs": []
    },
    {
      "cell_type": "code",
      "metadata": {
        "id": "7ySbcGIA0oxX"
      },
      "source": [
        "#model.compile(optimizer='Adam', loss='sparse_categorical_crossentropy',metrics=['sparse_categorical_accuracy'])"
      ],
      "execution_count": null,
      "outputs": []
    },
    {
      "cell_type": "code",
      "metadata": {
        "id": "KRsEbeRi0o19"
      },
      "source": [
        ""
      ],
      "execution_count": null,
      "outputs": []
    },
    {
      "cell_type": "code",
      "metadata": {
        "id": "WXqDn-ye0Ojk"
      },
      "source": [
        "#net = GlobalMaxPooling2D()(net.output)\n",
        "# #outputs = Dense(n_classes,activation='softmax')(net)\n",
        "\n",
        "# #model = Model(inputs=inputs,outputs=outputs)\n",
        "# model.compile(optimizer='Adam', loss='sparse_categorical_crossentropy',metrics=['sparse_categorical_accuracy'])"
      ],
      "execution_count": null,
      "outputs": []
    },
    {
      "cell_type": "code",
      "metadata": {
        "id": "GnK47LVm0OnD"
      },
      "source": [
        ""
      ],
      "execution_count": null,
      "outputs": []
    },
    {
      "cell_type": "code",
      "metadata": {
        "id": "f-qiUI3JvmHn"
      },
      "source": [
        ""
      ],
      "execution_count": null,
      "outputs": []
    },
    {
      "cell_type": "code",
      "metadata": {
        "id": "DBKZvLP_vmLn"
      },
      "source": [
        ""
      ],
      "execution_count": null,
      "outputs": []
    },
    {
      "cell_type": "code",
      "metadata": {
        "id": "cUmXHC3nvmPT"
      },
      "source": [
        ""
      ],
      "execution_count": null,
      "outputs": []
    },
    {
      "cell_type": "code",
      "metadata": {
        "id": "Otgf7YYUvJcX",
        "colab": {
          "base_uri": "https://localhost:8080/",
          "height": 697
        },
        "outputId": "360c1c9a-e7a8-4626-d654-813a2d5882f8"
      },
      "source": [
        "model.summary()"
      ],
      "execution_count": null,
      "outputs": [
        {
          "output_type": "stream",
          "text": [
            "Model: \"functional_1\"\n",
            "_________________________________________________________________\n",
            "Layer (type)                 Output Shape              Param #   \n",
            "=================================================================\n",
            "input_1 (InputLayer)         [(None, 32, 32, 3)]       0         \n",
            "_________________________________________________________________\n",
            "conv2d (Conv2D)              (None, 30, 30, 32)        896       \n",
            "_________________________________________________________________\n",
            "batch_normalization (BatchNo (None, 30, 30, 32)        128       \n",
            "_________________________________________________________________\n",
            "tf_op_layer_Relu (TensorFlow [(None, 30, 30, 32)]      0         \n",
            "_________________________________________________________________\n",
            "max_pooling2d (MaxPooling2D) (None, 15, 15, 32)        0         \n",
            "_________________________________________________________________\n",
            "conv2d_1 (Conv2D)            (None, 13, 13, 64)        18496     \n",
            "_________________________________________________________________\n",
            "batch_normalization_1 (Batch (None, 13, 13, 64)        256       \n",
            "_________________________________________________________________\n",
            "tf_op_layer_Relu_1 (TensorFl [(None, 13, 13, 64)]      0         \n",
            "_________________________________________________________________\n",
            "max_pooling2d_1 (MaxPooling2 (None, 6, 6, 64)          0         \n",
            "_________________________________________________________________\n",
            "conv2d_2 (Conv2D)            (None, 4, 4, 128)         73856     \n",
            "_________________________________________________________________\n",
            "global_max_pooling2d (Global (None, 128)               0         \n",
            "_________________________________________________________________\n",
            "batch_normalization_2 (Batch (None, 128)               512       \n",
            "_________________________________________________________________\n",
            "tf_op_layer_Relu_2 (TensorFl [(None, 128)]             0         \n",
            "_________________________________________________________________\n",
            "flatten (Flatten)            (None, 128)               0         \n",
            "_________________________________________________________________\n",
            "dense (Dense)                (None, 64)                8256      \n",
            "_________________________________________________________________\n",
            "dense_1 (Dense)              (None, 2)                 130       \n",
            "=================================================================\n",
            "Total params: 102,530\n",
            "Trainable params: 102,082\n",
            "Non-trainable params: 448\n",
            "_________________________________________________________________\n"
          ],
          "name": "stdout"
        }
      ]
    },
    {
      "cell_type": "code",
      "metadata": {
        "id": "pwXLL61etc_-"
      },
      "source": [
        ""
      ],
      "execution_count": null,
      "outputs": []
    },
    {
      "cell_type": "code",
      "metadata": {
        "id": "bAaKhhzvUV9s",
        "colab": {
          "base_uri": "https://localhost:8080/",
          "height": 1000
        },
        "outputId": "3d232826-1979-4bc1-b304-be441674c6dd"
      },
      "source": [
        "dot_img_file = '/tmp/model_1.png'\n",
        "tf.keras.utils.plot_model(model, to_file=dot_img_file, show_shapes=True)"
      ],
      "execution_count": null,
      "outputs": [
        {
          "output_type": "execute_result",
          "data": {
            "image/png": "[encoded data removed]",
            "text/plain": [
              "<IPython.core.display.Image object>"
            ]
          },
          "metadata": {
            "tags": []
          },
          "execution_count": 18
        }
      ]
    },
    {
      "cell_type": "code",
      "metadata": {
        "id": "bKro8KD0UWCQ"
      },
      "source": [
        ""
      ],
      "execution_count": null,
      "outputs": []
    },
    {
      "cell_type": "code",
      "metadata": {
        "id": "6KXUZpc-idf2"
      },
      "source": [
        ""
      ],
      "execution_count": null,
      "outputs": []
    },
    {
      "cell_type": "code",
      "metadata": {
        "id": "CkLKJVqOidkO"
      },
      "source": [
        "# model.compile(\n",
        "#     loss=keras.losses.SparseCategoricalCrossentropy(from_logits=True),\n",
        "#     optimizer=keras.optimizers.Adam(lr=0.001),\n",
        "#     metrics=[\"accuracy\"]\n",
        "# )"
      ],
      "execution_count": null,
      "outputs": []
    },
    {
      "cell_type": "code",
      "metadata": {
        "id": "R3N2VR5aidoN"
      },
      "source": [
        "#model.compile(optimizer='Adam', loss='sparse_categorical_crossentropy',metrics=['sparse_categorical_accuracy'])"
      ],
      "execution_count": null,
      "outputs": []
    },
    {
      "cell_type": "code",
      "metadata": {
        "id": "sD8CTvcYidsT"
      },
      "source": [
        ""
      ],
      "execution_count": null,
      "outputs": []
    },
    {
      "cell_type": "code",
      "metadata": {
        "id": "Zs2onVRYidwL"
      },
      "source": [
        ""
      ],
      "execution_count": null,
      "outputs": []
    },
    {
      "cell_type": "code",
      "metadata": {
        "id": "klpJ6Dxdid0F"
      },
      "source": [
        ""
      ],
      "execution_count": null,
      "outputs": []
    },
    {
      "cell_type": "code",
      "metadata": {
        "id": "v_LBkFWLid39"
      },
      "source": [
        ""
      ],
      "execution_count": null,
      "outputs": []
    },
    {
      "cell_type": "code",
      "metadata": {
        "id": "H7HMOzpvid9D"
      },
      "source": [
        ""
      ],
      "execution_count": null,
      "outputs": []
    },
    {
      "cell_type": "code",
      "metadata": {
        "id": "Y4mQY12hieCB"
      },
      "source": [
        ""
      ],
      "execution_count": null,
      "outputs": []
    },
    {
      "cell_type": "code",
      "metadata": {
        "id": "rmUmRwnd8msY"
      },
      "source": [
        "n_classes = 2"
      ],
      "execution_count": null,
      "outputs": []
    },
    {
      "cell_type": "code",
      "metadata": {
        "id": "dXpQ7L8u5y6L"
      },
      "source": [
        "# #set up MobileNet GlobalMaxPooling and unsepcified input resolution\n",
        "\n",
        "# inputs = Input(shape=(None,None,3))\n",
        "\n",
        "\n",
        "# def model():\n",
        "#  net = keras.Sequential([layers.Conv2D(filters=6, kernel_size=(3, 3), activation='relu', input_shape=(512,512,3)), # input_shape=(None,None,3)\n",
        "#                             layers.AveragePooling2D(),\n",
        "#                             layers.Conv2D(filters=16, kernel_size=(3, 3), activation='relu'),\n",
        "#                             layers.AveragePooling2D(),\n",
        "#                             layers.Flatten(),\n",
        "#                             layers.Dense(units=120, activation='relu'),\n",
        "#                             layers.Dense(units=84, activation='relu'),\n",
        "#                             layers.Dense(units=2, activation = 'softmax'),\n",
        "#                             #layers.GlobalMaxPooling2D()\n",
        "                            \n",
        "#                             ])\n",
        "#  return net\n",
        "\n",
        "\n",
        "\n",
        "# #net = MobileNetV2(include_top=False, alpha=0.35, weights='imagenet', input_tensor=inputs, classes=n_classes)\n",
        "# model = model()\n",
        "# #net = GlobalMaxPooling2D()(net.output)\n",
        "# #outputs = Dense(n_classes,activation='softmax')(net)\n",
        "\n",
        "# #model = Model(inputs=inputs,outputs=outputs)\n",
        "# model.compile(optimizer='Adam', loss='sparse_categorical_crossentropy',metrics=['sparse_categorical_accuracy'])\n"
      ],
      "execution_count": null,
      "outputs": []
    },
    {
      "cell_type": "code",
      "metadata": {
        "id": "ct_MmDDcd8nc"
      },
      "source": [
        "#set up MobileNet GlobalMaxPooling and unsepcified input resolution\n",
        "\n",
        "#inputs = Input(shape=(None,None,3))\n",
        "\n",
        "\n",
        "# def model(inputs):\n",
        "#  net = keras.Sequential([layers.InputLayer(input_tensor=inputs),\n",
        "#                          layers.Conv2D(filters=6, kernel_size=(3, 3), activation='relu'), # input_shape=(None,None,3)\n",
        "#                             layers.AveragePooling2D(),\n",
        "#                             layers.Conv2D(filters=16, kernel_size=(3, 3), activation='relu'),\n",
        "#                             layers.AveragePooling2D(),\n",
        "#                             layers.Flatten(),\n",
        "#                             layers.Dense(units=120, activation='relu'),\n",
        "#                             layers.Dense(units=84, activation='relu'),\n",
        "#                             layers.Dense(units=10, activation = 'softmax'),\n",
        "#                             #layers.GlobalMaxPooling2D()\n",
        "                            \n",
        "#                             ])\n",
        "#  return net\n",
        "\n",
        "\n",
        "\n",
        "# net = keras.Sequential([layers.InputLayer(input_tensor=inputs),\n",
        "#                          layers.Conv2D(filters=6, kernel_size=(3, 3), activation='relu', input_shape=(32,32,1)), # input_shape=(None,None,3)\n",
        "#                             layers.AveragePooling2D(),\n",
        "#                             layers.Conv2D(filters=16, kernel_size=(3, 3), activation='relu'),\n",
        "#                             #layers.GlobalMaxPooling2D(),\n",
        "#                             layers.AveragePooling2D(),\n",
        "#                             layers.Flatten(),\n",
        "#                             layers.Dense(units=120, activation='relu'),\n",
        "#                             layers.Dense(units=84, activation='relu'),\n",
        "#                             layers.Dense(units=10, activation = 'softmax'),\n",
        "#                             #layers.GlobalMaxPooling2D()\n",
        "                            \n",
        "#                             ])\n",
        "\n",
        "\n",
        "\n",
        "\n",
        "\n",
        "\n",
        "\n",
        "\n",
        "#net = MobileNetV2(include_top=False, alpha=0.35, weights='imagenet', input_tensor=inputs, classes=n_classes)\n",
        "#net = model(inputs)\n",
        "#net = GlobalMaxPooling2D()(net.output)\n",
        "\n",
        "\n"
      ],
      "execution_count": null,
      "outputs": []
    },
    {
      "cell_type": "code",
      "metadata": {
        "id": "wA4yBc0l52Gw"
      },
      "source": [
        "#net.summary()"
      ],
      "execution_count": null,
      "outputs": []
    },
    {
      "cell_type": "code",
      "metadata": {
        "id": "ZtgqOWGQ6Ii6"
      },
      "source": [
        ""
      ],
      "execution_count": null,
      "outputs": []
    },
    {
      "cell_type": "code",
      "metadata": {
        "id": "7cP9sOByEhef"
      },
      "source": [
        ""
      ],
      "execution_count": null,
      "outputs": []
    },
    {
      "cell_type": "code",
      "metadata": {
        "id": "DGFKRoJlEhkD"
      },
      "source": [
        "#net.trainable = False"
      ],
      "execution_count": null,
      "outputs": []
    },
    {
      "cell_type": "code",
      "metadata": {
        "id": "TCSimylkEqFh"
      },
      "source": [
        "#net.summary()"
      ],
      "execution_count": null,
      "outputs": []
    },
    {
      "cell_type": "code",
      "metadata": {
        "id": "P5PT8uZkEqJu"
      },
      "source": [
        ""
      ],
      "execution_count": null,
      "outputs": []
    },
    {
      "cell_type": "code",
      "metadata": {
        "id": "S5xA998Q6InM"
      },
      "source": [
        "#x = net(inputs, training=False)"
      ],
      "execution_count": null,
      "outputs": []
    },
    {
      "cell_type": "code",
      "metadata": {
        "id": "miVOWQi7F0y0"
      },
      "source": [
        "# x = layers.Conv2D(filters=6, kernel_size=(3, 3), activation='relu')(x)\n",
        "# x = layers.AveragePooling2D()(x)\n",
        "# x = layers.Conv2D(filters=16, kernel_size=(3, 3), activation='relu')(x)\n",
        "# x = layers.AveragePooling2D()(x)"
      ],
      "execution_count": null,
      "outputs": []
    },
    {
      "cell_type": "code",
      "metadata": {
        "id": "ilnZQxKHKQBe"
      },
      "source": [
        "#x = layers.GlobalAveragePooling2D()(x)"
      ],
      "execution_count": null,
      "outputs": []
    },
    {
      "cell_type": "code",
      "metadata": {
        "id": "6uNNqwM7MPRm"
      },
      "source": [
        "#x = layers.Flatten()(x)"
      ],
      "execution_count": null,
      "outputs": []
    },
    {
      "cell_type": "code",
      "metadata": {
        "id": "VBqKA7umMQum"
      },
      "source": [
        "#x = layers.Dense(120)(x)"
      ],
      "execution_count": null,
      "outputs": []
    },
    {
      "cell_type": "code",
      "metadata": {
        "id": "LvQM9uQlMQz0"
      },
      "source": [
        "#x = layers.Dense(84)(x)"
      ],
      "execution_count": null,
      "outputs": []
    },
    {
      "cell_type": "code",
      "metadata": {
        "id": "dL6YS7PhMPWv"
      },
      "source": [
        ""
      ],
      "execution_count": null,
      "outputs": []
    },
    {
      "cell_type": "code",
      "metadata": {
        "id": "WkOUtwZcKQFc"
      },
      "source": [
        "#outputs = layers.Dense(2)(x)"
      ],
      "execution_count": null,
      "outputs": []
    },
    {
      "cell_type": "code",
      "metadata": {
        "id": "rfTKfUD6M7vA"
      },
      "source": [
        ""
      ],
      "execution_count": null,
      "outputs": []
    },
    {
      "cell_type": "code",
      "metadata": {
        "id": "C76_nZ9RKQKF"
      },
      "source": [
        "#model = Model(inputs, outputs)"
      ],
      "execution_count": null,
      "outputs": []
    },
    {
      "cell_type": "code",
      "metadata": {
        "id": "GIAg_CEnKQOT"
      },
      "source": [
        ""
      ],
      "execution_count": null,
      "outputs": []
    },
    {
      "cell_type": "code",
      "metadata": {
        "id": "nB2XamtDLHkV"
      },
      "source": [
        "#model.summary()"
      ],
      "execution_count": null,
      "outputs": []
    },
    {
      "cell_type": "code",
      "metadata": {
        "id": "AbcAbKjBLHpU"
      },
      "source": [
        "#model.compile(optimizer='Adam', loss='sparse_categorical_crossentropy',metrics=['sparse_categorical_accuracy'])"
      ],
      "execution_count": null,
      "outputs": []
    },
    {
      "cell_type": "code",
      "metadata": {
        "id": "o_3wXJObLNLa"
      },
      "source": [
        "#model.compile(optimizer='Adam', loss='binary_crossentropy',metrics=['binary_accuracy'])"
      ],
      "execution_count": null,
      "outputs": []
    },
    {
      "cell_type": "code",
      "metadata": {
        "id": "bkLg1z1lO07s"
      },
      "source": [
        ""
      ],
      "execution_count": null,
      "outputs": []
    },
    {
      "cell_type": "code",
      "metadata": {
        "id": "AoBNDZCMO1AI"
      },
      "source": [
        ""
      ],
      "execution_count": null,
      "outputs": []
    },
    {
      "cell_type": "code",
      "metadata": {
        "id": "UNqo4aqg5zB8"
      },
      "source": [
        "#data generator class; yields batches of data for training/testing\n",
        "class ImageGenerator():\n",
        "\n",
        "    def __init__(self, directory, batch_size=16, shuffle=False, max_dimension=None):        \n",
        "        \n",
        "        self.directories = directory\n",
        "        self.batch_size = batch_size\n",
        "        self.shuffle = shuffle\n",
        "        self.max_dimension = max_dimension\n",
        "        \n",
        "        self.image_paths = []\n",
        "        self.class_labels = []\n",
        "        \n",
        "        #create list of image file paths and class target labels\n",
        "        for class_label, class_dir in enumerate(listdir(directory)):\n",
        "            self.image_paths += [path.join(directory,class_dir,f) for f in listdir(path.join(directory,class_dir))]\n",
        "            self.class_labels += [class_label for _ in listdir(path.join(directory,class_dir))]\n",
        "\n",
        "        self.image_paths = np.array(self.image_paths)\n",
        "        self.class_labels = np.array(self.class_labels)\n",
        "\n",
        "        #index array for shuffling data\n",
        "        self.idx = np.arange(len(self.image_paths))\n",
        "        \n",
        "    \n",
        "    def __len__(self):\n",
        "        \n",
        "        #number of batches in an epoch\n",
        "        return int(np.ceil(len(self.image_paths)/float(self.batch_size)))\n",
        "    \n",
        "    \n",
        "    def _load_image(self,img_path):\n",
        "        \n",
        "        #load image from path and convert to array\n",
        "        img = load_img(img_path, color_mode='rgb', interpolation='nearest')\n",
        "        img = img_to_array(img)\n",
        "        \n",
        "        #downsample image if above allowed size if specified\n",
        "        max_dim = max(img.shape) \n",
        "        if self.max_dimension:\n",
        "            if max_dim > self.max_dimension:\n",
        "                new_dim = tuple(d*self.max_dimension//max_dim for d in img.shape[1::-1])\n",
        "                img = resize(img, new_dim)\n",
        "            \n",
        "        #scale image values\n",
        "        img = preprocess_input(img)\n",
        "\n",
        "        return img\n",
        "    \n",
        "    \n",
        "    def _pad_images(self,img,shape):\n",
        "        #pad images to match largest image in batch\n",
        "        img = np.pad(img,(*[((shape[i]-img.shape[i])//2,\n",
        "                    ((shape[i]-img.shape[i])//2) + ((shape[i]-img.shape[i])%2)) for i in range(2)],\n",
        "                          (0,0)),mode='constant',constant_values=0.)\n",
        "        \n",
        "        return img\n",
        "\n",
        "\n",
        "    def __call__(self):\n",
        "        #shuffle index\n",
        "        if self.shuffle:\n",
        "            np.random.shuffle(self.idx)\n",
        "        \n",
        "        #generate batches\n",
        "        for batch in range(len(self)):\n",
        "\n",
        "            batch_image_paths = self.image_paths[self.idx[batch*self.batch_size:(batch+1)*self.batch_size]]\n",
        "            batch_class_labels = self.class_labels[self.idx[batch*self.batch_size:(batch+1)*self.batch_size]]\n",
        "\n",
        "            batch_images = [self._load_image(image_path) for image_path in batch_image_paths]\n",
        "\n",
        "            max_resolution = tuple(max([img.shape[i] for img in batch_images]) for i in range(2))\n",
        "            batch_images = np.array([self._pad_images(image,max_resolution) for image in batch_images])\n",
        "\n",
        "            yield batch_images, batch_class_labels"
      ],
      "execution_count": null,
      "outputs": []
    },
    {
      "cell_type": "code",
      "metadata": {
        "id": "6pUQY993550c"
      },
      "source": [
        ""
      ],
      "execution_count": null,
      "outputs": []
    },
    {
      "cell_type": "code",
      "metadata": {
        "id": "ZrqNmaKZNysQ"
      },
      "source": [
        ""
      ],
      "execution_count": null,
      "outputs": []
    },
    {
      "cell_type": "code",
      "metadata": {
        "id": "1TT47dDMNywx"
      },
      "source": [
        ""
      ],
      "execution_count": null,
      "outputs": []
    },
    {
      "cell_type": "code",
      "metadata": {
        "id": "4lsQQYlcIC-y"
      },
      "source": [
        "#model.load_weights('insulators-v24.h5')"
      ],
      "execution_count": null,
      "outputs": []
    },
    {
      "cell_type": "code",
      "metadata": {
        "id": "sEv2vlVkNy1g"
      },
      "source": [
        ""
      ],
      "execution_count": null,
      "outputs": []
    },
    {
      "cell_type": "code",
      "metadata": {
        "id": "dNXd0bCC5541",
        "colab": {
          "base_uri": "https://localhost:8080/",
          "height": 697
        },
        "outputId": "b9f37181-209f-498d-de8e-a591f15ba3f4"
      },
      "source": [
        "#initialize our generators; specifying data directories, batch size, and dimension threshold\n",
        "\n",
        "train_image_directory = 'zero_damaged/train'\n",
        "test_image_directory = 'zero_damaged/validation'\n",
        "\n",
        "n_classes = 10\n",
        "batch_size = 16\n",
        "max_dimension = 512\n",
        "\n",
        "#create generators for training and generating\n",
        "\n",
        "train_generator = ImageGenerator(train_image_directory, batch_size=batch_size, shuffle=True, max_dimension=max_dimension)\n",
        "test_generator = ImageGenerator(test_image_directory, batch_size=batch_size, max_dimension=max_dimension)\n",
        "\n",
        "#convert generators into tf.data.Dataset objects for optimization with keras model fit method\n",
        "\n",
        "train_dataset = tf.data.Dataset.from_generator(train_generator,\n",
        "     (tf.float32, tf.int32),\n",
        "    (tf.TensorShape([None,None,None,3]), tf.TensorShape([None])))\n",
        "\n",
        "test_dataset = tf.data.Dataset.from_generator(test_generator,\n",
        "     (tf.float32, tf.int32),\n",
        "    (tf.TensorShape([None,None,None,3]), tf.TensorShape([None])))\n",
        "\n",
        "\n",
        "#train and evaluate model\n",
        "history = model.fit(train_dataset,validation_data=test_dataset,epochs=20,verbose=1,workers=2,max_queue_size=20)"
      ],
      "execution_count": null,
      "outputs": [
        {
          "output_type": "stream",
          "text": [
            "Epoch 1/20\n",
            "142/142 [==============================] - 88s 622ms/step - loss: 0.0645 - accuracy: 0.9947 - val_loss: 0.6590 - val_accuracy: 0.6663\n",
            "Epoch 2/20\n",
            "142/142 [==============================] - 74s 522ms/step - loss: 0.0041 - accuracy: 1.0000 - val_loss: 0.7538 - val_accuracy: 0.6663\n",
            "Epoch 3/20\n",
            "142/142 [==============================] - 69s 484ms/step - loss: 0.0016 - accuracy: 1.0000 - val_loss: 1.3390 - val_accuracy: 0.6663\n",
            "Epoch 4/20\n",
            "142/142 [==============================] - 64s 450ms/step - loss: 9.5683e-04 - accuracy: 1.0000 - val_loss: 1.9009 - val_accuracy: 0.6663\n",
            "Epoch 5/20\n",
            "142/142 [==============================] - 64s 447ms/step - loss: 5.7096e-04 - accuracy: 1.0000 - val_loss: 2.6978 - val_accuracy: 0.6663\n",
            "Epoch 6/20\n",
            "142/142 [==============================] - 62s 435ms/step - loss: 3.3559e-04 - accuracy: 1.0000 - val_loss: 3.3734 - val_accuracy: 0.6663\n",
            "Epoch 7/20\n",
            "142/142 [==============================] - 57s 404ms/step - loss: 2.5136e-04 - accuracy: 1.0000 - val_loss: 3.3744 - val_accuracy: 0.6663\n",
            "Epoch 8/20\n",
            "142/142 [==============================] - 56s 391ms/step - loss: 1.8877e-04 - accuracy: 1.0000 - val_loss: 3.7584 - val_accuracy: 0.6663\n",
            "Epoch 9/20\n",
            "142/142 [==============================] - 58s 411ms/step - loss: 1.5086e-04 - accuracy: 1.0000 - val_loss: 3.7348 - val_accuracy: 0.6663\n",
            "Epoch 10/20\n",
            "142/142 [==============================] - 53s 372ms/step - loss: 1.1702e-04 - accuracy: 1.0000 - val_loss: 3.8838 - val_accuracy: 0.6663\n",
            "Epoch 11/20\n",
            "142/142 [==============================] - 54s 377ms/step - loss: 9.3509e-05 - accuracy: 1.0000 - val_loss: 4.0904 - val_accuracy: 0.6663\n",
            "Epoch 12/20\n",
            "142/142 [==============================] - 55s 387ms/step - loss: 1.0280e-04 - accuracy: 1.0000 - val_loss: 4.2393 - val_accuracy: 0.6663\n",
            "Epoch 13/20\n",
            "142/142 [==============================] - 52s 369ms/step - loss: 1.3196e-04 - accuracy: 1.0000 - val_loss: 4.3531 - val_accuracy: 0.6663\n",
            "Epoch 14/20\n",
            "142/142 [==============================] - 45s 320ms/step - loss: 5.4408e-05 - accuracy: 1.0000 - val_loss: 4.3470 - val_accuracy: 0.6663\n",
            "Epoch 15/20\n",
            "142/142 [==============================] - 50s 350ms/step - loss: 5.1244e-05 - accuracy: 1.0000 - val_loss: 4.6192 - val_accuracy: 0.6663\n",
            "Epoch 16/20\n",
            "142/142 [==============================] - 52s 365ms/step - loss: 4.2230e-05 - accuracy: 1.0000 - val_loss: 4.7149 - val_accuracy: 0.6663\n",
            "Epoch 17/20\n",
            "142/142 [==============================] - 44s 311ms/step - loss: 3.9559e-05 - accuracy: 1.0000 - val_loss: 4.8715 - val_accuracy: 0.6663\n",
            "Epoch 18/20\n",
            "142/142 [==============================] - 47s 333ms/step - loss: 4.1681e-05 - accuracy: 1.0000 - val_loss: 4.6884 - val_accuracy: 0.6663\n",
            "Epoch 19/20\n",
            "142/142 [==============================] - 46s 322ms/step - loss: 2.6056e-05 - accuracy: 1.0000 - val_loss: 4.5820 - val_accuracy: 0.6663\n",
            "Epoch 20/20\n",
            "142/142 [==============================] - 45s 320ms/step - loss: 2.2430e-05 - accuracy: 1.0000 - val_loss: 4.7668 - val_accuracy: 0.6663\n"
          ],
          "name": "stdout"
        }
      ]
    },
    {
      "cell_type": "code",
      "metadata": {
        "id": "fShVu-LikNLr"
      },
      "source": [
        ""
      ],
      "execution_count": null,
      "outputs": []
    },
    {
      "cell_type": "code",
      "metadata": {
        "id": "LSrWfpTEkNQz"
      },
      "source": [
        "#history = model.fit(train_dataset,validation_data=test_dataset,epochs=2,verbose=1)"
      ],
      "execution_count": null,
      "outputs": []
    },
    {
      "cell_type": "code",
      "metadata": {
        "id": "5PX64mG6558a"
      },
      "source": [
        "#history = model.fit(train_dataset,validation_data=test_dataset,epochs=2,verbose=1)"
      ],
      "execution_count": null,
      "outputs": []
    },
    {
      "cell_type": "code",
      "metadata": {
        "id": "9qaFTuBxOGp0"
      },
      "source": [
        ""
      ],
      "execution_count": null,
      "outputs": []
    },
    {
      "cell_type": "code",
      "metadata": {
        "id": "Mld10ngROGuF"
      },
      "source": [
        ""
      ],
      "execution_count": null,
      "outputs": []
    },
    {
      "cell_type": "code",
      "metadata": {
        "id": "HQffqt-tOGyM"
      },
      "source": [
        ""
      ],
      "execution_count": null,
      "outputs": []
    },
    {
      "cell_type": "code",
      "metadata": {
        "id": "DDz2fTPoOG1_"
      },
      "source": [
        ""
      ],
      "execution_count": null,
      "outputs": []
    },
    {
      "cell_type": "code",
      "metadata": {
        "id": "mPWWNamSIC6D"
      },
      "source": [
        "# Save the entire model to a HDF5 file\n",
        "model.save('zero_damaged.h5')"
      ],
      "execution_count": null,
      "outputs": []
    },
    {
      "cell_type": "markdown",
      "metadata": {
        "id": "onPSA7edIZzE"
      },
      "source": [
        "Visualize"
      ]
    },
    {
      "cell_type": "code",
      "metadata": {
        "id": "8y43g1SZLET-"
      },
      "source": [
        ""
      ],
      "execution_count": null,
      "outputs": []
    },
    {
      "cell_type": "code",
      "metadata": {
        "id": "e2BYqVLXLEYD"
      },
      "source": [
        "import matplotlib.pyplot as plt"
      ],
      "execution_count": null,
      "outputs": []
    },
    {
      "cell_type": "code",
      "metadata": {
        "id": "z7gQI38q_txj",
        "colab": {
          "base_uri": "https://localhost:8080/",
          "height": 496
        },
        "outputId": "81b2109e-3543-4262-995a-7d810323ed31"
      },
      "source": [
        "acc = history.history['accuracy']\n",
        "val_acc = history.history['val_accuracy']\n",
        "\n",
        "loss = history.history['loss']\n",
        "val_loss = history.history['val_loss']\n",
        "\n",
        "epochs_range = range(12)\n",
        "\n",
        "plt.figure(figsize=(25, 8))\n",
        "plt.subplot(1, 2, 1)\n",
        "\n",
        "\n",
        "#plt.plot(epochs_range, acc, label='Training Accuracy')\n",
        "#plt.plot(epochs_range, val_acc, label='Validation Accuracy')\n",
        "\n",
        "plt.plot(acc, label='Training Accuracy')\n",
        "plt.plot(val_acc, label='Validation Accuracy')\n",
        "\n",
        "\n",
        "plt.legend(loc='lower right')\n",
        "plt.title('Training and Validation Accuracy')\n",
        "\n",
        "plt.subplot(1, 2, 2)\n",
        "#plt.plot(epochs_range, loss, label='Training Loss')\n",
        "#plt.plot(epochs_range, val_loss, label='Validation Loss')\n",
        "\n",
        "\n",
        "plt.plot(loss, label='Training Loss')\n",
        "plt.plot(val_loss, label='Validation Loss')\n",
        "\n",
        "plt.legend(loc='upper right')\n",
        "plt.title('Training and Validation Loss')\n",
        "plt.show()"
      ],
      "execution_count": null,
      "outputs": [
        {
          "output_type": "display_data",
          "data": {
            "image/png": "[encoded data removed]",
            "text/plain": [
              "<Figure size 1800x576 with 2 Axes>"
            ]
          },
          "metadata": {
            "tags": [],
            "needs_background": "light"
          }
        }
      ]
    },
    {
      "cell_type": "code",
      "metadata": {
        "id": "o-P9EzTm_t2E"
      },
      "source": [
        ""
      ],
      "execution_count": null,
      "outputs": []
    },
    {
      "cell_type": "code",
      "metadata": {
        "id": "WavzSdZvIYZW"
      },
      "source": [
        "# acc = history.history['sparse_categorical_accuracy']\n",
        "# val_acc = history.history['val_sparse_categorical_accuracy']\n",
        "\n",
        "# loss = history.history['loss']\n",
        "# val_loss = history.history['val_loss']\n",
        "\n",
        "# epochs_range = range(12)\n",
        "\n",
        "# plt.figure(figsize=(25, 8))\n",
        "# plt.subplot(1, 2, 1)\n",
        "\n",
        "\n",
        "# #plt.plot(epochs_range, acc, label='Training Accuracy')\n",
        "# #plt.plot(epochs_range, val_acc, label='Validation Accuracy')\n",
        "\n",
        "# plt.plot(acc, label='Training Accuracy')\n",
        "# plt.plot(val_acc, label='Validation Accuracy')\n",
        "\n",
        "\n",
        "# plt.legend(loc='lower right')\n",
        "# plt.title('Training and Validation Accuracy')\n",
        "\n",
        "# plt.subplot(1, 2, 2)\n",
        "# #plt.plot(epochs_range, loss, label='Training Loss')\n",
        "# #plt.plot(epochs_range, val_loss, label='Validation Loss')\n",
        "\n",
        "\n",
        "# plt.plot(loss, label='Training Loss')\n",
        "# plt.plot(val_loss, label='Validation Loss')\n",
        "\n",
        "# plt.legend(loc='upper right')\n",
        "# plt.title('Training and Validation Loss')\n",
        "# plt.show()"
      ],
      "execution_count": null,
      "outputs": []
    },
    {
      "cell_type": "code",
      "metadata": {
        "id": "YhMr0lP3IYdw"
      },
      "source": [
        ""
      ],
      "execution_count": null,
      "outputs": []
    },
    {
      "cell_type": "code",
      "metadata": {
        "id": "itABmUbTIYiC"
      },
      "source": [
        ""
      ],
      "execution_count": null,
      "outputs": []
    },
    {
      "cell_type": "markdown",
      "metadata": {
        "id": "bmMbjdyaKCm8"
      },
      "source": [
        "Evaluation"
      ]
    },
    {
      "cell_type": "code",
      "metadata": {
        "id": "KInf04UIKCDf"
      },
      "source": [
        ""
      ],
      "execution_count": null,
      "outputs": []
    },
    {
      "cell_type": "code",
      "metadata": {
        "id": "FjIWGE4OKZG8",
        "colab": {
          "base_uri": "https://localhost:8080/",
          "height": 190
        },
        "outputId": "534974f0-8d78-4aea-c979-9e5eea3a88a4"
      },
      "source": [
        "test_loss, test_acc = model.evaluate_generator(test_dataset, verbose=0)\n",
        "\n",
        "#test_loss, test_acc = model.evaluate_generator(test_data_gen, verbose=0)\n",
        "\n",
        "print('\\nTest accuracy:', test_acc)\n",
        "\n",
        "\n",
        "\n",
        "print('\\nTest accuracy:', test_acc)\n",
        "\n",
        "print('\\nTest loss:', test_loss)\n",
        "\n",
        "\n",
        "\n",
        "\n",
        "\n",
        "\n",
        "\n",
        "\n",
        "\n",
        "\n",
        "\n"
      ],
      "execution_count": null,
      "outputs": [
        {
          "output_type": "stream",
          "text": [
            "WARNING:tensorflow:From <ipython-input-47-fa60b5366d19>:1: Model.evaluate_generator (from tensorflow.python.keras.engine.training) is deprecated and will be removed in a future version.\n",
            "Instructions for updating:\n",
            "Please use Model.evaluate, which supports generators.\n",
            "\n",
            "Test accuracy: 0.6662749648094177\n",
            "\n",
            "Test accuracy: 0.6662749648094177\n",
            "\n",
            "Test loss: 4.76680850982666\n"
          ],
          "name": "stdout"
        }
      ]
    },
    {
      "cell_type": "code",
      "metadata": {
        "id": "VGdfCkpOKp0w"
      },
      "source": [
        ""
      ],
      "execution_count": null,
      "outputs": []
    },
    {
      "cell_type": "code",
      "metadata": {
        "id": "QGc5jniQKp5i",
        "colab": {
          "base_uri": "https://localhost:8080/",
          "height": 105
        },
        "outputId": "199b023a-cb49-4747-9c61-842c46ca1fde"
      },
      "source": [
        "## Make predictions on test data ##\n",
        "\n",
        "### Let's make predictions on some images ###\n",
        "\n",
        "test_generator.class_labels\n",
        "\n",
        "predictions = model.predict_generator(test_dataset)\n",
        "\n",
        "true_labels = test_generator.class_labels\n",
        "\n",
        "predictions[0]\n",
        "\n",
        "np.argmax(predictions[0])\n",
        "\n",
        "test_generator.class_labels[0]\n",
        "\n",
        "predictions[-1]\n",
        "\n",
        "np.argmax(predictions[-1])\n",
        "\n",
        "test_generator.class_labels[-1]\n",
        "\n",
        "\n",
        "\n",
        "#test_dataset.classes"
      ],
      "execution_count": null,
      "outputs": [
        {
          "output_type": "stream",
          "text": [
            "WARNING:tensorflow:From <ipython-input-48-bf11b649030b>:7: Model.predict_generator (from tensorflow.python.keras.engine.training) is deprecated and will be removed in a future version.\n",
            "Instructions for updating:\n",
            "Please use Model.predict, which supports generators.\n"
          ],
          "name": "stdout"
        },
        {
          "output_type": "execute_result",
          "data": {
            "text/plain": [
              "1"
            ]
          },
          "metadata": {
            "tags": []
          },
          "execution_count": 48
        }
      ]
    },
    {
      "cell_type": "code",
      "metadata": {
        "id": "zotUK5EMKZK5",
        "colab": {
          "base_uri": "https://localhost:8080/",
          "height": 34
        },
        "outputId": "aa607a98-2d81-43ef-cd23-8d53fefc2bfd"
      },
      "source": [
        "type(test_dataset)\n"
      ],
      "execution_count": null,
      "outputs": [
        {
          "output_type": "execute_result",
          "data": {
            "text/plain": [
              "tensorflow.python.data.ops.dataset_ops.FlatMapDataset"
            ]
          },
          "metadata": {
            "tags": []
          },
          "execution_count": 49
        }
      ]
    },
    {
      "cell_type": "code",
      "metadata": {
        "id": "83SaEY0ybOeK"
      },
      "source": [
        "#test_generator.image_paths"
      ],
      "execution_count": null,
      "outputs": []
    },
    {
      "cell_type": "code",
      "metadata": {
        "id": "IxqmnEMybOir",
        "colab": {
          "base_uri": "https://localhost:8080/",
          "height": 680
        },
        "outputId": "7bd99ecd-37c2-414f-f1c7-3a7b03b6a7fc"
      },
      "source": [
        "test_generator.class_labels"
      ],
      "execution_count": null,
      "outputs": [
        {
          "output_type": "execute_result",
          "data": {
            "text/plain": [
              "array([0, 0, 0, 0, 0, 0, 0, 0, 0, 0, 0, 0, 0, 0, 0, 0, 0, 0, 0, 0, 0, 0,\n",
              "       0, 0, 0, 0, 0, 0, 0, 0, 0, 0, 0, 0, 0, 0, 0, 0, 0, 0, 0, 0, 0, 0,\n",
              "       0, 0, 0, 0, 0, 0, 0, 0, 0, 0, 0, 0, 0, 0, 0, 0, 0, 0, 0, 0, 0, 0,\n",
              "       0, 0, 0, 0, 0, 0, 0, 0, 0, 0, 0, 0, 0, 0, 0, 0, 0, 0, 0, 0, 0, 0,\n",
              "       0, 0, 0, 0, 0, 0, 0, 0, 0, 0, 0, 0, 0, 0, 0, 0, 0, 0, 0, 0, 0, 0,\n",
              "       0, 0, 0, 0, 0, 0, 0, 0, 0, 0, 0, 0, 0, 0, 0, 0, 0, 0, 0, 0, 0, 0,\n",
              "       0, 0, 0, 0, 0, 0, 0, 0, 0, 0, 0, 0, 0, 0, 0, 0, 0, 0, 0, 0, 0, 0,\n",
              "       0, 0, 0, 0, 0, 0, 0, 0, 0, 0, 0, 0, 0, 0, 0, 0, 0, 0, 0, 0, 0, 0,\n",
              "       0, 0, 0, 0, 0, 0, 0, 0, 0, 0, 0, 0, 0, 0, 0, 0, 0, 0, 0, 0, 0, 0,\n",
              "       0, 0, 0, 0, 0, 0, 0, 0, 0, 0, 0, 0, 0, 0, 0, 0, 0, 0, 0, 0, 0, 0,\n",
              "       0, 0, 0, 0, 0, 0, 0, 0, 0, 0, 0, 0, 0, 0, 0, 0, 0, 0, 0, 0, 0, 0,\n",
              "       0, 0, 0, 0, 0, 0, 0, 0, 0, 0, 0, 0, 0, 0, 0, 0, 0, 0, 0, 0, 0, 0,\n",
              "       0, 0, 0, 0, 0, 0, 0, 0, 0, 0, 0, 0, 0, 0, 0, 0, 0, 0, 0, 0, 1, 1,\n",
              "       1, 1, 1, 1, 1, 1, 1, 1, 1, 1, 1, 1, 1, 1, 1, 1, 1, 1, 1, 1, 1, 1,\n",
              "       1, 1, 1, 1, 1, 1, 1, 1, 1, 1, 1, 1, 1, 1, 1, 1, 1, 1, 1, 1, 1, 1,\n",
              "       1, 1, 1, 1, 1, 1, 1, 1, 1, 1, 1, 1, 1, 1, 1, 1, 1, 1, 1, 1, 1, 1,\n",
              "       1, 1, 1, 1, 1, 1, 1, 1, 1, 1, 1, 1, 1, 1, 1, 1, 1, 1, 1, 1, 1, 1,\n",
              "       1, 1, 1, 1, 1, 1, 1, 1, 1, 1, 1, 1, 1, 1, 1, 1, 1, 1, 1, 1, 1, 1,\n",
              "       1, 1, 1, 1, 1, 1, 1, 1, 1, 1, 1, 1, 1, 1, 1, 1, 1, 1, 1, 1, 1, 1,\n",
              "       1, 1, 1, 1, 1, 1, 1, 1, 1, 1, 1, 1, 1, 1, 1, 1, 1, 1, 1, 1, 1, 1,\n",
              "       1, 1, 1, 1, 1, 1, 1, 1, 1, 1, 1, 1, 1, 1, 1, 1, 1, 1, 1, 1, 1, 1,\n",
              "       1, 1, 1, 1, 1, 1, 1, 1, 1, 1, 1, 1, 1, 1, 1, 1, 1, 1, 1, 1, 1, 1,\n",
              "       1, 1, 1, 1, 1, 1, 1, 1, 1, 1, 1, 1, 1, 1, 1, 1, 1, 1, 1, 1, 1, 1,\n",
              "       1, 1, 1, 1, 1, 1, 1, 1, 1, 1, 1, 1, 1, 1, 1, 1, 1, 1, 1, 1, 1, 1,\n",
              "       1, 1, 1, 1, 1, 1, 1, 1, 1, 1, 1, 1, 1, 1, 1, 1, 1, 1, 1, 1, 1, 1,\n",
              "       1, 1, 1, 1, 1, 1, 1, 1, 1, 1, 1, 1, 1, 1, 1, 1, 1, 1, 1, 1, 1, 1,\n",
              "       1, 1, 1, 1, 1, 1, 1, 1, 1, 1, 1, 1, 1, 1, 1, 1, 1, 1, 1, 1, 1, 1,\n",
              "       1, 1, 1, 1, 1, 1, 1, 1, 1, 1, 1, 1, 1, 1, 1, 1, 1, 1, 1, 1, 1, 1,\n",
              "       1, 1, 1, 1, 1, 1, 1, 1, 1, 1, 1, 1, 1, 1, 1, 1, 1, 1, 1, 1, 1, 1,\n",
              "       1, 1, 1, 1, 1, 1, 1, 1, 1, 1, 1, 1, 1, 1, 1, 1, 1, 1, 1, 1, 1, 1,\n",
              "       1, 1, 1, 1, 1, 1, 1, 1, 1, 1, 1, 1, 1, 1, 1, 1, 1, 1, 1, 1, 1, 1,\n",
              "       1, 1, 1, 1, 1, 1, 1, 1, 1, 1, 1, 1, 1, 1, 1, 1, 1, 1, 1, 1, 1, 1,\n",
              "       1, 1, 1, 1, 1, 1, 1, 1, 1, 1, 1, 1, 1, 1, 1, 1, 1, 1, 1, 1, 1, 1,\n",
              "       1, 1, 1, 1, 1, 1, 1, 1, 1, 1, 1, 1, 1, 1, 1, 1, 1, 1, 1, 1, 1, 1,\n",
              "       1, 1, 1, 1, 1, 1, 1, 1, 1, 1, 1, 1, 1, 1, 1, 1, 1, 1, 1, 1, 1, 1,\n",
              "       1, 1, 1, 1, 1, 1, 1, 1, 1, 1, 1, 1, 1, 1, 1, 1, 1, 1, 1, 1, 1, 1,\n",
              "       1, 1, 1, 1, 1, 1, 1, 1, 1, 1, 1, 1, 1, 1, 1, 1, 1, 1, 1, 1, 1, 1,\n",
              "       1, 1, 1, 1, 1, 1, 1, 1, 1, 1, 1, 1, 1, 1, 1, 1, 1, 1, 1, 1, 1, 1,\n",
              "       1, 1, 1, 1, 1, 1, 1, 1, 1, 1, 1, 1, 1, 1, 1])"
            ]
          },
          "metadata": {
            "tags": []
          },
          "execution_count": 51
        }
      ]
    },
    {
      "cell_type": "code",
      "metadata": {
        "id": "xTTi4cZqbOmU"
      },
      "source": [
        ""
      ],
      "execution_count": null,
      "outputs": []
    },
    {
      "cell_type": "code",
      "metadata": {
        "id": "vEXQ7HpWKZOd"
      },
      "source": [
        ""
      ],
      "execution_count": null,
      "outputs": []
    },
    {
      "cell_type": "code",
      "metadata": {
        "id": "LBM1ISA7KZST",
        "colab": {
          "base_uri": "https://localhost:8080/",
          "height": 309
        },
        "outputId": "588c7b66-211b-404d-aecd-cb9c86356ec0"
      },
      "source": [
        "## Confusion Matrix ##\n",
        "\n",
        "from sklearn.metrics import confusion_matrix\n",
        "import matplotlib.pyplot as plt\n",
        "import numpy as np\n",
        "\n",
        "\n",
        "\n",
        "y_true = true_labels\n",
        "y_pred = np.array([np.argmax(x) for x in predictions])\n",
        "\n",
        "y_pred\n",
        "\n",
        "\n",
        "\n",
        "\n",
        "\n",
        "cm = confusion_matrix(y_true, y_pred)\n",
        "\n",
        "print(cm)\n",
        "\n",
        "\n",
        "\n",
        "plt.matshow(cm, cmap=plt.cm.gray)\n",
        "plt.show()"
      ],
      "execution_count": null,
      "outputs": [
        {
          "output_type": "stream",
          "text": [
            "[[  0 284]\n",
            " [  0 567]]\n"
          ],
          "name": "stdout"
        },
        {
          "output_type": "display_data",
          "data": {
            "image/png": "[encoded data removed]",
            "text/plain": [
              "<Figure size 288x288 with 1 Axes>"
            ]
          },
          "metadata": {
            "tags": [],
            "needs_background": "light"
          }
        }
      ]
    },
    {
      "cell_type": "code",
      "metadata": {
        "id": "iSJiAOFGKZWt",
        "colab": {
          "base_uri": "https://localhost:8080/",
          "height": 680
        },
        "outputId": "a82443e3-fec9-4c82-a6c8-2809ffa07ef9"
      },
      "source": [
        "y_pred"
      ],
      "execution_count": null,
      "outputs": [
        {
          "output_type": "execute_result",
          "data": {
            "text/plain": [
              "array([1, 1, 1, 1, 1, 1, 1, 1, 1, 1, 1, 1, 1, 1, 1, 1, 1, 1, 1, 1, 1, 1,\n",
              "       1, 1, 1, 1, 1, 1, 1, 1, 1, 1, 1, 1, 1, 1, 1, 1, 1, 1, 1, 1, 1, 1,\n",
              "       1, 1, 1, 1, 1, 1, 1, 1, 1, 1, 1, 1, 1, 1, 1, 1, 1, 1, 1, 1, 1, 1,\n",
              "       1, 1, 1, 1, 1, 1, 1, 1, 1, 1, 1, 1, 1, 1, 1, 1, 1, 1, 1, 1, 1, 1,\n",
              "       1, 1, 1, 1, 1, 1, 1, 1, 1, 1, 1, 1, 1, 1, 1, 1, 1, 1, 1, 1, 1, 1,\n",
              "       1, 1, 1, 1, 1, 1, 1, 1, 1, 1, 1, 1, 1, 1, 1, 1, 1, 1, 1, 1, 1, 1,\n",
              "       1, 1, 1, 1, 1, 1, 1, 1, 1, 1, 1, 1, 1, 1, 1, 1, 1, 1, 1, 1, 1, 1,\n",
              "       1, 1, 1, 1, 1, 1, 1, 1, 1, 1, 1, 1, 1, 1, 1, 1, 1, 1, 1, 1, 1, 1,\n",
              "       1, 1, 1, 1, 1, 1, 1, 1, 1, 1, 1, 1, 1, 1, 1, 1, 1, 1, 1, 1, 1, 1,\n",
              "       1, 1, 1, 1, 1, 1, 1, 1, 1, 1, 1, 1, 1, 1, 1, 1, 1, 1, 1, 1, 1, 1,\n",
              "       1, 1, 1, 1, 1, 1, 1, 1, 1, 1, 1, 1, 1, 1, 1, 1, 1, 1, 1, 1, 1, 1,\n",
              "       1, 1, 1, 1, 1, 1, 1, 1, 1, 1, 1, 1, 1, 1, 1, 1, 1, 1, 1, 1, 1, 1,\n",
              "       1, 1, 1, 1, 1, 1, 1, 1, 1, 1, 1, 1, 1, 1, 1, 1, 1, 1, 1, 1, 1, 1,\n",
              "       1, 1, 1, 1, 1, 1, 1, 1, 1, 1, 1, 1, 1, 1, 1, 1, 1, 1, 1, 1, 1, 1,\n",
              "       1, 1, 1, 1, 1, 1, 1, 1, 1, 1, 1, 1, 1, 1, 1, 1, 1, 1, 1, 1, 1, 1,\n",
              "       1, 1, 1, 1, 1, 1, 1, 1, 1, 1, 1, 1, 1, 1, 1, 1, 1, 1, 1, 1, 1, 1,\n",
              "       1, 1, 1, 1, 1, 1, 1, 1, 1, 1, 1, 1, 1, 1, 1, 1, 1, 1, 1, 1, 1, 1,\n",
              "       1, 1, 1, 1, 1, 1, 1, 1, 1, 1, 1, 1, 1, 1, 1, 1, 1, 1, 1, 1, 1, 1,\n",
              "       1, 1, 1, 1, 1, 1, 1, 1, 1, 1, 1, 1, 1, 1, 1, 1, 1, 1, 1, 1, 1, 1,\n",
              "       1, 1, 1, 1, 1, 1, 1, 1, 1, 1, 1, 1, 1, 1, 1, 1, 1, 1, 1, 1, 1, 1,\n",
              "       1, 1, 1, 1, 1, 1, 1, 1, 1, 1, 1, 1, 1, 1, 1, 1, 1, 1, 1, 1, 1, 1,\n",
              "       1, 1, 1, 1, 1, 1, 1, 1, 1, 1, 1, 1, 1, 1, 1, 1, 1, 1, 1, 1, 1, 1,\n",
              "       1, 1, 1, 1, 1, 1, 1, 1, 1, 1, 1, 1, 1, 1, 1, 1, 1, 1, 1, 1, 1, 1,\n",
              "       1, 1, 1, 1, 1, 1, 1, 1, 1, 1, 1, 1, 1, 1, 1, 1, 1, 1, 1, 1, 1, 1,\n",
              "       1, 1, 1, 1, 1, 1, 1, 1, 1, 1, 1, 1, 1, 1, 1, 1, 1, 1, 1, 1, 1, 1,\n",
              "       1, 1, 1, 1, 1, 1, 1, 1, 1, 1, 1, 1, 1, 1, 1, 1, 1, 1, 1, 1, 1, 1,\n",
              "       1, 1, 1, 1, 1, 1, 1, 1, 1, 1, 1, 1, 1, 1, 1, 1, 1, 1, 1, 1, 1, 1,\n",
              "       1, 1, 1, 1, 1, 1, 1, 1, 1, 1, 1, 1, 1, 1, 1, 1, 1, 1, 1, 1, 1, 1,\n",
              "       1, 1, 1, 1, 1, 1, 1, 1, 1, 1, 1, 1, 1, 1, 1, 1, 1, 1, 1, 1, 1, 1,\n",
              "       1, 1, 1, 1, 1, 1, 1, 1, 1, 1, 1, 1, 1, 1, 1, 1, 1, 1, 1, 1, 1, 1,\n",
              "       1, 1, 1, 1, 1, 1, 1, 1, 1, 1, 1, 1, 1, 1, 1, 1, 1, 1, 1, 1, 1, 1,\n",
              "       1, 1, 1, 1, 1, 1, 1, 1, 1, 1, 1, 1, 1, 1, 1, 1, 1, 1, 1, 1, 1, 1,\n",
              "       1, 1, 1, 1, 1, 1, 1, 1, 1, 1, 1, 1, 1, 1, 1, 1, 1, 1, 1, 1, 1, 1,\n",
              "       1, 1, 1, 1, 1, 1, 1, 1, 1, 1, 1, 1, 1, 1, 1, 1, 1, 1, 1, 1, 1, 1,\n",
              "       1, 1, 1, 1, 1, 1, 1, 1, 1, 1, 1, 1, 1, 1, 1, 1, 1, 1, 1, 1, 1, 1,\n",
              "       1, 1, 1, 1, 1, 1, 1, 1, 1, 1, 1, 1, 1, 1, 1, 1, 1, 1, 1, 1, 1, 1,\n",
              "       1, 1, 1, 1, 1, 1, 1, 1, 1, 1, 1, 1, 1, 1, 1, 1, 1, 1, 1, 1, 1, 1,\n",
              "       1, 1, 1, 1, 1, 1, 1, 1, 1, 1, 1, 1, 1, 1, 1, 1, 1, 1, 1, 1, 1, 1,\n",
              "       1, 1, 1, 1, 1, 1, 1, 1, 1, 1, 1, 1, 1, 1, 1])"
            ]
          },
          "metadata": {
            "tags": []
          },
          "execution_count": 53
        }
      ]
    },
    {
      "cell_type": "code",
      "metadata": {
        "id": "LypLjapdKZax"
      },
      "source": [
        ""
      ],
      "execution_count": null,
      "outputs": []
    },
    {
      "cell_type": "code",
      "metadata": {
        "id": "j8DkrB_5KZe7"
      },
      "source": [
        "from sklearn.metrics import classification_report"
      ],
      "execution_count": null,
      "outputs": []
    },
    {
      "cell_type": "code",
      "metadata": {
        "id": "vAd5rrSyJcEp",
        "colab": {
          "base_uri": "https://localhost:8080/",
          "height": 224
        },
        "outputId": "0789b87b-59ff-4671-b939-7a1f64c69a6f"
      },
      "source": [
        "target_names = ['undamaged', 'damaged']\n",
        "print(classification_report(y_true, y_pred, target_names=target_names))"
      ],
      "execution_count": null,
      "outputs": [
        {
          "output_type": "stream",
          "text": [
            "              precision    recall  f1-score   support\n",
            "\n",
            "   undamaged       0.00      0.00      0.00       284\n",
            "     damaged       0.67      1.00      0.80       567\n",
            "\n",
            "    accuracy                           0.67       851\n",
            "   macro avg       0.33      0.50      0.40       851\n",
            "weighted avg       0.44      0.67      0.53       851\n",
            "\n"
          ],
          "name": "stdout"
        },
        {
          "output_type": "stream",
          "text": [
            "/usr/local/lib/python3.6/dist-packages/sklearn/metrics/_classification.py:1272: UndefinedMetricWarning: Precision and F-score are ill-defined and being set to 0.0 in labels with no predicted samples. Use `zero_division` parameter to control this behavior.\n",
            "  _warn_prf(average, modifier, msg_start, len(result))\n"
          ],
          "name": "stderr"
        }
      ]
    },
    {
      "cell_type": "code",
      "metadata": {
        "id": "V4nER7DGJcIk"
      },
      "source": [
        ""
      ],
      "execution_count": null,
      "outputs": []
    },
    {
      "cell_type": "code",
      "metadata": {
        "id": "QWvf_IwEJcMI"
      },
      "source": [
        ""
      ],
      "execution_count": null,
      "outputs": []
    },
    {
      "cell_type": "code",
      "metadata": {
        "id": "9mPODO-nIDCi",
        "colab": {
          "base_uri": "https://localhost:8080/",
          "height": 34
        },
        "outputId": "12e44e4d-af09-4550-8df0-00ebd0c5c446"
      },
      "source": [
        "from sklearn.metrics import auc, roc_curve, roc_auc_score\n",
        "\n",
        "fpr, tpr, _ = roc_curve(y_true, y_pred)\n",
        "roc_auc = auc(fpr, tpr)\n",
        "\n",
        "print(roc_auc)"
      ],
      "execution_count": null,
      "outputs": [
        {
          "output_type": "stream",
          "text": [
            "0.5\n"
          ],
          "name": "stdout"
        }
      ]
    },
    {
      "cell_type": "code",
      "metadata": {
        "id": "Cq7D6-qiIDGF"
      },
      "source": [
        ""
      ],
      "execution_count": null,
      "outputs": []
    },
    {
      "cell_type": "code",
      "metadata": {
        "id": "eAAZ_FVb56AD"
      },
      "source": [
        "#train and evaluate model\n",
        "#model.fit(train_dataset,epochs=10,verbose=1,workers=2,max_queue_size=20)"
      ],
      "execution_count": null,
      "outputs": []
    },
    {
      "cell_type": "code",
      "metadata": {
        "id": "7bp8g03656ER"
      },
      "source": [
        ""
      ],
      "execution_count": null,
      "outputs": []
    },
    {
      "cell_type": "code",
      "metadata": {
        "id": "arxG4EPE5zFO"
      },
      "source": [
        ""
      ],
      "execution_count": null,
      "outputs": []
    }
  ]
}