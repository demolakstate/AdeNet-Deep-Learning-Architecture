{
  "nbformat": 4,
  "nbformat_minor": 0,
  "metadata": {
    "colab": {
      "name": "MVTec_Transistor_fine_tuning_14_layers.ipynb",
      "provenance": [],
      "collapsed_sections": [],
      "authorship_tag": "ABX9TyMEpzc9ft4WThfgqFPQ5ZbT",
      "include_colab_link": true
    },
    "kernelspec": {
      "name": "python3",
      "display_name": "Python 3"
    },
    "accelerator": "GPU"
  },
  "cells": [
    {
      "cell_type": "markdown",
      "metadata": {
        "id": "view-in-github",
        "colab_type": "text"
      },
      "source": [
        "<a href=\"https://colab.research.google.com/github/demolakstate/AdeNet-Deep-Learning-Architecture/blob/main/MVTec_Transistor_fine_tuning_14_layers.ipynb\" target=\"_parent\"><img src=\"https://colab.research.google.com/assets/colab-badge.svg\" alt=\"Open In Colab\"/></a>"
      ]
    },
    {
      "cell_type": "code",
      "metadata": {
        "id": "EROtr8re5vre"
      },
      "source": [
        ""
      ],
      "execution_count": null,
      "outputs": []
    },
    {
      "cell_type": "code",
      "metadata": {
        "id": "g79NQxtr3OYM"
      },
      "source": [
        "#!python -c 'import PIL; print(PIL.PILLOW_VERSION)'"
      ],
      "execution_count": null,
      "outputs": []
    },
    {
      "cell_type": "code",
      "metadata": {
        "id": "X34JnfSG3Ocg"
      },
      "source": [
        "#pip install --upgrade pillow"
      ],
      "execution_count": null,
      "outputs": []
    },
    {
      "cell_type": "code",
      "metadata": {
        "id": "9hs5m2ai3Oge"
      },
      "source": [
        ""
      ],
      "execution_count": null,
      "outputs": []
    },
    {
      "cell_type": "code",
      "metadata": {
        "id": "8m7hLocc7E1n",
        "colab": {
          "base_uri": "https://localhost:8080/",
          "height": 1000
        },
        "outputId": "e55b16c0-08dd-4d39-b2d7-feb5f2bbab2c"
      },
      "source": [
        "!unzip transistor.zip"
      ],
      "execution_count": null,
      "outputs": [
        {
          "output_type": "stream",
          "text": [
            "Archive:  transistor.zip\n",
            "   creating: transistor/\n",
            "   creating: transistor/train/\n",
            "   creating: transistor/train/damaged/\n",
            "  inflating: transistor/train/damaged/001_3.png  \n",
            "  inflating: transistor/train/damaged/002_3.png  \n",
            "  inflating: transistor/train/damaged/003_3.png  \n",
            "  inflating: transistor/train/damaged/004_3.png  \n",
            "  inflating: transistor/train/damaged/005_3.png  \n",
            "  inflating: transistor/train/damaged/006_3.png  \n",
            "  inflating: transistor/train/damaged/007_3.png  \n",
            "  inflating: transistor/train/damaged/008_3.png  \n",
            "  inflating: transistor/train/damaged/009_3.png  \n",
            "  inflating: transistor/train/damaged/000_2.png  \n",
            "  inflating: transistor/train/damaged/002_2.png  \n",
            "  inflating: transistor/train/damaged/003_2.png  \n",
            "  inflating: transistor/train/damaged/004_2.png  \n",
            "  inflating: transistor/train/damaged/005_2.png  \n",
            "  inflating: transistor/train/damaged/007_2.png  \n",
            "  inflating: transistor/train/damaged/008_2.png  \n",
            "  inflating: transistor/train/damaged/009_2.png  \n",
            "  inflating: transistor/train/damaged/000_1.png  \n",
            "  inflating: transistor/train/damaged/002_1.png  \n",
            "  inflating: transistor/train/damaged/003_1.png  \n",
            "  inflating: transistor/train/damaged/005_1.png  \n",
            "  inflating: transistor/train/damaged/006_1.png  \n",
            "  inflating: transistor/train/damaged/007_1.png  \n",
            "  inflating: transistor/train/damaged/008_1.png  \n",
            "  inflating: transistor/train/damaged/009_1.png  \n",
            "  inflating: transistor/train/damaged/000_4.png  \n",
            "  inflating: transistor/train/damaged/001_4.png  \n",
            "  inflating: transistor/train/damaged/003_4.png  \n",
            "  inflating: transistor/train/damaged/004_4.png  \n",
            "  inflating: transistor/train/damaged/005_4.png  \n",
            "  inflating: transistor/train/damaged/006_4.png  \n",
            "  inflating: transistor/train/damaged/008_4.png  \n",
            "   creating: transistor/train/undamaged/\n",
            "  inflating: transistor/train/undamaged/017_6.png  \n",
            "  inflating: transistor/train/undamaged/019_6.png  \n",
            "  inflating: transistor/train/undamaged/021_6.png  \n",
            "  inflating: transistor/train/undamaged/024_6.png  \n",
            "  inflating: transistor/train/undamaged/025_6.png  \n",
            "  inflating: transistor/train/undamaged/027_6.png  \n",
            "  inflating: transistor/train/undamaged/028_6.png  \n",
            "  inflating: transistor/train/undamaged/029_6.png  \n",
            "  inflating: transistor/train/undamaged/037_6.png  \n",
            "  inflating: transistor/train/undamaged/038_6.png  \n",
            "  inflating: transistor/train/undamaged/039_6.png  \n",
            "  inflating: transistor/train/undamaged/040_6.png  \n",
            "  inflating: transistor/train/undamaged/042_6.png  \n",
            "  inflating: transistor/train/undamaged/043_6.png  \n",
            "  inflating: transistor/train/undamaged/044_6.png  \n",
            "  inflating: transistor/train/undamaged/045_6.png  \n",
            "  inflating: transistor/train/undamaged/046_6.png  \n",
            "  inflating: transistor/train/undamaged/047_6.png  \n",
            "  inflating: transistor/train/undamaged/048_6.png  \n",
            "  inflating: transistor/train/undamaged/049_6.png  \n",
            "  inflating: transistor/train/undamaged/050_6.png  \n",
            "  inflating: transistor/train/undamaged/051_6.png  \n",
            "  inflating: transistor/train/undamaged/052_6.png  \n",
            "  inflating: transistor/train/undamaged/053_6.png  \n",
            "  inflating: transistor/train/undamaged/054_6.png  \n",
            "  inflating: transistor/train/undamaged/055_6.png  \n",
            "  inflating: transistor/train/undamaged/056_6.png  \n",
            "  inflating: transistor/train/undamaged/057_6.png  \n",
            "  inflating: transistor/train/undamaged/058_6.png  \n",
            "  inflating: transistor/train/undamaged/059_6.png  \n",
            "  inflating: transistor/train/undamaged/000_6.png  \n",
            "  inflating: transistor/train/undamaged/003_6.png  \n",
            "  inflating: transistor/train/undamaged/004_6.png  \n",
            "  inflating: transistor/train/undamaged/006_6.png  \n",
            "  inflating: transistor/train/undamaged/007_6.png  \n",
            "  inflating: transistor/train/undamaged/008_6.png  \n",
            "  inflating: transistor/train/undamaged/009_6.png  \n",
            "  inflating: transistor/train/undamaged/010_6.png  \n",
            "  inflating: transistor/train/undamaged/011_6.png  \n",
            "  inflating: transistor/train/undamaged/012_6.png  \n",
            "  inflating: transistor/train/undamaged/013_6.png  \n",
            "  inflating: transistor/train/undamaged/014_6.png  \n",
            "  inflating: transistor/train/undamaged/015_6.png  \n",
            "  inflating: transistor/train/undamaged/016_6.png  \n",
            "  inflating: transistor/train/undamaged/031_6.png  \n",
            "  inflating: transistor/train/undamaged/032_6.png  \n",
            "  inflating: transistor/train/undamaged/033_6.png  \n",
            "  inflating: transistor/train/undamaged/034_6.png  \n",
            "  inflating: transistor/train/undamaged/035_6.png  \n",
            "  inflating: transistor/train/undamaged/036_6.png  \n",
            "  inflating: transistor/train/undamaged/001.png  \n",
            "  inflating: transistor/train/undamaged/002.png  \n",
            "  inflating: transistor/train/undamaged/003.png  \n",
            "  inflating: transistor/train/undamaged/004.png  \n",
            "  inflating: transistor/train/undamaged/005.png  \n",
            "  inflating: transistor/train/undamaged/006.png  \n",
            "  inflating: transistor/train/undamaged/007.png  \n",
            "  inflating: transistor/train/undamaged/008.png  \n",
            "  inflating: transistor/train/undamaged/010.png  \n",
            "  inflating: transistor/train/undamaged/011.png  \n",
            "  inflating: transistor/train/undamaged/012.png  \n",
            "  inflating: transistor/train/undamaged/013.png  \n",
            "  inflating: transistor/train/undamaged/015.png  \n",
            "  inflating: transistor/train/undamaged/017.png  \n",
            "  inflating: transistor/train/undamaged/018.png  \n",
            "  inflating: transistor/train/undamaged/019.png  \n",
            "  inflating: transistor/train/undamaged/020.png  \n",
            "  inflating: transistor/train/undamaged/021.png  \n",
            "  inflating: transistor/train/undamaged/022.png  \n",
            "  inflating: transistor/train/undamaged/023.png  \n",
            "  inflating: transistor/train/undamaged/024.png  \n",
            "  inflating: transistor/train/undamaged/025.png  \n",
            "  inflating: transistor/train/undamaged/026.png  \n",
            "  inflating: transistor/train/undamaged/027.png  \n",
            "  inflating: transistor/train/undamaged/029.png  \n",
            "  inflating: transistor/train/undamaged/030.png  \n",
            "  inflating: transistor/train/undamaged/031.png  \n",
            "  inflating: transistor/train/undamaged/032.png  \n",
            "  inflating: transistor/train/undamaged/033.png  \n",
            "  inflating: transistor/train/undamaged/034.png  \n",
            "  inflating: transistor/train/undamaged/035.png  \n",
            "  inflating: transistor/train/undamaged/037.png  \n",
            "  inflating: transistor/train/undamaged/039.png  \n",
            "  inflating: transistor/train/undamaged/040.png  \n",
            "  inflating: transistor/train/undamaged/041.png  \n",
            "  inflating: transistor/train/undamaged/042.png  \n",
            "  inflating: transistor/train/undamaged/043.png  \n",
            "  inflating: transistor/train/undamaged/044.png  \n",
            "  inflating: transistor/train/undamaged/045.png  \n",
            "  inflating: transistor/train/undamaged/046.png  \n",
            "  inflating: transistor/train/undamaged/047.png  \n",
            "  inflating: transistor/train/undamaged/048.png  \n",
            "  inflating: transistor/train/undamaged/049.png  \n",
            "  inflating: transistor/train/undamaged/050.png  \n",
            "  inflating: transistor/train/undamaged/051.png  \n",
            "  inflating: transistor/train/undamaged/052.png  \n",
            "  inflating: transistor/train/undamaged/053.png  \n",
            "  inflating: transistor/train/undamaged/056.png  \n",
            "  inflating: transistor/train/undamaged/057.png  \n",
            "  inflating: transistor/train/undamaged/058.png  \n",
            "  inflating: transistor/train/undamaged/061.png  \n",
            "  inflating: transistor/train/undamaged/062.png  \n",
            "  inflating: transistor/train/undamaged/063.png  \n",
            "  inflating: transistor/train/undamaged/064.png  \n",
            "  inflating: transistor/train/undamaged/065.png  \n",
            "  inflating: transistor/train/undamaged/066.png  \n",
            "  inflating: transistor/train/undamaged/068.png  \n",
            "  inflating: transistor/train/undamaged/069.png  \n",
            "  inflating: transistor/train/undamaged/070.png  \n",
            "  inflating: transistor/train/undamaged/072.png  \n",
            "  inflating: transistor/train/undamaged/073.png  \n",
            "  inflating: transistor/train/undamaged/074.png  \n",
            "  inflating: transistor/train/undamaged/075.png  \n",
            "  inflating: transistor/train/undamaged/077.png  \n",
            "  inflating: transistor/train/undamaged/078.png  \n",
            "  inflating: transistor/train/undamaged/080.png  \n",
            "  inflating: transistor/train/undamaged/081.png  \n",
            "  inflating: transistor/train/undamaged/082.png  \n",
            "  inflating: transistor/train/undamaged/083.png  \n",
            "  inflating: transistor/train/undamaged/085.png  \n",
            "  inflating: transistor/train/undamaged/087.png  \n",
            "  inflating: transistor/train/undamaged/089.png  \n",
            "  inflating: transistor/train/undamaged/090.png  \n",
            "  inflating: transistor/train/undamaged/091.png  \n",
            "  inflating: transistor/train/undamaged/093.png  \n",
            "  inflating: transistor/train/undamaged/094.png  \n",
            "  inflating: transistor/train/undamaged/095.png  \n",
            "  inflating: transistor/train/undamaged/096.png  \n",
            "  inflating: transistor/train/undamaged/097.png  \n",
            "  inflating: transistor/train/undamaged/098.png  \n",
            "  inflating: transistor/train/undamaged/099.png  \n",
            "  inflating: transistor/train/undamaged/100.png  \n",
            "  inflating: transistor/train/undamaged/102.png  \n",
            "  inflating: transistor/train/undamaged/103.png  \n",
            "  inflating: transistor/train/undamaged/104.png  \n",
            "  inflating: transistor/train/undamaged/105.png  \n",
            "  inflating: transistor/train/undamaged/106.png  \n",
            "  inflating: transistor/train/undamaged/108.png  \n",
            "  inflating: transistor/train/undamaged/109.png  \n",
            "  inflating: transistor/train/undamaged/111.png  \n",
            "  inflating: transistor/train/undamaged/112.png  \n",
            "  inflating: transistor/train/undamaged/113.png  \n",
            "  inflating: transistor/train/undamaged/115.png  \n",
            "  inflating: transistor/train/undamaged/116.png  \n",
            "  inflating: transistor/train/undamaged/118.png  \n",
            "  inflating: transistor/train/undamaged/119.png  \n",
            "  inflating: transistor/train/undamaged/120.png  \n",
            "  inflating: transistor/train/undamaged/121.png  \n",
            "  inflating: transistor/train/undamaged/123.png  \n",
            "  inflating: transistor/train/undamaged/124.png  \n",
            "  inflating: transistor/train/undamaged/125.png  \n",
            "  inflating: transistor/train/undamaged/126.png  \n",
            "  inflating: transistor/train/undamaged/127.png  \n",
            "  inflating: transistor/train/undamaged/128.png  \n",
            "  inflating: transistor/train/undamaged/129.png  \n",
            "  inflating: transistor/train/undamaged/130.png  \n",
            "  inflating: transistor/train/undamaged/132.png  \n",
            "  inflating: transistor/train/undamaged/133.png  \n",
            "  inflating: transistor/train/undamaged/134.png  \n",
            "  inflating: transistor/train/undamaged/136.png  \n",
            "  inflating: transistor/train/undamaged/137.png  \n",
            "  inflating: transistor/train/undamaged/139.png  \n",
            "  inflating: transistor/train/undamaged/140.png  \n",
            "  inflating: transistor/train/undamaged/142.png  \n",
            "  inflating: transistor/train/undamaged/143.png  \n",
            "  inflating: transistor/train/undamaged/144.png  \n",
            "  inflating: transistor/train/undamaged/146.png  \n",
            "  inflating: transistor/train/undamaged/147.png  \n",
            "  inflating: transistor/train/undamaged/148.png  \n",
            "  inflating: transistor/train/undamaged/149.png  \n",
            "  inflating: transistor/train/undamaged/151.png  \n",
            "  inflating: transistor/train/undamaged/152.png  \n",
            "  inflating: transistor/train/undamaged/153.png  \n",
            "  inflating: transistor/train/undamaged/155.png  \n",
            "  inflating: transistor/train/undamaged/157.png  \n",
            "  inflating: transistor/train/undamaged/158.png  \n",
            "  inflating: transistor/train/undamaged/159.png  \n",
            "  inflating: transistor/train/undamaged/160.png  \n",
            "  inflating: transistor/train/undamaged/161.png  \n",
            "  inflating: transistor/train/undamaged/162.png  \n",
            "  inflating: transistor/train/undamaged/164.png  \n",
            "  inflating: transistor/train/undamaged/165.png  \n",
            "  inflating: transistor/train/undamaged/167.png  \n",
            "  inflating: transistor/train/undamaged/168.png  \n",
            "  inflating: transistor/train/undamaged/169.png  \n",
            "  inflating: transistor/train/undamaged/171.png  \n",
            "  inflating: transistor/train/undamaged/172.png  \n",
            "  inflating: transistor/train/undamaged/173.png  \n",
            "  inflating: transistor/train/undamaged/174.png  \n",
            "  inflating: transistor/train/undamaged/175.png  \n",
            "  inflating: transistor/train/undamaged/176.png  \n",
            "  inflating: transistor/train/undamaged/177.png  \n",
            "  inflating: transistor/train/undamaged/178.png  \n",
            "  inflating: transistor/train/undamaged/179.png  \n",
            "  inflating: transistor/train/undamaged/181.png  \n",
            "  inflating: transistor/train/undamaged/182.png  \n",
            "  inflating: transistor/train/undamaged/183.png  \n",
            "  inflating: transistor/train/undamaged/184.png  \n",
            "  inflating: transistor/train/undamaged/185.png  \n",
            "  inflating: transistor/train/undamaged/187.png  \n",
            "  inflating: transistor/train/undamaged/189.png  \n",
            "  inflating: transistor/train/undamaged/190.png  \n",
            "  inflating: transistor/train/undamaged/192.png  \n",
            "  inflating: transistor/train/undamaged/193.png  \n",
            "  inflating: transistor/train/undamaged/194.png  \n",
            "  inflating: transistor/train/undamaged/195.png  \n",
            "  inflating: transistor/train/undamaged/196.png  \n",
            "  inflating: transistor/train/undamaged/197.png  \n",
            "  inflating: transistor/train/undamaged/198.png  \n",
            "  inflating: transistor/train/undamaged/199.png  \n",
            "  inflating: transistor/train/undamaged/201.png  \n",
            "  inflating: transistor/train/undamaged/202.png  \n",
            "  inflating: transistor/train/undamaged/203.png  \n",
            "  inflating: transistor/train/undamaged/204.png  \n",
            "  inflating: transistor/train/undamaged/205.png  \n",
            "  inflating: transistor/train/undamaged/206.png  \n",
            "  inflating: transistor/train/undamaged/208.png  \n",
            "  inflating: transistor/train/undamaged/209.png  \n",
            "  inflating: transistor/train/undamaged/211.png  \n",
            "   creating: transistor/validation/\n",
            "   creating: transistor/validation/undamaged/\n",
            "  inflating: transistor/validation/undamaged/020_6.png  \n",
            "  inflating: transistor/validation/undamaged/022_6.png  \n",
            "  inflating: transistor/validation/undamaged/023_6.png  \n",
            "  inflating: transistor/validation/undamaged/026_6.png  \n",
            "  inflating: transistor/validation/undamaged/041_6.png  \n",
            "  inflating: transistor/validation/undamaged/001_6.png  \n",
            "  inflating: transistor/validation/undamaged/002_6.png  \n",
            "  inflating: transistor/validation/undamaged/005_6.png  \n",
            "  inflating: transistor/validation/undamaged/018_6.png  \n",
            "  inflating: transistor/validation/undamaged/030_6.png  \n",
            "  inflating: transistor/validation/undamaged/107.png  \n",
            "  inflating: transistor/validation/undamaged/000.png  \n",
            "  inflating: transistor/validation/undamaged/009.png  \n",
            "  inflating: transistor/validation/undamaged/014.png  \n",
            "  inflating: transistor/validation/undamaged/016.png  \n",
            "  inflating: transistor/validation/undamaged/028.png  \n",
            "  inflating: transistor/validation/undamaged/036.png  \n",
            "  inflating: transistor/validation/undamaged/038.png  \n",
            "  inflating: transistor/validation/undamaged/054.png  \n",
            "  inflating: transistor/validation/undamaged/055.png  \n",
            "  inflating: transistor/validation/undamaged/059.png  \n",
            "  inflating: transistor/validation/undamaged/060.png  \n",
            "  inflating: transistor/validation/undamaged/067.png  \n",
            "  inflating: transistor/validation/undamaged/071.png  \n",
            "  inflating: transistor/validation/undamaged/076.png  \n",
            "  inflating: transistor/validation/undamaged/079.png  \n",
            "  inflating: transistor/validation/undamaged/084.png  \n",
            "  inflating: transistor/validation/undamaged/086.png  \n",
            "  inflating: transistor/validation/undamaged/088.png  \n",
            "  inflating: transistor/validation/undamaged/092.png  \n",
            "  inflating: transistor/validation/undamaged/101.png  \n",
            "  inflating: transistor/validation/undamaged/110.png  \n",
            "  inflating: transistor/validation/undamaged/114.png  \n",
            "  inflating: transistor/validation/undamaged/117.png  \n",
            "  inflating: transistor/validation/undamaged/122.png  \n",
            "  inflating: transistor/validation/undamaged/131.png  \n",
            "  inflating: transistor/validation/undamaged/135.png  \n",
            "  inflating: transistor/validation/undamaged/138.png  \n",
            "  inflating: transistor/validation/undamaged/141.png  \n",
            "  inflating: transistor/validation/undamaged/145.png  \n",
            "  inflating: transistor/validation/undamaged/150.png  \n",
            "  inflating: transistor/validation/undamaged/154.png  \n",
            "  inflating: transistor/validation/undamaged/156.png  \n",
            "  inflating: transistor/validation/undamaged/163.png  \n",
            "  inflating: transistor/validation/undamaged/170.png  \n",
            "  inflating: transistor/validation/undamaged/180.png  \n",
            "  inflating: transistor/validation/undamaged/186.png  \n",
            "  inflating: transistor/validation/undamaged/188.png  \n",
            "  inflating: transistor/validation/undamaged/191.png  \n",
            "  inflating: transistor/validation/undamaged/200.png  \n",
            "  inflating: transistor/validation/undamaged/207.png  \n",
            "  inflating: transistor/validation/undamaged/210.png  \n",
            "  inflating: transistor/validation/undamaged/212.png  \n",
            "  inflating: transistor/validation/undamaged/166.png  \n",
            "   creating: transistor/validation/damaged/\n",
            "  inflating: transistor/validation/damaged/000_3.png  \n",
            "  inflating: transistor/validation/damaged/001_2.png  \n",
            "  inflating: transistor/validation/damaged/006_2.png  \n",
            "  inflating: transistor/validation/damaged/001_1.png  \n",
            "  inflating: transistor/validation/damaged/004_1.png  \n",
            "  inflating: transistor/validation/damaged/002_4.png  \n",
            "  inflating: transistor/validation/damaged/007_4.png  \n",
            "  inflating: transistor/validation/damaged/009_4.png  \n"
          ],
          "name": "stdout"
        }
      ]
    },
    {
      "cell_type": "code",
      "metadata": {
        "id": "L9BZVgQn7E5s"
      },
      "source": [
        ""
      ],
      "execution_count": null,
      "outputs": []
    },
    {
      "cell_type": "code",
      "metadata": {
        "id": "iFT9cQ7XgnV5"
      },
      "source": [
        "#rm -r Mvtec_dataset/"
      ],
      "execution_count": null,
      "outputs": []
    },
    {
      "cell_type": "code",
      "metadata": {
        "id": "SECDQTwAgnbG"
      },
      "source": [
        ""
      ],
      "execution_count": null,
      "outputs": []
    },
    {
      "cell_type": "code",
      "metadata": {
        "id": "MD-f0i4x5yyf"
      },
      "source": [
        "#imports\n",
        "\n",
        "import tensorflow as tf\n",
        "\n",
        "from tensorflow.keras.applications.mobilenet_v2 import MobileNetV2,preprocess_input\n",
        "from tensorflow.keras.layers import Input,GlobalMaxPooling2D,Dense\n",
        "from tensorflow.keras.models import Model\n",
        "from tensorflow.keras.preprocessing.image import img_to_array,load_img\n",
        "\n",
        "import numpy as np\n",
        "from cv2 import resize\n",
        "from os import path, listdir"
      ],
      "execution_count": null,
      "outputs": []
    },
    {
      "cell_type": "code",
      "metadata": {
        "id": "VXJzFL-05y2p"
      },
      "source": [
        ""
      ],
      "execution_count": null,
      "outputs": []
    },
    {
      "cell_type": "code",
      "metadata": {
        "id": "oHnNi5R6XTvG"
      },
      "source": [
        "import keras\n",
        "import keras.layers as layers\n",
        "from keras.models import Sequential"
      ],
      "execution_count": null,
      "outputs": []
    },
    {
      "cell_type": "code",
      "metadata": {
        "id": "z6CRsAl5XTzp"
      },
      "source": [
        ""
      ],
      "execution_count": null,
      "outputs": []
    },
    {
      "cell_type": "code",
      "metadata": {
        "id": "6kpptESv66Xf"
      },
      "source": [
        ""
      ],
      "execution_count": null,
      "outputs": []
    },
    {
      "cell_type": "code",
      "metadata": {
        "id": "f2VYZjrT66bt"
      },
      "source": [
        "def my_model():\n",
        "    inputs = keras.Input(shape=(1024, 1024, 3))\n",
        "    x = layers.Conv2D(32, 3)(inputs)\n",
        "    x = layers.BatchNormalization()(x)\n",
        "    x = keras.activations.relu(x)\n",
        "    x = layers.MaxPooling2D()(x)\n",
        "    x = layers.Conv2D(64, 3)(x)\n",
        "    x = layers.BatchNormalization()(x)\n",
        "    x = keras.activations.relu(x)\n",
        "    x = layers.MaxPooling2D()(x)\n",
        "    x = layers.Conv2D(128, 3)(x)\n",
        "    x = layers.GlobalMaxPooling2D()(x)\n",
        "    x = layers.BatchNormalization()(x)\n",
        "    x = keras.activations.relu(x)\n",
        "    x = layers.Flatten()(x)\n",
        "    x = layers.Dense(64, activation=\"relu\")(x)\n",
        "    outputs = layers.Dense(2)(x)\n",
        "    model = keras.Model(inputs=inputs, outputs=outputs)\n",
        "    return model"
      ],
      "execution_count": null,
      "outputs": []
    },
    {
      "cell_type": "code",
      "metadata": {
        "id": "83c6bB2U66fl"
      },
      "source": [
        ""
      ],
      "execution_count": null,
      "outputs": []
    },
    {
      "cell_type": "code",
      "metadata": {
        "id": "3WcehfFFyOAY"
      },
      "source": [
        ""
      ],
      "execution_count": null,
      "outputs": []
    },
    {
      "cell_type": "code",
      "metadata": {
        "id": "DLzVCdbZ0OfT"
      },
      "source": [
        "model = my_model()"
      ],
      "execution_count": null,
      "outputs": []
    },
    {
      "cell_type": "code",
      "metadata": {
        "id": "4zhBK6C739oa"
      },
      "source": [
        ""
      ],
      "execution_count": null,
      "outputs": []
    },
    {
      "cell_type": "code",
      "metadata": {
        "id": "7x1S1nEi39tq"
      },
      "source": [
        "model.load_weights('insulators-v24_2.h5')"
      ],
      "execution_count": null,
      "outputs": []
    },
    {
      "cell_type": "code",
      "metadata": {
        "id": "EFpwYJHCdlgk",
        "colab": {
          "base_uri": "https://localhost:8080/",
          "height": 697
        },
        "outputId": "4143b705-4387-4389-af45-7d055c0f3e8e"
      },
      "source": [
        "model.summary()"
      ],
      "execution_count": null,
      "outputs": [
        {
          "output_type": "stream",
          "text": [
            "Model: \"functional_3\"\n",
            "_________________________________________________________________\n",
            "Layer (type)                 Output Shape              Param #   \n",
            "=================================================================\n",
            "input_2 (InputLayer)         [(None, 1024, 1024, 3)]   0         \n",
            "_________________________________________________________________\n",
            "conv2d_3 (Conv2D)            (None, 1022, 1022, 32)    896       \n",
            "_________________________________________________________________\n",
            "batch_normalization_3 (Batch (None, 1022, 1022, 32)    128       \n",
            "_________________________________________________________________\n",
            "tf_op_layer_Relu_3 (TensorFl [(None, 1022, 1022, 32)]  0         \n",
            "_________________________________________________________________\n",
            "max_pooling2d_2 (MaxPooling2 (None, 511, 511, 32)      0         \n",
            "_________________________________________________________________\n",
            "conv2d_4 (Conv2D)            (None, 509, 509, 64)      18496     \n",
            "_________________________________________________________________\n",
            "batch_normalization_4 (Batch (None, 509, 509, 64)      256       \n",
            "_________________________________________________________________\n",
            "tf_op_layer_Relu_4 (TensorFl [(None, 509, 509, 64)]    0         \n",
            "_________________________________________________________________\n",
            "max_pooling2d_3 (MaxPooling2 (None, 254, 254, 64)      0         \n",
            "_________________________________________________________________\n",
            "conv2d_5 (Conv2D)            (None, 252, 252, 128)     73856     \n",
            "_________________________________________________________________\n",
            "global_max_pooling2d_1 (Glob (None, 128)               0         \n",
            "_________________________________________________________________\n",
            "batch_normalization_5 (Batch (None, 128)               512       \n",
            "_________________________________________________________________\n",
            "tf_op_layer_Relu_5 (TensorFl [(None, 128)]             0         \n",
            "_________________________________________________________________\n",
            "flatten_1 (Flatten)          (None, 128)               0         \n",
            "_________________________________________________________________\n",
            "dense_2 (Dense)              (None, 64)                8256      \n",
            "_________________________________________________________________\n",
            "dense_3 (Dense)              (None, 2)                 130       \n",
            "=================================================================\n",
            "Total params: 102,530\n",
            "Trainable params: 102,082\n",
            "Non-trainable params: 448\n",
            "_________________________________________________________________\n"
          ],
          "name": "stdout"
        }
      ]
    },
    {
      "cell_type": "code",
      "metadata": {
        "id": "wxHEpAcwdll1"
      },
      "source": [
        ""
      ],
      "execution_count": null,
      "outputs": []
    },
    {
      "cell_type": "code",
      "metadata": {
        "id": "DUzV301ld0Ju",
        "colab": {
          "base_uri": "https://localhost:8080/",
          "height": 34
        },
        "outputId": "beb4ad3c-eaa6-4e19-b480-bbd57987681b"
      },
      "source": [
        "# Number of layers in the base AdeNet model\n",
        "print(\"Number of layers in the base model: \", len(model.layers))"
      ],
      "execution_count": null,
      "outputs": [
        {
          "output_type": "stream",
          "text": [
            "Number of layers in the base model:  16\n"
          ],
          "name": "stdout"
        }
      ]
    },
    {
      "cell_type": "code",
      "metadata": {
        "id": "d-yVEf5Gd0Oy"
      },
      "source": [
        "# Fine-tune from this layer onwards\n",
        "fine_tune_at = 2\n",
        "\n",
        "# Freeze all the layers before the 'fine_tune_at' layer\n",
        "for layer in model.layers[:fine_tune_at]:\n",
        "  layer.trainable = False"
      ],
      "execution_count": null,
      "outputs": []
    },
    {
      "cell_type": "code",
      "metadata": {
        "id": "fGKef3P5eRJ7"
      },
      "source": [
        ""
      ],
      "execution_count": null,
      "outputs": []
    },
    {
      "cell_type": "code",
      "metadata": {
        "id": "X7DeZRqu7TrM"
      },
      "source": [
        "model.compile(\n",
        "    loss=keras.losses.SparseCategoricalCrossentropy(from_logits=True),\n",
        "    optimizer=keras.optimizers.Adam(lr=3e-4),\n",
        "    metrics=[\"accuracy\"],\n",
        ")"
      ],
      "execution_count": null,
      "outputs": []
    },
    {
      "cell_type": "code",
      "metadata": {
        "id": "tiF_joGN7Tvm"
      },
      "source": [
        ""
      ],
      "execution_count": null,
      "outputs": []
    },
    {
      "cell_type": "code",
      "metadata": {
        "id": "Cb2cqpTK7T0D"
      },
      "source": [
        ""
      ],
      "execution_count": null,
      "outputs": []
    },
    {
      "cell_type": "code",
      "metadata": {
        "id": "Otgf7YYUvJcX",
        "colab": {
          "base_uri": "https://localhost:8080/",
          "height": 697
        },
        "outputId": "85b79d84-643d-47b1-c7bd-24d3b5adad96"
      },
      "source": [
        "model.summary()"
      ],
      "execution_count": null,
      "outputs": [
        {
          "output_type": "stream",
          "text": [
            "Model: \"functional_3\"\n",
            "_________________________________________________________________\n",
            "Layer (type)                 Output Shape              Param #   \n",
            "=================================================================\n",
            "input_2 (InputLayer)         [(None, 1024, 1024, 3)]   0         \n",
            "_________________________________________________________________\n",
            "conv2d_3 (Conv2D)            (None, 1022, 1022, 32)    896       \n",
            "_________________________________________________________________\n",
            "batch_normalization_3 (Batch (None, 1022, 1022, 32)    128       \n",
            "_________________________________________________________________\n",
            "tf_op_layer_Relu_3 (TensorFl [(None, 1022, 1022, 32)]  0         \n",
            "_________________________________________________________________\n",
            "max_pooling2d_2 (MaxPooling2 (None, 511, 511, 32)      0         \n",
            "_________________________________________________________________\n",
            "conv2d_4 (Conv2D)            (None, 509, 509, 64)      18496     \n",
            "_________________________________________________________________\n",
            "batch_normalization_4 (Batch (None, 509, 509, 64)      256       \n",
            "_________________________________________________________________\n",
            "tf_op_layer_Relu_4 (TensorFl [(None, 509, 509, 64)]    0         \n",
            "_________________________________________________________________\n",
            "max_pooling2d_3 (MaxPooling2 (None, 254, 254, 64)      0         \n",
            "_________________________________________________________________\n",
            "conv2d_5 (Conv2D)            (None, 252, 252, 128)     73856     \n",
            "_________________________________________________________________\n",
            "global_max_pooling2d_1 (Glob (None, 128)               0         \n",
            "_________________________________________________________________\n",
            "batch_normalization_5 (Batch (None, 128)               512       \n",
            "_________________________________________________________________\n",
            "tf_op_layer_Relu_5 (TensorFl [(None, 128)]             0         \n",
            "_________________________________________________________________\n",
            "flatten_1 (Flatten)          (None, 128)               0         \n",
            "_________________________________________________________________\n",
            "dense_2 (Dense)              (None, 64)                8256      \n",
            "_________________________________________________________________\n",
            "dense_3 (Dense)              (None, 2)                 130       \n",
            "=================================================================\n",
            "Total params: 102,530\n",
            "Trainable params: 101,186\n",
            "Non-trainable params: 1,344\n",
            "_________________________________________________________________\n"
          ],
          "name": "stdout"
        }
      ]
    },
    {
      "cell_type": "code",
      "metadata": {
        "id": "pwXLL61etc_-"
      },
      "source": [
        ""
      ],
      "execution_count": null,
      "outputs": []
    },
    {
      "cell_type": "code",
      "metadata": {
        "id": "bAaKhhzvUV9s",
        "colab": {
          "base_uri": "https://localhost:8080/",
          "height": 1000
        },
        "outputId": "8019763a-93ab-4dbc-b0af-857d9d6b129e"
      },
      "source": [
        "dot_img_file = '/tmp/model_1.png'\n",
        "tf.keras.utils.plot_model(model, to_file=dot_img_file, show_shapes=True)"
      ],
      "execution_count": null,
      "outputs": [
        {
          "output_type": "execute_result",
          "data": {
            "image/png": "[encoded data removed]",
            "text/plain": [
              "<IPython.core.display.Image object>"
            ]
          },
          "metadata": {
            "tags": []
          },
          "execution_count": 34
        }
      ]
    },
    {
      "cell_type": "code",
      "metadata": {
        "id": "bKro8KD0UWCQ"
      },
      "source": [
        ""
      ],
      "execution_count": null,
      "outputs": []
    },
    {
      "cell_type": "code",
      "metadata": {
        "id": "rmUmRwnd8msY"
      },
      "source": [
        "n_classes = 2"
      ],
      "execution_count": null,
      "outputs": []
    },
    {
      "cell_type": "code",
      "metadata": {
        "id": "AoBNDZCMO1AI"
      },
      "source": [
        ""
      ],
      "execution_count": null,
      "outputs": []
    },
    {
      "cell_type": "code",
      "metadata": {
        "id": "UNqo4aqg5zB8"
      },
      "source": [
        "#data generator class; yields batches of data for training/testing\n",
        "class ImageGenerator():\n",
        "\n",
        "    def __init__(self, directory, batch_size=16, shuffle=False, max_dimension=None):        \n",
        "        \n",
        "        self.directories = directory\n",
        "        self.batch_size = batch_size\n",
        "        self.shuffle = shuffle\n",
        "        self.max_dimension = max_dimension\n",
        "        \n",
        "        self.image_paths = []\n",
        "        self.class_labels = []\n",
        "        \n",
        "        #create list of image file paths and class target labels\n",
        "        for class_label, class_dir in enumerate(listdir(directory)):\n",
        "            self.image_paths += [path.join(directory,class_dir,f) for f in listdir(path.join(directory,class_dir))]\n",
        "            self.class_labels += [class_label for _ in listdir(path.join(directory,class_dir))]\n",
        "\n",
        "        self.image_paths = np.array(self.image_paths)\n",
        "        self.class_labels = np.array(self.class_labels)\n",
        "\n",
        "        #index array for shuffling data\n",
        "        self.idx = np.arange(len(self.image_paths))\n",
        "        \n",
        "    \n",
        "    def __len__(self):\n",
        "        \n",
        "        #number of batches in an epoch\n",
        "        return int(np.ceil(len(self.image_paths)/float(self.batch_size)))\n",
        "    \n",
        "    \n",
        "    def _load_image(self,img_path):\n",
        "        \n",
        "        #load image from path and convert to array\n",
        "        #img = load_img(img_path, color_mode='rgb', interpolation='nearest')\n",
        "        img = load_img(img_path, color_mode='rgb', interpolation='nearest')\n",
        "        img = img_to_array(img)\n",
        "        \n",
        "        #downsample image if above allowed size if specified\n",
        "        max_dim = max(img.shape) \n",
        "        if self.max_dimension:\n",
        "            if max_dim > self.max_dimension:\n",
        "                new_dim = tuple(d*self.max_dimension//max_dim for d in img.shape[1::-1])\n",
        "                img = resize(img, new_dim)\n",
        "            \n",
        "        #scale image values\n",
        "        img = preprocess_input(img)\n",
        "\n",
        "        return img\n",
        "    \n",
        "    \n",
        "    def _pad_images(self,img,shape):\n",
        "        #pad images to match largest image in batch\n",
        "        img = np.pad(img,(*[((shape[i]-img.shape[i])//2,\n",
        "                    ((shape[i]-img.shape[i])//2) + ((shape[i]-img.shape[i])%2)) for i in range(2)],\n",
        "                          (0,0)),mode='constant',constant_values=0.)\n",
        "        \n",
        "        return img\n",
        "\n",
        "\n",
        "    def __call__(self):\n",
        "        #shuffle index\n",
        "        if self.shuffle:\n",
        "            np.random.shuffle(self.idx)\n",
        "        \n",
        "        #generate batches\n",
        "        for batch in range(len(self)):\n",
        "\n",
        "            batch_image_paths = self.image_paths[self.idx[batch*self.batch_size:(batch+1)*self.batch_size]]\n",
        "            batch_class_labels = self.class_labels[self.idx[batch*self.batch_size:(batch+1)*self.batch_size]]\n",
        "\n",
        "            batch_images = [self._load_image(image_path) for image_path in batch_image_paths]\n",
        "\n",
        "            max_resolution = tuple(max([img.shape[i] for img in batch_images]) for i in range(2))\n",
        "            batch_images = np.array([self._pad_images(image,max_resolution) for image in batch_images])\n",
        "\n",
        "            yield batch_images, batch_class_labels"
      ],
      "execution_count": null,
      "outputs": []
    },
    {
      "cell_type": "code",
      "metadata": {
        "id": "1TT47dDMNywx"
      },
      "source": [
        ""
      ],
      "execution_count": null,
      "outputs": []
    },
    {
      "cell_type": "code",
      "metadata": {
        "id": "4lsQQYlcIC-y"
      },
      "source": [
        "# model.load_weights('insulators-v24_2.h5')"
      ],
      "execution_count": null,
      "outputs": []
    },
    {
      "cell_type": "code",
      "metadata": {
        "id": "sEv2vlVkNy1g"
      },
      "source": [
        ""
      ],
      "execution_count": null,
      "outputs": []
    },
    {
      "cell_type": "code",
      "metadata": {
        "id": "dNXd0bCC5541",
        "colab": {
          "base_uri": "https://localhost:8080/",
          "height": 697
        },
        "outputId": "b264874f-e5d1-4aa0-a568-b55c6edcda66"
      },
      "source": [
        "#initialize our generators; specifying data directories, batch size, and dimension threshold\n",
        "\n",
        "train_image_directory = 'transistor/train'\n",
        "test_image_directory = 'transistor/validation'\n",
        "\n",
        "n_classes = 2\n",
        "batch_size = 16\n",
        "max_dimension = 1024\n",
        "\n",
        "#create generators for training and generating\n",
        "\n",
        "train_generator = ImageGenerator(train_image_directory, batch_size=batch_size, shuffle=True, max_dimension=max_dimension)\n",
        "test_generator = ImageGenerator(test_image_directory, batch_size=batch_size, max_dimension=max_dimension)\n",
        "\n",
        "#convert generators into tf.data.Dataset objects for optimization with keras model fit method\n",
        "\n",
        "train_dataset = tf.data.Dataset.from_generator(train_generator,\n",
        "     (tf.float32, tf.int32),\n",
        "    (tf.TensorShape([None,None,None,3]), tf.TensorShape([None])))\n",
        "\n",
        "test_dataset = tf.data.Dataset.from_generator(test_generator,\n",
        "     (tf.float32, tf.int32),\n",
        "    (tf.TensorShape([None,None,None,3]), tf.TensorShape([None])))\n",
        "\n",
        "\n",
        "#train and evaluate model\n",
        "history = model.fit(train_dataset,validation_data=test_dataset,epochs=20,verbose=1,workers=2,max_queue_size=20)"
      ],
      "execution_count": null,
      "outputs": [
        {
          "output_type": "stream",
          "text": [
            "Epoch 1/20\n",
            "16/16 [==============================] - 32s 2s/step - loss: 0.9403 - accuracy: 0.6375 - val_loss: 0.4027 - val_accuracy: 0.8710\n",
            "Epoch 2/20\n",
            "16/16 [==============================] - 29s 2s/step - loss: 0.2717 - accuracy: 0.8884 - val_loss: 0.4313 - val_accuracy: 0.8710\n",
            "Epoch 3/20\n",
            "16/16 [==============================] - 29s 2s/step - loss: 0.1756 - accuracy: 0.9323 - val_loss: 0.4194 - val_accuracy: 0.8710\n",
            "Epoch 4/20\n",
            "16/16 [==============================] - 29s 2s/step - loss: 0.0869 - accuracy: 0.9841 - val_loss: 0.4086 - val_accuracy: 0.8710\n",
            "Epoch 5/20\n",
            "16/16 [==============================] - 29s 2s/step - loss: 0.0644 - accuracy: 0.9960 - val_loss: 0.4058 - val_accuracy: 0.8710\n",
            "Epoch 6/20\n",
            "16/16 [==============================] - 29s 2s/step - loss: 0.0497 - accuracy: 1.0000 - val_loss: 0.4144 - val_accuracy: 0.8710\n",
            "Epoch 7/20\n",
            "16/16 [==============================] - 29s 2s/step - loss: 0.0371 - accuracy: 0.9960 - val_loss: 0.4239 - val_accuracy: 0.8710\n",
            "Epoch 8/20\n",
            "16/16 [==============================] - 29s 2s/step - loss: 0.0449 - accuracy: 0.9960 - val_loss: 0.4215 - val_accuracy: 0.8710\n",
            "Epoch 9/20\n",
            "16/16 [==============================] - 29s 2s/step - loss: 0.0251 - accuracy: 0.9960 - val_loss: 0.4547 - val_accuracy: 0.8710\n",
            "Epoch 10/20\n",
            "16/16 [==============================] - 29s 2s/step - loss: 0.0258 - accuracy: 1.0000 - val_loss: 0.4163 - val_accuracy: 0.8710\n",
            "Epoch 11/20\n",
            "16/16 [==============================] - 29s 2s/step - loss: 0.0212 - accuracy: 1.0000 - val_loss: 0.4069 - val_accuracy: 0.8710\n",
            "Epoch 12/20\n",
            "16/16 [==============================] - 29s 2s/step - loss: 0.0192 - accuracy: 1.0000 - val_loss: 0.4299 - val_accuracy: 0.8710\n",
            "Epoch 13/20\n",
            "16/16 [==============================] - 29s 2s/step - loss: 0.0184 - accuracy: 1.0000 - val_loss: 0.4612 - val_accuracy: 0.8710\n",
            "Epoch 14/20\n",
            "16/16 [==============================] - 29s 2s/step - loss: 0.0113 - accuracy: 1.0000 - val_loss: 0.4695 - val_accuracy: 0.8710\n",
            "Epoch 15/20\n",
            "16/16 [==============================] - 29s 2s/step - loss: 0.0149 - accuracy: 1.0000 - val_loss: 0.4519 - val_accuracy: 0.8710\n",
            "Epoch 16/20\n",
            "16/16 [==============================] - 29s 2s/step - loss: 0.0100 - accuracy: 1.0000 - val_loss: 0.4283 - val_accuracy: 0.8710\n",
            "Epoch 17/20\n",
            "16/16 [==============================] - 29s 2s/step - loss: 0.0099 - accuracy: 1.0000 - val_loss: 0.4442 - val_accuracy: 0.8710\n",
            "Epoch 18/20\n",
            "16/16 [==============================] - 29s 2s/step - loss: 0.0080 - accuracy: 1.0000 - val_loss: 0.4309 - val_accuracy: 0.8710\n",
            "Epoch 19/20\n",
            "16/16 [==============================] - 29s 2s/step - loss: 0.0087 - accuracy: 1.0000 - val_loss: 0.4256 - val_accuracy: 0.8710\n",
            "Epoch 20/20\n",
            "16/16 [==============================] - 29s 2s/step - loss: 0.0079 - accuracy: 1.0000 - val_loss: 0.4334 - val_accuracy: 0.8710\n"
          ],
          "name": "stdout"
        }
      ]
    },
    {
      "cell_type": "code",
      "metadata": {
        "id": "WubNl82nsxw_"
      },
      "source": [
        ""
      ],
      "execution_count": null,
      "outputs": []
    },
    {
      "cell_type": "code",
      "metadata": {
        "id": "pFxhCxkvw7HB"
      },
      "source": [
        "#train_dataset"
      ],
      "execution_count": null,
      "outputs": []
    },
    {
      "cell_type": "code",
      "metadata": {
        "id": "ucOrOE4sw7QB"
      },
      "source": [
        ""
      ],
      "execution_count": null,
      "outputs": []
    },
    {
      "cell_type": "code",
      "metadata": {
        "id": "K3XqdjjLw7Vb"
      },
      "source": [
        ""
      ],
      "execution_count": null,
      "outputs": []
    },
    {
      "cell_type": "code",
      "metadata": {
        "id": "uuLWHAZLw7Z7"
      },
      "source": [
        ""
      ],
      "execution_count": null,
      "outputs": []
    },
    {
      "cell_type": "code",
      "metadata": {
        "id": "l66TTVrCsx16"
      },
      "source": [
        "#history = model.fit(train_dataset,validation_data=test_dataset,epochs=20)"
      ],
      "execution_count": null,
      "outputs": []
    },
    {
      "cell_type": "code",
      "metadata": {
        "id": "wWxz29j9sx5o"
      },
      "source": [
        ""
      ],
      "execution_count": null,
      "outputs": []
    },
    {
      "cell_type": "code",
      "metadata": {
        "id": "fShVu-LikNLr"
      },
      "source": [
        ""
      ],
      "execution_count": null,
      "outputs": []
    },
    {
      "cell_type": "code",
      "metadata": {
        "id": "YE6HP2JHruTG"
      },
      "source": [
        "# from PIL import Image\n",
        "\n",
        "# im = Image.open(\"/content/Mvtec_dataset/train/damaged/000_2.jpg\")"
      ],
      "execution_count": null,
      "outputs": []
    },
    {
      "cell_type": "code",
      "metadata": {
        "id": "cORTAJ8SruX3"
      },
      "source": [
        ""
      ],
      "execution_count": null,
      "outputs": []
    },
    {
      "cell_type": "code",
      "metadata": {
        "id": "7ZA8Ex8trubv"
      },
      "source": [
        ""
      ],
      "execution_count": null,
      "outputs": []
    },
    {
      "cell_type": "code",
      "metadata": {
        "id": "agaFBlS4rufV"
      },
      "source": [
        ""
      ],
      "execution_count": null,
      "outputs": []
    },
    {
      "cell_type": "code",
      "metadata": {
        "id": "xkLmBs0lrujM"
      },
      "source": [
        ""
      ],
      "execution_count": null,
      "outputs": []
    },
    {
      "cell_type": "code",
      "metadata": {
        "id": "LSrWfpTEkNQz"
      },
      "source": [
        "#history = model.fit(train_dataset,validation_data=test_dataset,epochs=2,verbose=1)"
      ],
      "execution_count": null,
      "outputs": []
    },
    {
      "cell_type": "code",
      "metadata": {
        "id": "5PX64mG6558a"
      },
      "source": [
        "#history = model.fit(train_dataset,validation_data=test_dataset,epochs=2,verbose=1)"
      ],
      "execution_count": null,
      "outputs": []
    },
    {
      "cell_type": "code",
      "metadata": {
        "id": "9qaFTuBxOGp0"
      },
      "source": [
        ""
      ],
      "execution_count": null,
      "outputs": []
    },
    {
      "cell_type": "code",
      "metadata": {
        "id": "Mld10ngROGuF"
      },
      "source": [
        ""
      ],
      "execution_count": null,
      "outputs": []
    },
    {
      "cell_type": "code",
      "metadata": {
        "id": "HQffqt-tOGyM"
      },
      "source": [
        ""
      ],
      "execution_count": null,
      "outputs": []
    },
    {
      "cell_type": "code",
      "metadata": {
        "id": "DDz2fTPoOG1_"
      },
      "source": [
        ""
      ],
      "execution_count": null,
      "outputs": []
    },
    {
      "cell_type": "code",
      "metadata": {
        "id": "mPWWNamSIC6D"
      },
      "source": [
        "# Save the entire model to a HDF5 file\n",
        "model.save('MVTec_Transistor_fine_tuning.h5')"
      ],
      "execution_count": null,
      "outputs": []
    },
    {
      "cell_type": "markdown",
      "metadata": {
        "id": "onPSA7edIZzE"
      },
      "source": [
        "Visualize"
      ]
    },
    {
      "cell_type": "code",
      "metadata": {
        "id": "8y43g1SZLET-"
      },
      "source": [
        ""
      ],
      "execution_count": null,
      "outputs": []
    },
    {
      "cell_type": "code",
      "metadata": {
        "id": "e2BYqVLXLEYD"
      },
      "source": [
        "import matplotlib.pyplot as plt"
      ],
      "execution_count": null,
      "outputs": []
    },
    {
      "cell_type": "code",
      "metadata": {
        "id": "z7gQI38q_txj",
        "colab": {
          "base_uri": "https://localhost:8080/",
          "height": 496
        },
        "outputId": "7aa24e64-ad89-40ac-da5d-8ea788997d78"
      },
      "source": [
        "acc = history.history['accuracy']\n",
        "val_acc = history.history['val_accuracy']\n",
        "\n",
        "loss = history.history['loss']\n",
        "val_loss = history.history['val_loss']\n",
        "\n",
        "epochs_range = range(12)\n",
        "\n",
        "plt.figure(figsize=(25, 8))\n",
        "plt.subplot(1, 2, 1)\n",
        "\n",
        "\n",
        "#plt.plot(epochs_range, acc, label='Training Accuracy')\n",
        "#plt.plot(epochs_range, val_acc, label='Validation Accuracy')\n",
        "\n",
        "plt.plot(acc, label='Training Accuracy')\n",
        "plt.plot(val_acc, label='Validation Accuracy')\n",
        "\n",
        "\n",
        "plt.legend(loc='lower right')\n",
        "plt.title('Training and Validation Accuracy')\n",
        "\n",
        "plt.subplot(1, 2, 2)\n",
        "#plt.plot(epochs_range, loss, label='Training Loss')\n",
        "#plt.plot(epochs_range, val_loss, label='Validation Loss')\n",
        "\n",
        "\n",
        "plt.plot(loss, label='Training Loss')\n",
        "plt.plot(val_loss, label='Validation Loss')\n",
        "\n",
        "plt.legend(loc='upper right')\n",
        "plt.title('Training and Validation Loss')\n",
        "plt.show()"
      ],
      "execution_count": null,
      "outputs": [
        {
          "output_type": "display_data",
          "data": {
            "image/png": "[encoded data removed]",
            "text/plain": [
              "<Figure size 1800x576 with 2 Axes>"
            ]
          },
          "metadata": {
            "tags": [],
            "needs_background": "light"
          }
        }
      ]
    },
    {
      "cell_type": "code",
      "metadata": {
        "id": "o-P9EzTm_t2E"
      },
      "source": [
        ""
      ],
      "execution_count": null,
      "outputs": []
    },
    {
      "cell_type": "code",
      "metadata": {
        "id": "WavzSdZvIYZW"
      },
      "source": [
        "# acc = history.history['sparse_categorical_accuracy']\n",
        "# val_acc = history.history['val_sparse_categorical_accuracy']\n",
        "\n",
        "# loss = history.history['loss']\n",
        "# val_loss = history.history['val_loss']\n",
        "\n",
        "# epochs_range = range(12)\n",
        "\n",
        "# plt.figure(figsize=(25, 8))\n",
        "# plt.subplot(1, 2, 1)\n",
        "\n",
        "\n",
        "# #plt.plot(epochs_range, acc, label='Training Accuracy')\n",
        "# #plt.plot(epochs_range, val_acc, label='Validation Accuracy')\n",
        "\n",
        "# plt.plot(acc, label='Training Accuracy')\n",
        "# plt.plot(val_acc, label='Validation Accuracy')\n",
        "\n",
        "\n",
        "# plt.legend(loc='lower right')\n",
        "# plt.title('Training and Validation Accuracy')\n",
        "\n",
        "# plt.subplot(1, 2, 2)\n",
        "# #plt.plot(epochs_range, loss, label='Training Loss')\n",
        "# #plt.plot(epochs_range, val_loss, label='Validation Loss')\n",
        "\n",
        "\n",
        "# plt.plot(loss, label='Training Loss')\n",
        "# plt.plot(val_loss, label='Validation Loss')\n",
        "\n",
        "# plt.legend(loc='upper right')\n",
        "# plt.title('Training and Validation Loss')\n",
        "# plt.show()"
      ],
      "execution_count": null,
      "outputs": []
    },
    {
      "cell_type": "code",
      "metadata": {
        "id": "YhMr0lP3IYdw"
      },
      "source": [
        ""
      ],
      "execution_count": null,
      "outputs": []
    },
    {
      "cell_type": "code",
      "metadata": {
        "id": "itABmUbTIYiC"
      },
      "source": [
        ""
      ],
      "execution_count": null,
      "outputs": []
    },
    {
      "cell_type": "markdown",
      "metadata": {
        "id": "bmMbjdyaKCm8"
      },
      "source": [
        "Evaluation"
      ]
    },
    {
      "cell_type": "code",
      "metadata": {
        "id": "KInf04UIKCDf"
      },
      "source": [
        ""
      ],
      "execution_count": null,
      "outputs": []
    },
    {
      "cell_type": "code",
      "metadata": {
        "id": "FjIWGE4OKZG8",
        "colab": {
          "base_uri": "https://localhost:8080/",
          "height": 190
        },
        "outputId": "868484b0-7a1e-4dd9-dfee-c896496f11fc"
      },
      "source": [
        "test_loss, test_acc = model.evaluate_generator(test_dataset, verbose=0)\n",
        "\n",
        "#test_loss, test_acc = model.evaluate_generator(test_data_gen, verbose=0)\n",
        "\n",
        "print('\\nTest accuracy:', test_acc)\n",
        "\n",
        "\n",
        "\n",
        "print('\\nTest accuracy:', test_acc)\n",
        "\n",
        "print('\\nTest loss:', test_loss)\n",
        "\n",
        "\n",
        "\n",
        "\n",
        "\n",
        "\n",
        "\n",
        "\n",
        "\n",
        "\n",
        "\n"
      ],
      "execution_count": null,
      "outputs": [
        {
          "output_type": "stream",
          "text": [
            "WARNING:tensorflow:From <ipython-input-48-fa60b5366d19>:1: Model.evaluate_generator (from tensorflow.python.keras.engine.training) is deprecated and will be removed in a future version.\n",
            "Instructions for updating:\n",
            "Please use Model.evaluate, which supports generators.\n",
            "\n",
            "Test accuracy: 0.8709677457809448\n",
            "\n",
            "Test accuracy: 0.8709677457809448\n",
            "\n",
            "Test loss: 0.4333721399307251\n"
          ],
          "name": "stdout"
        }
      ]
    },
    {
      "cell_type": "code",
      "metadata": {
        "id": "VGdfCkpOKp0w"
      },
      "source": [
        ""
      ],
      "execution_count": null,
      "outputs": []
    },
    {
      "cell_type": "code",
      "metadata": {
        "id": "QGc5jniQKp5i",
        "colab": {
          "base_uri": "https://localhost:8080/",
          "height": 105
        },
        "outputId": "148fcca3-98e1-408e-eb0c-e57d9a4b4861"
      },
      "source": [
        "## Make predictions on test data ##\n",
        "\n",
        "### Let's make predictions on some images ###\n",
        "\n",
        "test_generator.class_labels\n",
        "\n",
        "predictions = model.predict_generator(test_dataset)\n",
        "\n",
        "true_labels = test_generator.class_labels\n",
        "\n",
        "predictions[0]\n",
        "\n",
        "np.argmax(predictions[0])\n",
        "\n",
        "test_generator.class_labels[0]\n",
        "\n",
        "predictions[-1]\n",
        "\n",
        "np.argmax(predictions[-1])\n",
        "\n",
        "test_generator.class_labels[-1]\n",
        "\n",
        "\n",
        "\n",
        "#test_dataset.classes"
      ],
      "execution_count": null,
      "outputs": [
        {
          "output_type": "stream",
          "text": [
            "WARNING:tensorflow:From <ipython-input-49-bf11b649030b>:7: Model.predict_generator (from tensorflow.python.keras.engine.training) is deprecated and will be removed in a future version.\n",
            "Instructions for updating:\n",
            "Please use Model.predict, which supports generators.\n"
          ],
          "name": "stdout"
        },
        {
          "output_type": "execute_result",
          "data": {
            "text/plain": [
              "1"
            ]
          },
          "metadata": {
            "tags": []
          },
          "execution_count": 49
        }
      ]
    },
    {
      "cell_type": "code",
      "metadata": {
        "id": "zotUK5EMKZK5",
        "colab": {
          "base_uri": "https://localhost:8080/",
          "height": 34
        },
        "outputId": "8b335d4a-bdde-48a7-f590-525590d7b2b3"
      },
      "source": [
        "type(test_dataset)\n"
      ],
      "execution_count": null,
      "outputs": [
        {
          "output_type": "execute_result",
          "data": {
            "text/plain": [
              "tensorflow.python.data.ops.dataset_ops.FlatMapDataset"
            ]
          },
          "metadata": {
            "tags": []
          },
          "execution_count": 50
        }
      ]
    },
    {
      "cell_type": "code",
      "metadata": {
        "id": "83SaEY0ybOeK"
      },
      "source": [
        "#test_generator.image_paths"
      ],
      "execution_count": null,
      "outputs": []
    },
    {
      "cell_type": "code",
      "metadata": {
        "id": "IxqmnEMybOir",
        "colab": {
          "base_uri": "https://localhost:8080/",
          "height": 68
        },
        "outputId": "6951abac-eba3-4449-e385-9775117935ca"
      },
      "source": [
        "test_generator.class_labels"
      ],
      "execution_count": null,
      "outputs": [
        {
          "output_type": "execute_result",
          "data": {
            "text/plain": [
              "array([0, 0, 0, 0, 0, 0, 0, 0, 1, 1, 1, 1, 1, 1, 1, 1, 1, 1, 1, 1, 1, 1,\n",
              "       1, 1, 1, 1, 1, 1, 1, 1, 1, 1, 1, 1, 1, 1, 1, 1, 1, 1, 1, 1, 1, 1,\n",
              "       1, 1, 1, 1, 1, 1, 1, 1, 1, 1, 1, 1, 1, 1, 1, 1, 1, 1])"
            ]
          },
          "metadata": {
            "tags": []
          },
          "execution_count": 52
        }
      ]
    },
    {
      "cell_type": "code",
      "metadata": {
        "id": "xTTi4cZqbOmU"
      },
      "source": [
        ""
      ],
      "execution_count": null,
      "outputs": []
    },
    {
      "cell_type": "code",
      "metadata": {
        "id": "vEXQ7HpWKZOd"
      },
      "source": [
        ""
      ],
      "execution_count": null,
      "outputs": []
    },
    {
      "cell_type": "code",
      "metadata": {
        "id": "LBM1ISA7KZST",
        "colab": {
          "base_uri": "https://localhost:8080/",
          "height": 309
        },
        "outputId": "8029bdca-fad1-4ea4-aa35-64328290a708"
      },
      "source": [
        "## Confusion Matrix ##\n",
        "\n",
        "from sklearn.metrics import confusion_matrix\n",
        "import matplotlib.pyplot as plt\n",
        "import numpy as np\n",
        "\n",
        "\n",
        "\n",
        "y_true = true_labels\n",
        "y_pred = np.array([np.argmax(x) for x in predictions])\n",
        "\n",
        "y_pred\n",
        "\n",
        "\n",
        "\n",
        "\n",
        "\n",
        "cm = confusion_matrix(y_true, y_pred)\n",
        "\n",
        "print(cm)\n",
        "\n",
        "\n",
        "\n",
        "plt.matshow(cm, cmap=plt.cm.gray)\n",
        "plt.show()"
      ],
      "execution_count": null,
      "outputs": [
        {
          "output_type": "stream",
          "text": [
            "[[ 0  8]\n",
            " [ 0 54]]\n"
          ],
          "name": "stdout"
        },
        {
          "output_type": "display_data",
          "data": {
            "image/png": "[encoded data removed]",
            "text/plain": [
              "<Figure size 288x288 with 1 Axes>"
            ]
          },
          "metadata": {
            "tags": [],
            "needs_background": "light"
          }
        }
      ]
    },
    {
      "cell_type": "code",
      "metadata": {
        "id": "iSJiAOFGKZWt",
        "colab": {
          "base_uri": "https://localhost:8080/",
          "height": 68
        },
        "outputId": "44a45805-8162-48ae-ff52-3703e72ecfe5"
      },
      "source": [
        "y_pred"
      ],
      "execution_count": null,
      "outputs": [
        {
          "output_type": "execute_result",
          "data": {
            "text/plain": [
              "array([1, 1, 1, 1, 1, 1, 1, 1, 1, 1, 1, 1, 1, 1, 1, 1, 1, 1, 1, 1, 1, 1,\n",
              "       1, 1, 1, 1, 1, 1, 1, 1, 1, 1, 1, 1, 1, 1, 1, 1, 1, 1, 1, 1, 1, 1,\n",
              "       1, 1, 1, 1, 1, 1, 1, 1, 1, 1, 1, 1, 1, 1, 1, 1, 1, 1])"
            ]
          },
          "metadata": {
            "tags": []
          },
          "execution_count": 54
        }
      ]
    },
    {
      "cell_type": "code",
      "metadata": {
        "id": "LypLjapdKZax"
      },
      "source": [
        ""
      ],
      "execution_count": null,
      "outputs": []
    },
    {
      "cell_type": "code",
      "metadata": {
        "id": "j8DkrB_5KZe7"
      },
      "source": [
        "from sklearn.metrics import classification_report"
      ],
      "execution_count": null,
      "outputs": []
    },
    {
      "cell_type": "code",
      "metadata": {
        "id": "vAd5rrSyJcEp",
        "colab": {
          "base_uri": "https://localhost:8080/",
          "height": 224
        },
        "outputId": "fe60992d-eb75-41ef-ee31-093640b07208"
      },
      "source": [
        "target_names = ['undamaged', 'damaged']\n",
        "print(classification_report(y_true, y_pred, target_names=target_names))"
      ],
      "execution_count": null,
      "outputs": [
        {
          "output_type": "stream",
          "text": [
            "              precision    recall  f1-score   support\n",
            "\n",
            "   undamaged       0.00      0.00      0.00         8\n",
            "     damaged       0.87      1.00      0.93        54\n",
            "\n",
            "    accuracy                           0.87        62\n",
            "   macro avg       0.44      0.50      0.47        62\n",
            "weighted avg       0.76      0.87      0.81        62\n",
            "\n"
          ],
          "name": "stdout"
        },
        {
          "output_type": "stream",
          "text": [
            "/usr/local/lib/python3.6/dist-packages/sklearn/metrics/_classification.py:1272: UndefinedMetricWarning: Precision and F-score are ill-defined and being set to 0.0 in labels with no predicted samples. Use `zero_division` parameter to control this behavior.\n",
            "  _warn_prf(average, modifier, msg_start, len(result))\n"
          ],
          "name": "stderr"
        }
      ]
    },
    {
      "cell_type": "code",
      "metadata": {
        "id": "V4nER7DGJcIk"
      },
      "source": [
        ""
      ],
      "execution_count": null,
      "outputs": []
    },
    {
      "cell_type": "code",
      "metadata": {
        "id": "QWvf_IwEJcMI"
      },
      "source": [
        ""
      ],
      "execution_count": null,
      "outputs": []
    },
    {
      "cell_type": "code",
      "metadata": {
        "id": "9mPODO-nIDCi"
      },
      "source": [
        ""
      ],
      "execution_count": null,
      "outputs": []
    },
    {
      "cell_type": "code",
      "metadata": {
        "id": "Cq7D6-qiIDGF"
      },
      "source": [
        ""
      ],
      "execution_count": null,
      "outputs": []
    },
    {
      "cell_type": "code",
      "metadata": {
        "id": "eAAZ_FVb56AD"
      },
      "source": [
        "#train and evaluate model\n",
        "#model.fit(train_dataset,epochs=10,verbose=1,workers=2,max_queue_size=20)"
      ],
      "execution_count": null,
      "outputs": []
    },
    {
      "cell_type": "code",
      "metadata": {
        "id": "7bp8g03656ER"
      },
      "source": [
        ""
      ],
      "execution_count": null,
      "outputs": []
    },
    {
      "cell_type": "code",
      "metadata": {
        "id": "arxG4EPE5zFO"
      },
      "source": [
        ""
      ],
      "execution_count": null,
      "outputs": []
    }
  ]
}