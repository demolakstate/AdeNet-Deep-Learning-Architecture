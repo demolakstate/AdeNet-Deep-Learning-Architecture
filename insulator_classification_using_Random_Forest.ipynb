{
  "cells": [
    {
      "cell_type": "markdown",
      "metadata": {
        "id": "view-in-github",
        "colab_type": "text"
      },
      "source": [
        "<a href=\"https://colab.research.google.com/github/demolakstate/AdeNet-Deep-Learning-Architecture/blob/main/insulator_classification_using_Random_Forest.ipynb\" target=\"_parent\"><img src=\"https://colab.research.google.com/assets/colab-badge.svg\" alt=\"Open In Colab\"/></a>"
      ]
    },
    {
      "cell_type": "markdown",
      "metadata": {
        "id": "xqa_EGVGTNS9"
      },
      "source": [
        "# Image classification\n",
        "\n",
        "**Author:** [@AdemolaOkerinde](https://twitter.com/AdemolaOkerinde)<br>\n",
        "**Date created:** 2022/04/05<br>\n",
        "**Last modified:** 2022/04/05<br>\n",
        "**Description:** Training traditional machine learning classifier - Random Forest - on features of insulators extracted using Udat statistical analytical tool."
      ]
    },
    {
      "cell_type": "markdown",
      "metadata": {
        "id": "Y6XY7sZ9TNTA"
      },
      "source": [
        "## Introduction\n",
        "\n",
        "Our goal is to classify cropped images of insulators from power lines as either damaged or undamaged. We have extracted features from the dataset using `Udat` based on statistical analysis like chebychev, HOG, etc. We will then proceed to train traditional machine learning classifiers using SKlearn.\n",
        "\n",
        "We use the `Udat` statistical analytic tool to generate the datasets in a `csv format`, and\n",
        "we use SKlearn package to train the algorithms.\n"
      ]
    },
    {
      "cell_type": "markdown",
      "metadata": {
        "id": "CGYkjkMkTNTB"
      },
      "source": [
        "## Setup\n"
      ]
    },
    {
      "cell_type": "markdown",
      "source": [
        "#### Packages foor data loading, data analysis, and data preparation"
      ],
      "metadata": {
        "id": "hK5RxHl4W5EQ"
      }
    },
    {
      "cell_type": "code",
      "execution_count": 1,
      "metadata": {
        "id": "b5g2VKocTNTB"
      },
      "outputs": [],
      "source": [
        "import numpy as np\n",
        "import pandas as pd\n",
        "import seaborn as sns\n",
        "from matplotlib import pyplot\n",
        "\n",
        "from pandas import read_csv, set_option\n",
        "from pandas.plotting import scatter_matrix\n",
        "from sklearn.preprocessing import StandardScaler\n"
      ]
    },
    {
      "cell_type": "markdown",
      "source": [
        "#### Packages for model evaluation and classification models"
      ],
      "metadata": {
        "id": "nZP0pg8RXHOn"
      }
    },
    {
      "cell_type": "code",
      "source": [
        "from sklearn.model_selection import train_test_split, KFold,\\\n",
        " cross_val_score, GridSearchCV\n",
        "\n",
        "from sklearn.pipeline import Pipeline\n",
        "from sklearn.ensemble import RandomForestClassifier\n",
        "from sklearn.metrics import classification_report, confusion_matrix,\\\n",
        "  accuracy_score"
      ],
      "metadata": {
        "id": "jutPGCjnXOts"
      },
      "execution_count": 2,
      "outputs": []
    },
    {
      "cell_type": "markdown",
      "source": [
        "#### Packages for saving the model"
      ],
      "metadata": {
        "id": "S4S66qgyXwxm"
      }
    },
    {
      "cell_type": "code",
      "source": [
        "from pickle import dump\n",
        "from pickle import load"
      ],
      "metadata": {
        "id": "w9Yjvg0uX1Ia"
      },
      "execution_count": 3,
      "outputs": []
    },
    {
      "cell_type": "markdown",
      "metadata": {
        "id": "101GCif9TNTC"
      },
      "source": [
        "## 2.2. Loading the Data\n"
      ]
    },
    {
      "cell_type": "markdown",
      "source": [
        "###### We load the data in this step."
      ],
      "metadata": {
        "id": "CFrxGFS8YZJp"
      }
    },
    {
      "cell_type": "code",
      "source": [
        "# load dataset\n",
        "dataset = read_csv('dataset.csv')"
      ],
      "metadata": {
        "id": "A9KSYpnBXk65"
      },
      "execution_count": 4,
      "outputs": []
    },
    {
      "cell_type": "code",
      "source": [
        "#Diable the warnings\n",
        "import warnings\n",
        "warnings.filterwarnings('ignore')"
      ],
      "metadata": {
        "id": "EE_8pr0qae1f"
      },
      "execution_count": 5,
      "outputs": []
    },
    {
      "cell_type": "markdown",
      "source": [
        "## 3. Exploratory Data Analysis"
      ],
      "metadata": {
        "id": "PZEcldqHXvwN"
      }
    },
    {
      "cell_type": "markdown",
      "source": [
        "#### 3.1. Descriptive Statistics"
      ],
      "metadata": {
        "id": "BZGIBtk4ao1U"
      }
    },
    {
      "cell_type": "code",
      "source": [
        "# shape\n",
        "dataset.shape"
      ],
      "metadata": {
        "colab": {
          "base_uri": "https://localhost:8080/"
        },
        "id": "ySY4FiiYavOu",
        "outputId": "998547c8-3b1a-4d37-c534-4dace1d8fdff"
      },
      "execution_count": 6,
      "outputs": [
        {
          "output_type": "execute_result",
          "data": {
            "text/plain": [
              "(4253, 1027)"
            ]
          },
          "metadata": {},
          "execution_count": 6
        }
      ]
    },
    {
      "cell_type": "code",
      "source": [
        "# peek at data\n",
        "set_option('display.width', 100)\n",
        "dataset.head(5)"
      ],
      "metadata": {
        "colab": {
          "base_uri": "https://localhost:8080/",
          "height": 317
        },
        "id": "eXPTgIFFavTK",
        "outputId": "18a750ee-723d-4982-be66-b3939ac51b6e"
      },
      "execution_count": 7,
      "outputs": [
        {
          "output_type": "execute_result",
          "data": {
            "text/plain": [
              "                                                Path             Class  \\\n",
              "0  /homes/okerinde/all_dataset_tiff/All_damaged_t...  All_damaged_tiff   \n",
              "1  /homes/okerinde/all_dataset_tiff/All_damaged_t...  All_damaged_tiff   \n",
              "2  /homes/okerinde/all_dataset_tiff/All_damaged_t...  All_damaged_tiff   \n",
              "3  /homes/okerinde/all_dataset_tiff/All_damaged_t...  All_damaged_tiff   \n",
              "4  /homes/okerinde/all_dataset_tiff/All_damaged_t...  All_damaged_tiff   \n",
              "\n",
              "   ChebyshevFourierCoefficientHistogram Bin00  ChebyshevFourierCoefficientHistogram Bin01  \\\n",
              "0                                         321                                         155   \n",
              "1                                         262                                         173   \n",
              "2                                         305                                         158   \n",
              "3                                         411                                          85   \n",
              "4                                         354                                         141   \n",
              "\n",
              "   ChebyshevFourierCoefficientHistogram Bin02  ChebyshevFourierCoefficientHistogram Bin03  \\\n",
              "0                                          27                                           9   \n",
              "1                                          58                                          16   \n",
              "2                                          44                                           7   \n",
              "3                                          11                                           8   \n",
              "4                                          18                                           6   \n",
              "\n",
              "   ChebyshevFourierCoefficientHistogram Bin04  ChebyshevFourierCoefficientHistogram Bin05  \\\n",
              "0                                           9                                           0   \n",
              "1                                           5                                           6   \n",
              "2                                           2                                           6   \n",
              "3                                           6                                           0   \n",
              "4                                           4                                           0   \n",
              "\n",
              "   ChebyshevFourierCoefficientHistogram Bin06  ChebyshevFourierCoefficientHistogram Bin07  ...  \\\n",
              "0                                           0                                           2  ...   \n",
              "1                                           3                                           2  ...   \n",
              "2                                           2                                           1  ...   \n",
              "3                                           2                                           2  ...   \n",
              "4                                           2                                           0  ...   \n",
              "\n",
              "   ZernikeMoments_FFT Z_14_12  ZernikeMoments_FFT Z_14_14  ZernikeMoments_FFT Z_15_01  \\\n",
              "0                           0                           0                           0   \n",
              "1                           0                           0                           0   \n",
              "2                           0                           0                           0   \n",
              "3                           0                           0                           0   \n",
              "4                           0                           0                           0   \n",
              "\n",
              "   ZernikeMoments_FFT Z_15_03  ZernikeMoments_FFT Z_15_05  ZernikeMoments_FFT Z_15_07  \\\n",
              "0                           0                           0                           0   \n",
              "1                           0                           0                           0   \n",
              "2                           0                           0                           0   \n",
              "3                           0                           0                           0   \n",
              "4                           0                           0                           0   \n",
              "\n",
              "   ZernikeMoments_FFT Z_15_09  ZernikeMoments_FFT Z_15_11  ZernikeMoments_FFT Z_15_13  \\\n",
              "0                           0                           0                           0   \n",
              "1                           0                           0                           0   \n",
              "2                           0                           0                           0   \n",
              "3                           0                           0                           0   \n",
              "4                           0                           0                           0   \n",
              "\n",
              "   ZernikeMoments_FFT Z_15_15  \n",
              "0                           0  \n",
              "1                           0  \n",
              "2                           0  \n",
              "3                           0  \n",
              "4                           0  \n",
              "\n",
              "[5 rows x 1027 columns]"
            ],
            "text/html": [
              "\n",
              "  <div id=\"df-242661f2-a762-40eb-b598-2ca0ee965de9\">\n",
              "    <div class=\"colab-df-container\">\n",
              "      <div>\n",
              "<style scoped>\n",
              "    .dataframe tbody tr th:only-of-type {\n",
              "        vertical-align: middle;\n",
              "    }\n",
              "\n",
              "    .dataframe tbody tr th {\n",
              "        vertical-align: top;\n",
              "    }\n",
              "\n",
              "    .dataframe thead th {\n",
              "        text-align: right;\n",
              "    }\n",
              "</style>\n",
              "<table border=\"1\" class=\"dataframe\">\n",
              "  <thead>\n",
              "    <tr style=\"text-align: right;\">\n",
              "      <th></th>\n",
              "      <th>Path</th>\n",
              "      <th>Class</th>\n",
              "      <th>ChebyshevFourierCoefficientHistogram Bin00</th>\n",
              "      <th>ChebyshevFourierCoefficientHistogram Bin01</th>\n",
              "      <th>ChebyshevFourierCoefficientHistogram Bin02</th>\n",
              "      <th>ChebyshevFourierCoefficientHistogram Bin03</th>\n",
              "      <th>ChebyshevFourierCoefficientHistogram Bin04</th>\n",
              "      <th>ChebyshevFourierCoefficientHistogram Bin05</th>\n",
              "      <th>ChebyshevFourierCoefficientHistogram Bin06</th>\n",
              "      <th>ChebyshevFourierCoefficientHistogram Bin07</th>\n",
              "      <th>...</th>\n",
              "      <th>ZernikeMoments_FFT Z_14_12</th>\n",
              "      <th>ZernikeMoments_FFT Z_14_14</th>\n",
              "      <th>ZernikeMoments_FFT Z_15_01</th>\n",
              "      <th>ZernikeMoments_FFT Z_15_03</th>\n",
              "      <th>ZernikeMoments_FFT Z_15_05</th>\n",
              "      <th>ZernikeMoments_FFT Z_15_07</th>\n",
              "      <th>ZernikeMoments_FFT Z_15_09</th>\n",
              "      <th>ZernikeMoments_FFT Z_15_11</th>\n",
              "      <th>ZernikeMoments_FFT Z_15_13</th>\n",
              "      <th>ZernikeMoments_FFT Z_15_15</th>\n",
              "    </tr>\n",
              "  </thead>\n",
              "  <tbody>\n",
              "    <tr>\n",
              "      <th>0</th>\n",
              "      <td>/homes/okerinde/all_dataset_tiff/All_damaged_t...</td>\n",
              "      <td>All_damaged_tiff</td>\n",
              "      <td>321</td>\n",
              "      <td>155</td>\n",
              "      <td>27</td>\n",
              "      <td>9</td>\n",
              "      <td>9</td>\n",
              "      <td>0</td>\n",
              "      <td>0</td>\n",
              "      <td>2</td>\n",
              "      <td>...</td>\n",
              "      <td>0</td>\n",
              "      <td>0</td>\n",
              "      <td>0</td>\n",
              "      <td>0</td>\n",
              "      <td>0</td>\n",
              "      <td>0</td>\n",
              "      <td>0</td>\n",
              "      <td>0</td>\n",
              "      <td>0</td>\n",
              "      <td>0</td>\n",
              "    </tr>\n",
              "    <tr>\n",
              "      <th>1</th>\n",
              "      <td>/homes/okerinde/all_dataset_tiff/All_damaged_t...</td>\n",
              "      <td>All_damaged_tiff</td>\n",
              "      <td>262</td>\n",
              "      <td>173</td>\n",
              "      <td>58</td>\n",
              "      <td>16</td>\n",
              "      <td>5</td>\n",
              "      <td>6</td>\n",
              "      <td>3</td>\n",
              "      <td>2</td>\n",
              "      <td>...</td>\n",
              "      <td>0</td>\n",
              "      <td>0</td>\n",
              "      <td>0</td>\n",
              "      <td>0</td>\n",
              "      <td>0</td>\n",
              "      <td>0</td>\n",
              "      <td>0</td>\n",
              "      <td>0</td>\n",
              "      <td>0</td>\n",
              "      <td>0</td>\n",
              "    </tr>\n",
              "    <tr>\n",
              "      <th>2</th>\n",
              "      <td>/homes/okerinde/all_dataset_tiff/All_damaged_t...</td>\n",
              "      <td>All_damaged_tiff</td>\n",
              "      <td>305</td>\n",
              "      <td>158</td>\n",
              "      <td>44</td>\n",
              "      <td>7</td>\n",
              "      <td>2</td>\n",
              "      <td>6</td>\n",
              "      <td>2</td>\n",
              "      <td>1</td>\n",
              "      <td>...</td>\n",
              "      <td>0</td>\n",
              "      <td>0</td>\n",
              "      <td>0</td>\n",
              "      <td>0</td>\n",
              "      <td>0</td>\n",
              "      <td>0</td>\n",
              "      <td>0</td>\n",
              "      <td>0</td>\n",
              "      <td>0</td>\n",
              "      <td>0</td>\n",
              "    </tr>\n",
              "    <tr>\n",
              "      <th>3</th>\n",
              "      <td>/homes/okerinde/all_dataset_tiff/All_damaged_t...</td>\n",
              "      <td>All_damaged_tiff</td>\n",
              "      <td>411</td>\n",
              "      <td>85</td>\n",
              "      <td>11</td>\n",
              "      <td>8</td>\n",
              "      <td>6</td>\n",
              "      <td>0</td>\n",
              "      <td>2</td>\n",
              "      <td>2</td>\n",
              "      <td>...</td>\n",
              "      <td>0</td>\n",
              "      <td>0</td>\n",
              "      <td>0</td>\n",
              "      <td>0</td>\n",
              "      <td>0</td>\n",
              "      <td>0</td>\n",
              "      <td>0</td>\n",
              "      <td>0</td>\n",
              "      <td>0</td>\n",
              "      <td>0</td>\n",
              "    </tr>\n",
              "    <tr>\n",
              "      <th>4</th>\n",
              "      <td>/homes/okerinde/all_dataset_tiff/All_damaged_t...</td>\n",
              "      <td>All_damaged_tiff</td>\n",
              "      <td>354</td>\n",
              "      <td>141</td>\n",
              "      <td>18</td>\n",
              "      <td>6</td>\n",
              "      <td>4</td>\n",
              "      <td>0</td>\n",
              "      <td>2</td>\n",
              "      <td>0</td>\n",
              "      <td>...</td>\n",
              "      <td>0</td>\n",
              "      <td>0</td>\n",
              "      <td>0</td>\n",
              "      <td>0</td>\n",
              "      <td>0</td>\n",
              "      <td>0</td>\n",
              "      <td>0</td>\n",
              "      <td>0</td>\n",
              "      <td>0</td>\n",
              "      <td>0</td>\n",
              "    </tr>\n",
              "  </tbody>\n",
              "</table>\n",
              "<p>5 rows × 1027 columns</p>\n",
              "</div>\n",
              "      <button class=\"colab-df-convert\" onclick=\"convertToInteractive('df-242661f2-a762-40eb-b598-2ca0ee965de9')\"\n",
              "              title=\"Convert this dataframe to an interactive table.\"\n",
              "              style=\"display:none;\">\n",
              "        \n",
              "  <svg xmlns=\"http://www.w3.org/2000/svg\" height=\"24px\"viewBox=\"0 0 24 24\"\n",
              "       width=\"24px\">\n",
              "    <path d=\"M0 0h24v24H0V0z\" fill=\"none\"/>\n",
              "    <path d=\"M18.56 5.44l.94 2.06.94-2.06 2.06-.94-2.06-.94-.94-2.06-.94 2.06-2.06.94zm-11 1L8.5 8.5l.94-2.06 2.06-.94-2.06-.94L8.5 2.5l-.94 2.06-2.06.94zm10 10l.94 2.06.94-2.06 2.06-.94-2.06-.94-.94-2.06-.94 2.06-2.06.94z\"/><path d=\"M17.41 7.96l-1.37-1.37c-.4-.4-.92-.59-1.43-.59-.52 0-1.04.2-1.43.59L10.3 9.45l-7.72 7.72c-.78.78-.78 2.05 0 2.83L4 21.41c.39.39.9.59 1.41.59.51 0 1.02-.2 1.41-.59l7.78-7.78 2.81-2.81c.8-.78.8-2.07 0-2.86zM5.41 20L4 18.59l7.72-7.72 1.47 1.35L5.41 20z\"/>\n",
              "  </svg>\n",
              "      </button>\n",
              "      \n",
              "  <style>\n",
              "    .colab-df-container {\n",
              "      display:flex;\n",
              "      flex-wrap:wrap;\n",
              "      gap: 12px;\n",
              "    }\n",
              "\n",
              "    .colab-df-convert {\n",
              "      background-color: #E8F0FE;\n",
              "      border: none;\n",
              "      border-radius: 50%;\n",
              "      cursor: pointer;\n",
              "      display: none;\n",
              "      fill: #1967D2;\n",
              "      height: 32px;\n",
              "      padding: 0 0 0 0;\n",
              "      width: 32px;\n",
              "    }\n",
              "\n",
              "    .colab-df-convert:hover {\n",
              "      background-color: #E2EBFA;\n",
              "      box-shadow: 0px 1px 2px rgba(60, 64, 67, 0.3), 0px 1px 3px 1px rgba(60, 64, 67, 0.15);\n",
              "      fill: #174EA6;\n",
              "    }\n",
              "\n",
              "    [theme=dark] .colab-df-convert {\n",
              "      background-color: #3B4455;\n",
              "      fill: #D2E3FC;\n",
              "    }\n",
              "\n",
              "    [theme=dark] .colab-df-convert:hover {\n",
              "      background-color: #434B5C;\n",
              "      box-shadow: 0px 1px 3px 1px rgba(0, 0, 0, 0.15);\n",
              "      filter: drop-shadow(0px 1px 2px rgba(0, 0, 0, 0.3));\n",
              "      fill: #FFFFFF;\n",
              "    }\n",
              "  </style>\n",
              "\n",
              "      <script>\n",
              "        const buttonEl =\n",
              "          document.querySelector('#df-242661f2-a762-40eb-b598-2ca0ee965de9 button.colab-df-convert');\n",
              "        buttonEl.style.display =\n",
              "          google.colab.kernel.accessAllowed ? 'block' : 'none';\n",
              "\n",
              "        async function convertToInteractive(key) {\n",
              "          const element = document.querySelector('#df-242661f2-a762-40eb-b598-2ca0ee965de9');\n",
              "          const dataTable =\n",
              "            await google.colab.kernel.invokeFunction('convertToInteractive',\n",
              "                                                     [key], {});\n",
              "          if (!dataTable) return;\n",
              "\n",
              "          const docLinkHtml = 'Like what you see? Visit the ' +\n",
              "            '<a target=\"_blank\" href=https://colab.research.google.com/notebooks/data_table.ipynb>data table notebook</a>'\n",
              "            + ' to learn more about interactive tables.';\n",
              "          element.innerHTML = '';\n",
              "          dataTable['output_type'] = 'display_data';\n",
              "          await google.colab.output.renderOutput(dataTable, element);\n",
              "          const docLink = document.createElement('div');\n",
              "          docLink.innerHTML = docLinkHtml;\n",
              "          element.appendChild(docLink);\n",
              "        }\n",
              "      </script>\n",
              "    </div>\n",
              "  </div>\n",
              "  "
            ]
          },
          "metadata": {},
          "execution_count": 7
        }
      ]
    },
    {
      "cell_type": "code",
      "source": [
        "dataset.tail(5)"
      ],
      "metadata": {
        "colab": {
          "base_uri": "https://localhost:8080/",
          "height": 317
        },
        "id": "WR1ReEKHbVix",
        "outputId": "a4a009cd-5899-4e5b-98ab-5907909b37c8"
      },
      "execution_count": 8,
      "outputs": [
        {
          "output_type": "execute_result",
          "data": {
            "text/plain": [
              "                                                   Path               Class  \\\n",
              "4248  /homes/okerinde/all_dataset_tiff/All_undamaged...  All_undamaged_tiff   \n",
              "4249  /homes/okerinde/all_dataset_tiff/All_undamaged...  All_undamaged_tiff   \n",
              "4250  /homes/okerinde/all_dataset_tiff/All_undamaged...  All_undamaged_tiff   \n",
              "4251  /homes/okerinde/all_dataset_tiff/All_undamaged...  All_undamaged_tiff   \n",
              "4252  /homes/okerinde/all_dataset_tiff/All_undamaged...  All_undamaged_tiff   \n",
              "\n",
              "      ChebyshevFourierCoefficientHistogram Bin00  ChebyshevFourierCoefficientHistogram Bin01  \\\n",
              "4248                                         270                                         180   \n",
              "4249                                         359                                          95   \n",
              "4250                                         344                                         101   \n",
              "4251                                         399                                          92   \n",
              "4252                                         450                                          65   \n",
              "\n",
              "      ChebyshevFourierCoefficientHistogram Bin02  ChebyshevFourierCoefficientHistogram Bin03  \\\n",
              "4248                                          48                                          14   \n",
              "4249                                          44                                          22   \n",
              "4250                                          41                                          12   \n",
              "4251                                          21                                           6   \n",
              "4252                                           8                                           1   \n",
              "\n",
              "      ChebyshevFourierCoefficientHistogram Bin04  ChebyshevFourierCoefficientHistogram Bin05  \\\n",
              "4248                                           9                                           2   \n",
              "4249                                           3                                           0   \n",
              "4250                                           6                                           6   \n",
              "4251                                           2                                           5   \n",
              "4252                                           1                                           0   \n",
              "\n",
              "      ChebyshevFourierCoefficientHistogram Bin06  ChebyshevFourierCoefficientHistogram Bin07  ...  \\\n",
              "4248                                           0                                           2  ...   \n",
              "4249                                           0                                           2  ...   \n",
              "4250                                           2                                           7  ...   \n",
              "4251                                           0                                           0  ...   \n",
              "4252                                           0                                           0  ...   \n",
              "\n",
              "      ZernikeMoments_FFT Z_14_12  ZernikeMoments_FFT Z_14_14  ZernikeMoments_FFT Z_15_01  \\\n",
              "4248                           0                           0                           0   \n",
              "4249                           0                           0                           0   \n",
              "4250                           0                           0                           0   \n",
              "4251                           0                           0                           0   \n",
              "4252                           0                           0                           0   \n",
              "\n",
              "      ZernikeMoments_FFT Z_15_03  ZernikeMoments_FFT Z_15_05  ZernikeMoments_FFT Z_15_07  \\\n",
              "4248                           0                           0                           0   \n",
              "4249                           0                           0                           0   \n",
              "4250                           0                           0                           0   \n",
              "4251                           0                           0                           0   \n",
              "4252                           0                           0                           0   \n",
              "\n",
              "      ZernikeMoments_FFT Z_15_09  ZernikeMoments_FFT Z_15_11  ZernikeMoments_FFT Z_15_13  \\\n",
              "4248                           0                           0                           0   \n",
              "4249                           0                           0                           0   \n",
              "4250                           0                           0                           0   \n",
              "4251                           0                           0                           0   \n",
              "4252                           0                           0                           0   \n",
              "\n",
              "      ZernikeMoments_FFT Z_15_15  \n",
              "4248                           0  \n",
              "4249                           0  \n",
              "4250                           0  \n",
              "4251                           0  \n",
              "4252                           0  \n",
              "\n",
              "[5 rows x 1027 columns]"
            ],
            "text/html": [
              "\n",
              "  <div id=\"df-3ee526ca-f800-4fbb-9c63-86f4bf611179\">\n",
              "    <div class=\"colab-df-container\">\n",
              "      <div>\n",
              "<style scoped>\n",
              "    .dataframe tbody tr th:only-of-type {\n",
              "        vertical-align: middle;\n",
              "    }\n",
              "\n",
              "    .dataframe tbody tr th {\n",
              "        vertical-align: top;\n",
              "    }\n",
              "\n",
              "    .dataframe thead th {\n",
              "        text-align: right;\n",
              "    }\n",
              "</style>\n",
              "<table border=\"1\" class=\"dataframe\">\n",
              "  <thead>\n",
              "    <tr style=\"text-align: right;\">\n",
              "      <th></th>\n",
              "      <th>Path</th>\n",
              "      <th>Class</th>\n",
              "      <th>ChebyshevFourierCoefficientHistogram Bin00</th>\n",
              "      <th>ChebyshevFourierCoefficientHistogram Bin01</th>\n",
              "      <th>ChebyshevFourierCoefficientHistogram Bin02</th>\n",
              "      <th>ChebyshevFourierCoefficientHistogram Bin03</th>\n",
              "      <th>ChebyshevFourierCoefficientHistogram Bin04</th>\n",
              "      <th>ChebyshevFourierCoefficientHistogram Bin05</th>\n",
              "      <th>ChebyshevFourierCoefficientHistogram Bin06</th>\n",
              "      <th>ChebyshevFourierCoefficientHistogram Bin07</th>\n",
              "      <th>...</th>\n",
              "      <th>ZernikeMoments_FFT Z_14_12</th>\n",
              "      <th>ZernikeMoments_FFT Z_14_14</th>\n",
              "      <th>ZernikeMoments_FFT Z_15_01</th>\n",
              "      <th>ZernikeMoments_FFT Z_15_03</th>\n",
              "      <th>ZernikeMoments_FFT Z_15_05</th>\n",
              "      <th>ZernikeMoments_FFT Z_15_07</th>\n",
              "      <th>ZernikeMoments_FFT Z_15_09</th>\n",
              "      <th>ZernikeMoments_FFT Z_15_11</th>\n",
              "      <th>ZernikeMoments_FFT Z_15_13</th>\n",
              "      <th>ZernikeMoments_FFT Z_15_15</th>\n",
              "    </tr>\n",
              "  </thead>\n",
              "  <tbody>\n",
              "    <tr>\n",
              "      <th>4248</th>\n",
              "      <td>/homes/okerinde/all_dataset_tiff/All_undamaged...</td>\n",
              "      <td>All_undamaged_tiff</td>\n",
              "      <td>270</td>\n",
              "      <td>180</td>\n",
              "      <td>48</td>\n",
              "      <td>14</td>\n",
              "      <td>9</td>\n",
              "      <td>2</td>\n",
              "      <td>0</td>\n",
              "      <td>2</td>\n",
              "      <td>...</td>\n",
              "      <td>0</td>\n",
              "      <td>0</td>\n",
              "      <td>0</td>\n",
              "      <td>0</td>\n",
              "      <td>0</td>\n",
              "      <td>0</td>\n",
              "      <td>0</td>\n",
              "      <td>0</td>\n",
              "      <td>0</td>\n",
              "      <td>0</td>\n",
              "    </tr>\n",
              "    <tr>\n",
              "      <th>4249</th>\n",
              "      <td>/homes/okerinde/all_dataset_tiff/All_undamaged...</td>\n",
              "      <td>All_undamaged_tiff</td>\n",
              "      <td>359</td>\n",
              "      <td>95</td>\n",
              "      <td>44</td>\n",
              "      <td>22</td>\n",
              "      <td>3</td>\n",
              "      <td>0</td>\n",
              "      <td>0</td>\n",
              "      <td>2</td>\n",
              "      <td>...</td>\n",
              "      <td>0</td>\n",
              "      <td>0</td>\n",
              "      <td>0</td>\n",
              "      <td>0</td>\n",
              "      <td>0</td>\n",
              "      <td>0</td>\n",
              "      <td>0</td>\n",
              "      <td>0</td>\n",
              "      <td>0</td>\n",
              "      <td>0</td>\n",
              "    </tr>\n",
              "    <tr>\n",
              "      <th>4250</th>\n",
              "      <td>/homes/okerinde/all_dataset_tiff/All_undamaged...</td>\n",
              "      <td>All_undamaged_tiff</td>\n",
              "      <td>344</td>\n",
              "      <td>101</td>\n",
              "      <td>41</td>\n",
              "      <td>12</td>\n",
              "      <td>6</td>\n",
              "      <td>6</td>\n",
              "      <td>2</td>\n",
              "      <td>7</td>\n",
              "      <td>...</td>\n",
              "      <td>0</td>\n",
              "      <td>0</td>\n",
              "      <td>0</td>\n",
              "      <td>0</td>\n",
              "      <td>0</td>\n",
              "      <td>0</td>\n",
              "      <td>0</td>\n",
              "      <td>0</td>\n",
              "      <td>0</td>\n",
              "      <td>0</td>\n",
              "    </tr>\n",
              "    <tr>\n",
              "      <th>4251</th>\n",
              "      <td>/homes/okerinde/all_dataset_tiff/All_undamaged...</td>\n",
              "      <td>All_undamaged_tiff</td>\n",
              "      <td>399</td>\n",
              "      <td>92</td>\n",
              "      <td>21</td>\n",
              "      <td>6</td>\n",
              "      <td>2</td>\n",
              "      <td>5</td>\n",
              "      <td>0</td>\n",
              "      <td>0</td>\n",
              "      <td>...</td>\n",
              "      <td>0</td>\n",
              "      <td>0</td>\n",
              "      <td>0</td>\n",
              "      <td>0</td>\n",
              "      <td>0</td>\n",
              "      <td>0</td>\n",
              "      <td>0</td>\n",
              "      <td>0</td>\n",
              "      <td>0</td>\n",
              "      <td>0</td>\n",
              "    </tr>\n",
              "    <tr>\n",
              "      <th>4252</th>\n",
              "      <td>/homes/okerinde/all_dataset_tiff/All_undamaged...</td>\n",
              "      <td>All_undamaged_tiff</td>\n",
              "      <td>450</td>\n",
              "      <td>65</td>\n",
              "      <td>8</td>\n",
              "      <td>1</td>\n",
              "      <td>1</td>\n",
              "      <td>0</td>\n",
              "      <td>0</td>\n",
              "      <td>0</td>\n",
              "      <td>...</td>\n",
              "      <td>0</td>\n",
              "      <td>0</td>\n",
              "      <td>0</td>\n",
              "      <td>0</td>\n",
              "      <td>0</td>\n",
              "      <td>0</td>\n",
              "      <td>0</td>\n",
              "      <td>0</td>\n",
              "      <td>0</td>\n",
              "      <td>0</td>\n",
              "    </tr>\n",
              "  </tbody>\n",
              "</table>\n",
              "<p>5 rows × 1027 columns</p>\n",
              "</div>\n",
              "      <button class=\"colab-df-convert\" onclick=\"convertToInteractive('df-3ee526ca-f800-4fbb-9c63-86f4bf611179')\"\n",
              "              title=\"Convert this dataframe to an interactive table.\"\n",
              "              style=\"display:none;\">\n",
              "        \n",
              "  <svg xmlns=\"http://www.w3.org/2000/svg\" height=\"24px\"viewBox=\"0 0 24 24\"\n",
              "       width=\"24px\">\n",
              "    <path d=\"M0 0h24v24H0V0z\" fill=\"none\"/>\n",
              "    <path d=\"M18.56 5.44l.94 2.06.94-2.06 2.06-.94-2.06-.94-.94-2.06-.94 2.06-2.06.94zm-11 1L8.5 8.5l.94-2.06 2.06-.94-2.06-.94L8.5 2.5l-.94 2.06-2.06.94zm10 10l.94 2.06.94-2.06 2.06-.94-2.06-.94-.94-2.06-.94 2.06-2.06.94z\"/><path d=\"M17.41 7.96l-1.37-1.37c-.4-.4-.92-.59-1.43-.59-.52 0-1.04.2-1.43.59L10.3 9.45l-7.72 7.72c-.78.78-.78 2.05 0 2.83L4 21.41c.39.39.9.59 1.41.59.51 0 1.02-.2 1.41-.59l7.78-7.78 2.81-2.81c.8-.78.8-2.07 0-2.86zM5.41 20L4 18.59l7.72-7.72 1.47 1.35L5.41 20z\"/>\n",
              "  </svg>\n",
              "      </button>\n",
              "      \n",
              "  <style>\n",
              "    .colab-df-container {\n",
              "      display:flex;\n",
              "      flex-wrap:wrap;\n",
              "      gap: 12px;\n",
              "    }\n",
              "\n",
              "    .colab-df-convert {\n",
              "      background-color: #E8F0FE;\n",
              "      border: none;\n",
              "      border-radius: 50%;\n",
              "      cursor: pointer;\n",
              "      display: none;\n",
              "      fill: #1967D2;\n",
              "      height: 32px;\n",
              "      padding: 0 0 0 0;\n",
              "      width: 32px;\n",
              "    }\n",
              "\n",
              "    .colab-df-convert:hover {\n",
              "      background-color: #E2EBFA;\n",
              "      box-shadow: 0px 1px 2px rgba(60, 64, 67, 0.3), 0px 1px 3px 1px rgba(60, 64, 67, 0.15);\n",
              "      fill: #174EA6;\n",
              "    }\n",
              "\n",
              "    [theme=dark] .colab-df-convert {\n",
              "      background-color: #3B4455;\n",
              "      fill: #D2E3FC;\n",
              "    }\n",
              "\n",
              "    [theme=dark] .colab-df-convert:hover {\n",
              "      background-color: #434B5C;\n",
              "      box-shadow: 0px 1px 3px 1px rgba(0, 0, 0, 0.15);\n",
              "      filter: drop-shadow(0px 1px 2px rgba(0, 0, 0, 0.3));\n",
              "      fill: #FFFFFF;\n",
              "    }\n",
              "  </style>\n",
              "\n",
              "      <script>\n",
              "        const buttonEl =\n",
              "          document.querySelector('#df-3ee526ca-f800-4fbb-9c63-86f4bf611179 button.colab-df-convert');\n",
              "        buttonEl.style.display =\n",
              "          google.colab.kernel.accessAllowed ? 'block' : 'none';\n",
              "\n",
              "        async function convertToInteractive(key) {\n",
              "          const element = document.querySelector('#df-3ee526ca-f800-4fbb-9c63-86f4bf611179');\n",
              "          const dataTable =\n",
              "            await google.colab.kernel.invokeFunction('convertToInteractive',\n",
              "                                                     [key], {});\n",
              "          if (!dataTable) return;\n",
              "\n",
              "          const docLinkHtml = 'Like what you see? Visit the ' +\n",
              "            '<a target=\"_blank\" href=https://colab.research.google.com/notebooks/data_table.ipynb>data table notebook</a>'\n",
              "            + ' to learn more about interactive tables.';\n",
              "          element.innerHTML = '';\n",
              "          dataTable['output_type'] = 'display_data';\n",
              "          await google.colab.output.renderOutput(dataTable, element);\n",
              "          const docLink = document.createElement('div');\n",
              "          docLink.innerHTML = docLinkHtml;\n",
              "          element.appendChild(docLink);\n",
              "        }\n",
              "      </script>\n",
              "    </div>\n",
              "  </div>\n",
              "  "
            ]
          },
          "metadata": {},
          "execution_count": 8
        }
      ]
    },
    {
      "cell_type": "code",
      "source": [
        "# types\n",
        "set_option('display.max_rows', 500)\n",
        "dataset.dtypes"
      ],
      "metadata": {
        "colab": {
          "base_uri": "https://localhost:8080/"
        },
        "id": "Nv5CSoWPavW-",
        "outputId": "dc980a80-a8b2-4bb1-e484-7820cb2feb22"
      },
      "execution_count": 9,
      "outputs": [
        {
          "output_type": "execute_result",
          "data": {
            "text/plain": [
              "Path                                          object\n",
              "Class                                         object\n",
              "ChebyshevFourierCoefficientHistogram Bin00     int64\n",
              "ChebyshevFourierCoefficientHistogram Bin01     int64\n",
              "ChebyshevFourierCoefficientHistogram Bin02     int64\n",
              "                                               ...  \n",
              "ZernikeMoments_FFT Z_15_07                     int64\n",
              "ZernikeMoments_FFT Z_15_09                     int64\n",
              "ZernikeMoments_FFT Z_15_11                     int64\n",
              "ZernikeMoments_FFT Z_15_13                     int64\n",
              "ZernikeMoments_FFT Z_15_15                     int64\n",
              "Length: 1027, dtype: object"
            ]
          },
          "metadata": {},
          "execution_count": 9
        }
      ]
    },
    {
      "cell_type": "code",
      "source": [
        "# describe data\n",
        "set_option('precision', 3)\n",
        "dataset.describe()"
      ],
      "metadata": {
        "colab": {
          "base_uri": "https://localhost:8080/",
          "height": 411
        },
        "id": "Ah_pVbYib3hD",
        "outputId": "d9bebd25-7263-48d9-8c70-4eea8eaf011a"
      },
      "execution_count": 10,
      "outputs": [
        {
          "output_type": "execute_result",
          "data": {
            "text/plain": [
              "       ChebyshevFourierCoefficientHistogram Bin00  ChebyshevFourierCoefficientHistogram Bin01  \\\n",
              "count                                    4253.000                                    4253.000   \n",
              "mean                                      319.543                                     134.240   \n",
              "std                                        63.356                                      35.458   \n",
              "min                                        27.000                                       9.000   \n",
              "25%                                       279.000                                     115.000   \n",
              "50%                                       318.000                                     138.000   \n",
              "75%                                       359.000                                     158.000   \n",
              "max                                       513.000                                     250.000   \n",
              "\n",
              "       ChebyshevFourierCoefficientHistogram Bin02  ChebyshevFourierCoefficientHistogram Bin03  \\\n",
              "count                                    4253.000                                    4253.000   \n",
              "mean                                       40.959                                      14.987   \n",
              "std                                        20.450                                      10.375   \n",
              "min                                         0.000                                       0.000   \n",
              "25%                                        26.000                                       7.000   \n",
              "50%                                        38.000                                      13.000   \n",
              "75%                                        53.000                                      20.000   \n",
              "max                                       120.000                                     104.000   \n",
              "\n",
              "       ChebyshevFourierCoefficientHistogram Bin04  ChebyshevFourierCoefficientHistogram Bin05  \\\n",
              "count                                    4253.000                                    4253.000   \n",
              "mean                                        6.450                                       3.203   \n",
              "std                                         5.614                                       3.403   \n",
              "min                                         0.000                                       0.000   \n",
              "25%                                         2.000                                       1.000   \n",
              "50%                                         5.000                                       2.000   \n",
              "75%                                         9.000                                       4.000   \n",
              "max                                        50.000                                      60.000   \n",
              "\n",
              "       ChebyshevFourierCoefficientHistogram Bin06  ChebyshevFourierCoefficientHistogram Bin07  \\\n",
              "count                                    4253.000                                    4253.000   \n",
              "mean                                        1.922                                       1.187   \n",
              "std                                         2.329                                       1.746   \n",
              "min                                         0.000                                       0.000   \n",
              "25%                                         0.000                                       0.000   \n",
              "50%                                         2.000                                       0.000   \n",
              "75%                                         3.000                                       2.000   \n",
              "max                                        33.000                                      36.000   \n",
              "\n",
              "       ChebyshevFourierCoefficientHistogram Bin08  ChebyshevFourierCoefficientHistogram Bin09  \\\n",
              "count                                    4253.000                                    4253.000   \n",
              "mean                                        0.768                                       0.511   \n",
              "std                                         1.349                                       1.205   \n",
              "min                                         0.000                                       0.000   \n",
              "25%                                         0.000                                       0.000   \n",
              "50%                                         0.000                                       0.000   \n",
              "75%                                         2.000                                       0.000   \n",
              "max                                        12.000                                      30.000   \n",
              "\n",
              "       ...  ZernikeMoments_FFT Z_14_12  ZernikeMoments_FFT Z_14_14  ZernikeMoments_FFT Z_15_01  \\\n",
              "count  ...                      4253.0                      4253.0                      4253.0   \n",
              "mean   ...                         0.0                         0.0                         0.0   \n",
              "std    ...                         0.0                         0.0                         0.0   \n",
              "min    ...                         0.0                         0.0                         0.0   \n",
              "25%    ...                         0.0                         0.0                         0.0   \n",
              "50%    ...                         0.0                         0.0                         0.0   \n",
              "75%    ...                         0.0                         0.0                         0.0   \n",
              "max    ...                         0.0                         0.0                         0.0   \n",
              "\n",
              "       ZernikeMoments_FFT Z_15_03  ZernikeMoments_FFT Z_15_05  ZernikeMoments_FFT Z_15_07  \\\n",
              "count                      4253.0                      4253.0                      4253.0   \n",
              "mean                          0.0                         0.0                         0.0   \n",
              "std                           0.0                         0.0                         0.0   \n",
              "min                           0.0                         0.0                         0.0   \n",
              "25%                           0.0                         0.0                         0.0   \n",
              "50%                           0.0                         0.0                         0.0   \n",
              "75%                           0.0                         0.0                         0.0   \n",
              "max                           0.0                         0.0                         0.0   \n",
              "\n",
              "       ZernikeMoments_FFT Z_15_09  ZernikeMoments_FFT Z_15_11  ZernikeMoments_FFT Z_15_13  \\\n",
              "count                      4253.0                      4253.0                      4253.0   \n",
              "mean                          0.0                         0.0                         0.0   \n",
              "std                           0.0                         0.0                         0.0   \n",
              "min                           0.0                         0.0                         0.0   \n",
              "25%                           0.0                         0.0                         0.0   \n",
              "50%                           0.0                         0.0                         0.0   \n",
              "75%                           0.0                         0.0                         0.0   \n",
              "max                           0.0                         0.0                         0.0   \n",
              "\n",
              "       ZernikeMoments_FFT Z_15_15  \n",
              "count                      4253.0  \n",
              "mean                          0.0  \n",
              "std                           0.0  \n",
              "min                           0.0  \n",
              "25%                           0.0  \n",
              "50%                           0.0  \n",
              "75%                           0.0  \n",
              "max                           0.0  \n",
              "\n",
              "[8 rows x 1025 columns]"
            ],
            "text/html": [
              "\n",
              "  <div id=\"df-7b09d3b2-3a15-4c3f-af53-8fc0c699f995\">\n",
              "    <div class=\"colab-df-container\">\n",
              "      <div>\n",
              "<style scoped>\n",
              "    .dataframe tbody tr th:only-of-type {\n",
              "        vertical-align: middle;\n",
              "    }\n",
              "\n",
              "    .dataframe tbody tr th {\n",
              "        vertical-align: top;\n",
              "    }\n",
              "\n",
              "    .dataframe thead th {\n",
              "        text-align: right;\n",
              "    }\n",
              "</style>\n",
              "<table border=\"1\" class=\"dataframe\">\n",
              "  <thead>\n",
              "    <tr style=\"text-align: right;\">\n",
              "      <th></th>\n",
              "      <th>ChebyshevFourierCoefficientHistogram Bin00</th>\n",
              "      <th>ChebyshevFourierCoefficientHistogram Bin01</th>\n",
              "      <th>ChebyshevFourierCoefficientHistogram Bin02</th>\n",
              "      <th>ChebyshevFourierCoefficientHistogram Bin03</th>\n",
              "      <th>ChebyshevFourierCoefficientHistogram Bin04</th>\n",
              "      <th>ChebyshevFourierCoefficientHistogram Bin05</th>\n",
              "      <th>ChebyshevFourierCoefficientHistogram Bin06</th>\n",
              "      <th>ChebyshevFourierCoefficientHistogram Bin07</th>\n",
              "      <th>ChebyshevFourierCoefficientHistogram Bin08</th>\n",
              "      <th>ChebyshevFourierCoefficientHistogram Bin09</th>\n",
              "      <th>...</th>\n",
              "      <th>ZernikeMoments_FFT Z_14_12</th>\n",
              "      <th>ZernikeMoments_FFT Z_14_14</th>\n",
              "      <th>ZernikeMoments_FFT Z_15_01</th>\n",
              "      <th>ZernikeMoments_FFT Z_15_03</th>\n",
              "      <th>ZernikeMoments_FFT Z_15_05</th>\n",
              "      <th>ZernikeMoments_FFT Z_15_07</th>\n",
              "      <th>ZernikeMoments_FFT Z_15_09</th>\n",
              "      <th>ZernikeMoments_FFT Z_15_11</th>\n",
              "      <th>ZernikeMoments_FFT Z_15_13</th>\n",
              "      <th>ZernikeMoments_FFT Z_15_15</th>\n",
              "    </tr>\n",
              "  </thead>\n",
              "  <tbody>\n",
              "    <tr>\n",
              "      <th>count</th>\n",
              "      <td>4253.000</td>\n",
              "      <td>4253.000</td>\n",
              "      <td>4253.000</td>\n",
              "      <td>4253.000</td>\n",
              "      <td>4253.000</td>\n",
              "      <td>4253.000</td>\n",
              "      <td>4253.000</td>\n",
              "      <td>4253.000</td>\n",
              "      <td>4253.000</td>\n",
              "      <td>4253.000</td>\n",
              "      <td>...</td>\n",
              "      <td>4253.0</td>\n",
              "      <td>4253.0</td>\n",
              "      <td>4253.0</td>\n",
              "      <td>4253.0</td>\n",
              "      <td>4253.0</td>\n",
              "      <td>4253.0</td>\n",
              "      <td>4253.0</td>\n",
              "      <td>4253.0</td>\n",
              "      <td>4253.0</td>\n",
              "      <td>4253.0</td>\n",
              "    </tr>\n",
              "    <tr>\n",
              "      <th>mean</th>\n",
              "      <td>319.543</td>\n",
              "      <td>134.240</td>\n",
              "      <td>40.959</td>\n",
              "      <td>14.987</td>\n",
              "      <td>6.450</td>\n",
              "      <td>3.203</td>\n",
              "      <td>1.922</td>\n",
              "      <td>1.187</td>\n",
              "      <td>0.768</td>\n",
              "      <td>0.511</td>\n",
              "      <td>...</td>\n",
              "      <td>0.0</td>\n",
              "      <td>0.0</td>\n",
              "      <td>0.0</td>\n",
              "      <td>0.0</td>\n",
              "      <td>0.0</td>\n",
              "      <td>0.0</td>\n",
              "      <td>0.0</td>\n",
              "      <td>0.0</td>\n",
              "      <td>0.0</td>\n",
              "      <td>0.0</td>\n",
              "    </tr>\n",
              "    <tr>\n",
              "      <th>std</th>\n",
              "      <td>63.356</td>\n",
              "      <td>35.458</td>\n",
              "      <td>20.450</td>\n",
              "      <td>10.375</td>\n",
              "      <td>5.614</td>\n",
              "      <td>3.403</td>\n",
              "      <td>2.329</td>\n",
              "      <td>1.746</td>\n",
              "      <td>1.349</td>\n",
              "      <td>1.205</td>\n",
              "      <td>...</td>\n",
              "      <td>0.0</td>\n",
              "      <td>0.0</td>\n",
              "      <td>0.0</td>\n",
              "      <td>0.0</td>\n",
              "      <td>0.0</td>\n",
              "      <td>0.0</td>\n",
              "      <td>0.0</td>\n",
              "      <td>0.0</td>\n",
              "      <td>0.0</td>\n",
              "      <td>0.0</td>\n",
              "    </tr>\n",
              "    <tr>\n",
              "      <th>min</th>\n",
              "      <td>27.000</td>\n",
              "      <td>9.000</td>\n",
              "      <td>0.000</td>\n",
              "      <td>0.000</td>\n",
              "      <td>0.000</td>\n",
              "      <td>0.000</td>\n",
              "      <td>0.000</td>\n",
              "      <td>0.000</td>\n",
              "      <td>0.000</td>\n",
              "      <td>0.000</td>\n",
              "      <td>...</td>\n",
              "      <td>0.0</td>\n",
              "      <td>0.0</td>\n",
              "      <td>0.0</td>\n",
              "      <td>0.0</td>\n",
              "      <td>0.0</td>\n",
              "      <td>0.0</td>\n",
              "      <td>0.0</td>\n",
              "      <td>0.0</td>\n",
              "      <td>0.0</td>\n",
              "      <td>0.0</td>\n",
              "    </tr>\n",
              "    <tr>\n",
              "      <th>25%</th>\n",
              "      <td>279.000</td>\n",
              "      <td>115.000</td>\n",
              "      <td>26.000</td>\n",
              "      <td>7.000</td>\n",
              "      <td>2.000</td>\n",
              "      <td>1.000</td>\n",
              "      <td>0.000</td>\n",
              "      <td>0.000</td>\n",
              "      <td>0.000</td>\n",
              "      <td>0.000</td>\n",
              "      <td>...</td>\n",
              "      <td>0.0</td>\n",
              "      <td>0.0</td>\n",
              "      <td>0.0</td>\n",
              "      <td>0.0</td>\n",
              "      <td>0.0</td>\n",
              "      <td>0.0</td>\n",
              "      <td>0.0</td>\n",
              "      <td>0.0</td>\n",
              "      <td>0.0</td>\n",
              "      <td>0.0</td>\n",
              "    </tr>\n",
              "    <tr>\n",
              "      <th>50%</th>\n",
              "      <td>318.000</td>\n",
              "      <td>138.000</td>\n",
              "      <td>38.000</td>\n",
              "      <td>13.000</td>\n",
              "      <td>5.000</td>\n",
              "      <td>2.000</td>\n",
              "      <td>2.000</td>\n",
              "      <td>0.000</td>\n",
              "      <td>0.000</td>\n",
              "      <td>0.000</td>\n",
              "      <td>...</td>\n",
              "      <td>0.0</td>\n",
              "      <td>0.0</td>\n",
              "      <td>0.0</td>\n",
              "      <td>0.0</td>\n",
              "      <td>0.0</td>\n",
              "      <td>0.0</td>\n",
              "      <td>0.0</td>\n",
              "      <td>0.0</td>\n",
              "      <td>0.0</td>\n",
              "      <td>0.0</td>\n",
              "    </tr>\n",
              "    <tr>\n",
              "      <th>75%</th>\n",
              "      <td>359.000</td>\n",
              "      <td>158.000</td>\n",
              "      <td>53.000</td>\n",
              "      <td>20.000</td>\n",
              "      <td>9.000</td>\n",
              "      <td>4.000</td>\n",
              "      <td>3.000</td>\n",
              "      <td>2.000</td>\n",
              "      <td>2.000</td>\n",
              "      <td>0.000</td>\n",
              "      <td>...</td>\n",
              "      <td>0.0</td>\n",
              "      <td>0.0</td>\n",
              "      <td>0.0</td>\n",
              "      <td>0.0</td>\n",
              "      <td>0.0</td>\n",
              "      <td>0.0</td>\n",
              "      <td>0.0</td>\n",
              "      <td>0.0</td>\n",
              "      <td>0.0</td>\n",
              "      <td>0.0</td>\n",
              "    </tr>\n",
              "    <tr>\n",
              "      <th>max</th>\n",
              "      <td>513.000</td>\n",
              "      <td>250.000</td>\n",
              "      <td>120.000</td>\n",
              "      <td>104.000</td>\n",
              "      <td>50.000</td>\n",
              "      <td>60.000</td>\n",
              "      <td>33.000</td>\n",
              "      <td>36.000</td>\n",
              "      <td>12.000</td>\n",
              "      <td>30.000</td>\n",
              "      <td>...</td>\n",
              "      <td>0.0</td>\n",
              "      <td>0.0</td>\n",
              "      <td>0.0</td>\n",
              "      <td>0.0</td>\n",
              "      <td>0.0</td>\n",
              "      <td>0.0</td>\n",
              "      <td>0.0</td>\n",
              "      <td>0.0</td>\n",
              "      <td>0.0</td>\n",
              "      <td>0.0</td>\n",
              "    </tr>\n",
              "  </tbody>\n",
              "</table>\n",
              "<p>8 rows × 1025 columns</p>\n",
              "</div>\n",
              "      <button class=\"colab-df-convert\" onclick=\"convertToInteractive('df-7b09d3b2-3a15-4c3f-af53-8fc0c699f995')\"\n",
              "              title=\"Convert this dataframe to an interactive table.\"\n",
              "              style=\"display:none;\">\n",
              "        \n",
              "  <svg xmlns=\"http://www.w3.org/2000/svg\" height=\"24px\"viewBox=\"0 0 24 24\"\n",
              "       width=\"24px\">\n",
              "    <path d=\"M0 0h24v24H0V0z\" fill=\"none\"/>\n",
              "    <path d=\"M18.56 5.44l.94 2.06.94-2.06 2.06-.94-2.06-.94-.94-2.06-.94 2.06-2.06.94zm-11 1L8.5 8.5l.94-2.06 2.06-.94-2.06-.94L8.5 2.5l-.94 2.06-2.06.94zm10 10l.94 2.06.94-2.06 2.06-.94-2.06-.94-.94-2.06-.94 2.06-2.06.94z\"/><path d=\"M17.41 7.96l-1.37-1.37c-.4-.4-.92-.59-1.43-.59-.52 0-1.04.2-1.43.59L10.3 9.45l-7.72 7.72c-.78.78-.78 2.05 0 2.83L4 21.41c.39.39.9.59 1.41.59.51 0 1.02-.2 1.41-.59l7.78-7.78 2.81-2.81c.8-.78.8-2.07 0-2.86zM5.41 20L4 18.59l7.72-7.72 1.47 1.35L5.41 20z\"/>\n",
              "  </svg>\n",
              "      </button>\n",
              "      \n",
              "  <style>\n",
              "    .colab-df-container {\n",
              "      display:flex;\n",
              "      flex-wrap:wrap;\n",
              "      gap: 12px;\n",
              "    }\n",
              "\n",
              "    .colab-df-convert {\n",
              "      background-color: #E8F0FE;\n",
              "      border: none;\n",
              "      border-radius: 50%;\n",
              "      cursor: pointer;\n",
              "      display: none;\n",
              "      fill: #1967D2;\n",
              "      height: 32px;\n",
              "      padding: 0 0 0 0;\n",
              "      width: 32px;\n",
              "    }\n",
              "\n",
              "    .colab-df-convert:hover {\n",
              "      background-color: #E2EBFA;\n",
              "      box-shadow: 0px 1px 2px rgba(60, 64, 67, 0.3), 0px 1px 3px 1px rgba(60, 64, 67, 0.15);\n",
              "      fill: #174EA6;\n",
              "    }\n",
              "\n",
              "    [theme=dark] .colab-df-convert {\n",
              "      background-color: #3B4455;\n",
              "      fill: #D2E3FC;\n",
              "    }\n",
              "\n",
              "    [theme=dark] .colab-df-convert:hover {\n",
              "      background-color: #434B5C;\n",
              "      box-shadow: 0px 1px 3px 1px rgba(0, 0, 0, 0.15);\n",
              "      filter: drop-shadow(0px 1px 2px rgba(0, 0, 0, 0.3));\n",
              "      fill: #FFFFFF;\n",
              "    }\n",
              "  </style>\n",
              "\n",
              "      <script>\n",
              "        const buttonEl =\n",
              "          document.querySelector('#df-7b09d3b2-3a15-4c3f-af53-8fc0c699f995 button.colab-df-convert');\n",
              "        buttonEl.style.display =\n",
              "          google.colab.kernel.accessAllowed ? 'block' : 'none';\n",
              "\n",
              "        async function convertToInteractive(key) {\n",
              "          const element = document.querySelector('#df-7b09d3b2-3a15-4c3f-af53-8fc0c699f995');\n",
              "          const dataTable =\n",
              "            await google.colab.kernel.invokeFunction('convertToInteractive',\n",
              "                                                     [key], {});\n",
              "          if (!dataTable) return;\n",
              "\n",
              "          const docLinkHtml = 'Like what you see? Visit the ' +\n",
              "            '<a target=\"_blank\" href=https://colab.research.google.com/notebooks/data_table.ipynb>data table notebook</a>'\n",
              "            + ' to learn more about interactive tables.';\n",
              "          element.innerHTML = '';\n",
              "          dataTable['output_type'] = 'display_data';\n",
              "          await google.colab.output.renderOutput(dataTable, element);\n",
              "          const docLink = document.createElement('div');\n",
              "          docLink.innerHTML = docLinkHtml;\n",
              "          element.appendChild(docLink);\n",
              "        }\n",
              "      </script>\n",
              "    </div>\n",
              "  </div>\n",
              "  "
            ]
          },
          "metadata": {},
          "execution_count": 10
        }
      ]
    },
    {
      "cell_type": "code",
      "source": [
        "# Let us check the number of damaged vs. non-damaged insulatorrs in the dataset\n",
        "class_names = {'All_undamaged_tiff' : 'Not damaged', 'All_damaged_tiff' : 'damaged'}\n",
        "print(dataset.Class.value_counts().rename(index = class_names))"
      ],
      "metadata": {
        "colab": {
          "base_uri": "https://localhost:8080/"
        },
        "id": "gb0YhmVXb-t_",
        "outputId": "01fb853f-fbb1-4ae9-83a6-3c1e8ebe61b8"
      },
      "execution_count": 11,
      "outputs": [
        {
          "output_type": "stream",
          "name": "stdout",
          "text": [
            "Not damaged    2836\n",
            "damaged        1417\n",
            "Name: Class, dtype: int64\n"
          ]
        }
      ]
    },
    {
      "cell_type": "code",
      "source": [
        "## The dataset is a bit unbalanced with the undamaged counts roughly doubling the damaged."
      ],
      "metadata": {
        "id": "2WVXLF5db3lo"
      },
      "execution_count": 12,
      "outputs": []
    },
    {
      "cell_type": "markdown",
      "source": [
        "#### 3.2. Data Visualization\n",
        "We skip this step"
      ],
      "metadata": {
        "id": "-Rs4Zpl_eEvz"
      }
    },
    {
      "cell_type": "code",
      "source": [
        ""
      ],
      "metadata": {
        "id": "7SIC-rSKb3pg"
      },
      "execution_count": 12,
      "outputs": []
    },
    {
      "cell_type": "markdown",
      "source": [
        "## 4. Data Preparation"
      ],
      "metadata": {
        "id": "EyB-Q1W7eSWc"
      }
    },
    {
      "cell_type": "code",
      "source": [
        "#Checking for any null values and removing the null values'''\n",
        "print('Null Values =',dataset.isnull().values.any())"
      ],
      "metadata": {
        "colab": {
          "base_uri": "https://localhost:8080/"
        },
        "id": "8PZfChaGea4H",
        "outputId": "38d2d18e-2027-40d7-99bd-d5f3914a978e"
      },
      "execution_count": 13,
      "outputs": [
        {
          "output_type": "stream",
          "name": "stdout",
          "text": [
            "Null Values = False\n"
          ]
        }
      ]
    },
    {
      "cell_type": "code",
      "source": [
        "## Let's drop non-informative attribute: Path\n",
        "dataset.drop('Path', axis=1, inplace=True)"
      ],
      "metadata": {
        "id": "ClKMgyswfseY"
      },
      "execution_count": 14,
      "outputs": []
    },
    {
      "cell_type": "markdown",
      "source": [
        "#### 4.2. Feature Selection"
      ],
      "metadata": {
        "id": "hrm4nnybehZl"
      }
    },
    {
      "cell_type": "code",
      "source": [
        "from sklearn.feature_selection import SelectKBest\n",
        "from sklearn.feature_selection import chi2\n",
        "\n",
        "bestfeatures = SelectKBest( k=10)\n",
        "bestfeatures\n",
        "Y= dataset[\"Class\"]\n",
        "X = dataset.loc[:, dataset.columns != 'Class']\n",
        "fit = bestfeatures.fit(X,Y)\n",
        "dfscores = pd.DataFrame(fit.scores_)\n",
        "dfcolumns = pd.DataFrame(X.columns)\n",
        "#concat two dataframes for better visualization \n",
        "featureScores = pd.concat([dfcolumns,dfscores],axis=1)\n",
        "featureScores.columns = ['Specs','Score']  #naming the dataframe columns\n",
        "print(featureScores.nlargest(10,'Score'))  #print 10 best features"
      ],
      "metadata": {
        "colab": {
          "base_uri": "https://localhost:8080/"
        },
        "id": "ToMWUzMcavau",
        "outputId": "0e5b5152-5869-4bac-da81-19ec21c38ac5"
      },
      "execution_count": 15,
      "outputs": [
        {
          "output_type": "stream",
          "name": "stdout",
          "text": [
            "                                                 Specs    Score\n",
            "807          RadonTransformStatistics Orient135_Bin_01  214.716\n",
            "797            RadonTransformStatistics Orient0_Bin_00  148.910\n",
            "460                                  FeatureCentroid Y  124.929\n",
            "751       MultipleScaleHistograms_Wavelet TBins3_Bin02  121.466\n",
            "770       MultipleScaleHistograms_Wavelet TBins9_Bin06  103.190\n",
            "762       MultipleScaleHistograms_Wavelet TBins7_Bin05   94.920\n",
            "755       MultipleScaleHistograms_Wavelet TBins5_Bin03   93.298\n",
            "161     Comb4Orient4MomentsHistogram 90_Kurt_HistBin00   83.740\n",
            "842      RadonTransformStatistics_FFT Orient135_Bin_00   75.335\n",
            "287  Comb4Orient4MomentsHistogram_FFT Plus45_Std_Hi...   74.264\n"
          ]
        }
      ]
    },
    {
      "cell_type": "code",
      "source": [
        ""
      ],
      "metadata": {
        "id": "Xy4iQdSweu8P"
      },
      "execution_count": 15,
      "outputs": []
    },
    {
      "cell_type": "markdown",
      "source": [
        "## 5. Evaluate Algorithms and Models"
      ],
      "metadata": {
        "id": "ZgmaGTeqgpEd"
      }
    },
    {
      "cell_type": "markdown",
      "source": [
        "#### 5.1. Train Validation Split and Evaluation Metrics"
      ],
      "metadata": {
        "id": "G9jWs9UYg3GO"
      }
    },
    {
      "cell_type": "code",
      "source": [
        "# split out validation dataset for the end\n",
        "Y= dataset[\"Class\"]\n",
        "X = dataset.loc[:, dataset.columns != 'Class']\n",
        "validation_size = 0.2\n",
        "seed = 7\n",
        "X_train, X_validation, Y_train, Y_validation = train_test_split(X, Y, test_size=validation_size, random_state=seed)\n",
        "scoring = 'accuracy'"
      ],
      "metadata": {
        "id": "7s5KygOeg2HM"
      },
      "execution_count": 16,
      "outputs": []
    },
    {
      "cell_type": "markdown",
      "source": [
        "## 5.2. Checking Models and Algorithms"
      ],
      "metadata": {
        "id": "re4ieBY4hGW3"
      }
    },
    {
      "cell_type": "code",
      "source": [
        "# test options for classification\n",
        "num_folds = 5\n",
        "seed = 7"
      ],
      "metadata": {
        "id": "q6ZCAFX9eu_w"
      },
      "execution_count": 17,
      "outputs": []
    },
    {
      "cell_type": "code",
      "source": [
        "# prepare Random Forest\n",
        "model_RF = RandomForestClassifier()\n",
        "model_RF.fit(X_train, Y_train)"
      ],
      "metadata": {
        "colab": {
          "base_uri": "https://localhost:8080/"
        },
        "id": "wrBwRSlqj7Av",
        "outputId": "6769c72a-bb04-4b70-8747-5c9ff4e2a77f"
      },
      "execution_count": 18,
      "outputs": [
        {
          "output_type": "execute_result",
          "data": {
            "text/plain": [
              "RandomForestClassifier()"
            ]
          },
          "metadata": {},
          "execution_count": 18
        }
      ]
    },
    {
      "cell_type": "code",
      "source": [
        "# estimate accuracy on validation set\n",
        "#rescaledValidationX = scaler.transform(X_validation)\n",
        "rescaledValidationX = X_validation\n",
        "predictions = model_RF.predict(rescaledValidationX)\n",
        "print(accuracy_score(Y_validation, predictions))\n",
        "print(confusion_matrix(Y_validation, predictions))\n",
        "print(classification_report(Y_validation, predictions))"
      ],
      "metadata": {
        "colab": {
          "base_uri": "https://localhost:8080/"
        },
        "id": "pL4QIEMvj7RR",
        "outputId": "5e6b7edb-b03e-42b0-b46b-2746b1fb82a3"
      },
      "execution_count": 19,
      "outputs": [
        {
          "output_type": "stream",
          "name": "stdout",
          "text": [
            "0.736780258519389\n",
            "[[ 99 206]\n",
            " [ 18 528]]\n",
            "                    precision    recall  f1-score   support\n",
            "\n",
            "  All_damaged_tiff       0.85      0.32      0.47       305\n",
            "All_undamaged_tiff       0.72      0.97      0.82       546\n",
            "\n",
            "          accuracy                           0.74       851\n",
            "         macro avg       0.78      0.65      0.65       851\n",
            "      weighted avg       0.76      0.74      0.70       851\n",
            "\n"
          ]
        }
      ]
    },
    {
      "cell_type": "code",
      "source": [
        ""
      ],
      "metadata": {
        "id": "n3_KuR6wkPHL"
      },
      "execution_count": 19,
      "outputs": []
    }
  ],
  "metadata": {
    "colab": {
      "collapsed_sections": [],
      "name": "insulator_classification_using_Random_Forest",
      "provenance": [],
      "include_colab_link": true
    },
    "kernelspec": {
      "display_name": "Python 3",
      "language": "python",
      "name": "python3"
    },
    "language_info": {
      "codemirror_mode": {
        "name": "ipython",
        "version": 3
      },
      "file_extension": ".py",
      "mimetype": "text/x-python",
      "name": "python",
      "nbconvert_exporter": "python",
      "pygments_lexer": "ipython3",
      "version": "3.7.0"
    }
  },
  "nbformat": 4,
  "nbformat_minor": 0
}