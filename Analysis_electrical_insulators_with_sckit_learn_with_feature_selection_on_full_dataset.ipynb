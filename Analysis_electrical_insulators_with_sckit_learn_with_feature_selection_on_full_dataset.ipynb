{
  "nbformat": 4,
  "nbformat_minor": 0,
  "metadata": {
    "colab": {
      "name": "Analysis electrical insulators with sckit-learn with feature selection on full dataset.ipynb",
      "provenance": [],
      "authorship_tag": "ABX9TyOREJqKzDgU2/iBMWuM5JTP",
      "include_colab_link": true
    },
    "kernelspec": {
      "name": "python3",
      "display_name": "Python 3"
    },
    "accelerator": "GPU"
  },
  "cells": [
    {
      "cell_type": "markdown",
      "metadata": {
        "id": "view-in-github",
        "colab_type": "text"
      },
      "source": [
        "<a href=\"https://colab.research.google.com/github/demolakstate/AdeNet-Deep-Learning-Architecture/blob/main/Analysis_electrical_insulators_with_sckit_learn_with_feature_selection_on_full_dataset.ipynb\" target=\"_parent\"><img src=\"https://colab.research.google.com/assets/colab-badge.svg\" alt=\"Open In Colab\"/></a>"
      ]
    },
    {
      "cell_type": "code",
      "metadata": {
        "id": "SDo8aBqcf1y-"
      },
      "source": [
        ""
      ],
      "execution_count": null,
      "outputs": []
    },
    {
      "cell_type": "code",
      "metadata": {
        "id": "XMQ3iG9Hf2c8"
      },
      "source": [
        "from sklearn import svm\n",
        "from sklearn.metrics import accuracy_score, log_loss\n",
        "from sklearn.neighbors import KNeighborsClassifier\n",
        "from sklearn.svm import SVC, LinearSVC, NuSVC\n",
        "from sklearn.tree import DecisionTreeClassifier\n",
        "from sklearn.ensemble import RandomForestClassifier, AdaBoostClassifier, GradientBoostingClassifier\n",
        "from sklearn.naive_bayes import GaussianNB\n",
        "from sklearn.discriminant_analysis import LinearDiscriminantAnalysis\n",
        "from sklearn.discriminant_analysis import QuadraticDiscriminantAnalysis"
      ],
      "execution_count": null,
      "outputs": []
    },
    {
      "cell_type": "code",
      "metadata": {
        "id": "YZkuUkS3f2hd"
      },
      "source": [
        ""
      ],
      "execution_count": null,
      "outputs": []
    },
    {
      "cell_type": "code",
      "metadata": {
        "id": "RLqcqH6yYVb1"
      },
      "source": [
        "from sklearn.feature_selection import SelectKBest\n",
        "from sklearn.feature_selection import chi2"
      ],
      "execution_count": null,
      "outputs": []
    },
    {
      "cell_type": "code",
      "metadata": {
        "id": "uYTJ6OEeYVhH"
      },
      "source": [
        ""
      ],
      "execution_count": null,
      "outputs": []
    },
    {
      "cell_type": "code",
      "metadata": {
        "id": "wslOx-W7iEQP",
        "colab": {
          "base_uri": "https://localhost:8080/",
          "height": 35
        },
        "outputId": "4b229775-2f31-4566-997c-c237b76abbcb"
      },
      "source": [
        "pwd"
      ],
      "execution_count": null,
      "outputs": [
        {
          "output_type": "execute_result",
          "data": {
            "application/vnd.google.colaboratory.intrinsic+json": {
              "type": "string"
            },
            "text/plain": [
              "'/content'"
            ]
          },
          "metadata": {
            "tags": []
          },
          "execution_count": 3
        }
      ]
    },
    {
      "cell_type": "code",
      "metadata": {
        "id": "7tw-aqt0iEV1",
        "colab": {
          "base_uri": "https://localhost:8080/",
          "height": 69
        },
        "outputId": "23d35997-ff12-4ba3-8418-1d1c509fec04"
      },
      "source": [
        "ls sample_data/"
      ],
      "execution_count": null,
      "outputs": [
        {
          "output_type": "stream",
          "text": [
            "\u001b[0m\u001b[01;32manscombe.json\u001b[0m*                mnist_test.csv\n",
            "california_housing_test.csv   mnist_train_small.csv\n",
            "california_housing_train.csv  \u001b[01;32mREADME.md\u001b[0m*\n"
          ],
          "name": "stdout"
        }
      ]
    },
    {
      "cell_type": "code",
      "metadata": {
        "id": "QVnopKJ1f2lf"
      },
      "source": [
        "from pandas import DataFrame, read_csv\n",
        "import pandas as pd\n",
        "\n",
        "df=pd.read_csv('dataset.csv')\n",
        "df=df.drop(['Path'],axis=1)"
      ],
      "execution_count": null,
      "outputs": []
    },
    {
      "cell_type": "code",
      "metadata": {
        "id": "-LDlsMKXgMc-"
      },
      "source": [
        ""
      ],
      "execution_count": null,
      "outputs": []
    },
    {
      "cell_type": "code",
      "metadata": {
        "id": "HKlMNfGAiTMH",
        "colab": {
          "base_uri": "https://localhost:8080/",
          "height": 269
        },
        "outputId": "488cc562-ad06-4adf-aba0-b6307e2ee056"
      },
      "source": [
        "df.head()"
      ],
      "execution_count": null,
      "outputs": [
        {
          "output_type": "execute_result",
          "data": {
            "text/html": [
              "<div>\n",
              "<style scoped>\n",
              "    .dataframe tbody tr th:only-of-type {\n",
              "        vertical-align: middle;\n",
              "    }\n",
              "\n",
              "    .dataframe tbody tr th {\n",
              "        vertical-align: top;\n",
              "    }\n",
              "\n",
              "    .dataframe thead th {\n",
              "        text-align: right;\n",
              "    }\n",
              "</style>\n",
              "<table border=\"1\" class=\"dataframe\">\n",
              "  <thead>\n",
              "    <tr style=\"text-align: right;\">\n",
              "      <th></th>\n",
              "      <th>Class</th>\n",
              "      <th>ChebyshevFourierCoefficientHistogram Bin00</th>\n",
              "      <th>ChebyshevFourierCoefficientHistogram Bin01</th>\n",
              "      <th>ChebyshevFourierCoefficientHistogram Bin02</th>\n",
              "      <th>ChebyshevFourierCoefficientHistogram Bin03</th>\n",
              "      <th>ChebyshevFourierCoefficientHistogram Bin04</th>\n",
              "      <th>ChebyshevFourierCoefficientHistogram Bin05</th>\n",
              "      <th>ChebyshevFourierCoefficientHistogram Bin06</th>\n",
              "      <th>ChebyshevFourierCoefficientHistogram Bin07</th>\n",
              "      <th>ChebyshevFourierCoefficientHistogram Bin08</th>\n",
              "      <th>ChebyshevFourierCoefficientHistogram Bin09</th>\n",
              "      <th>ChebyshevFourierCoefficientHistogram Bin10</th>\n",
              "      <th>ChebyshevFourierCoefficientHistogram Bin11</th>\n",
              "      <th>ChebyshevFourierCoefficientHistogram Bin12</th>\n",
              "      <th>ChebyshevFourierCoefficientHistogram Bin13</th>\n",
              "      <th>ChebyshevFourierCoefficientHistogram Bin14</th>\n",
              "      <th>ChebyshevFourierCoefficientHistogram Bin15</th>\n",
              "      <th>ChebyshevFourierCoefficientHistogram Bin16</th>\n",
              "      <th>ChebyshevFourierCoefficientHistogram Bin17</th>\n",
              "      <th>ChebyshevFourierCoefficientHistogram Bin18</th>\n",
              "      <th>ChebyshevFourierCoefficientHistogram Bin19</th>\n",
              "      <th>ChebyshevFourierCoefficientHistogram Bin20</th>\n",
              "      <th>ChebyshevFourierCoefficientHistogram Bin21</th>\n",
              "      <th>ChebyshevFourierCoefficientHistogram Bin22</th>\n",
              "      <th>ChebyshevFourierCoefficientHistogram Bin23</th>\n",
              "      <th>ChebyshevFourierCoefficientHistogram Bin24</th>\n",
              "      <th>ChebyshevFourierCoefficientHistogram Bin25</th>\n",
              "      <th>ChebyshevFourierCoefficientHistogram Bin26</th>\n",
              "      <th>ChebyshevFourierCoefficientHistogram Bin27</th>\n",
              "      <th>ChebyshevFourierCoefficientHistogram Bin28</th>\n",
              "      <th>ChebyshevFourierCoefficientHistogram Bin29</th>\n",
              "      <th>ChebyshevFourierCoefficientHistogram Bin30</th>\n",
              "      <th>ChebyshevFourierCoefficientHistogram Bin31</th>\n",
              "      <th>ChebyshevFourierCoefficientHistogram_FFT Bin00</th>\n",
              "      <th>ChebyshevFourierCoefficientHistogram_FFT Bin01</th>\n",
              "      <th>ChebyshevFourierCoefficientHistogram_FFT Bin02</th>\n",
              "      <th>ChebyshevFourierCoefficientHistogram_FFT Bin03</th>\n",
              "      <th>ChebyshevFourierCoefficientHistogram_FFT Bin04</th>\n",
              "      <th>ChebyshevFourierCoefficientHistogram_FFT Bin05</th>\n",
              "      <th>ChebyshevFourierCoefficientHistogram_FFT Bin06</th>\n",
              "      <th>...</th>\n",
              "      <th>ZernikeMoments_FFT Z_10_04</th>\n",
              "      <th>ZernikeMoments_FFT Z_10_06</th>\n",
              "      <th>ZernikeMoments_FFT Z_10_08</th>\n",
              "      <th>ZernikeMoments_FFT Z_10_10</th>\n",
              "      <th>ZernikeMoments_FFT Z_11_01</th>\n",
              "      <th>ZernikeMoments_FFT Z_11_03</th>\n",
              "      <th>ZernikeMoments_FFT Z_11_05</th>\n",
              "      <th>ZernikeMoments_FFT Z_11_07</th>\n",
              "      <th>ZernikeMoments_FFT Z_11_09</th>\n",
              "      <th>ZernikeMoments_FFT Z_11_11</th>\n",
              "      <th>ZernikeMoments_FFT Z_12_00</th>\n",
              "      <th>ZernikeMoments_FFT Z_12_02</th>\n",
              "      <th>ZernikeMoments_FFT Z_12_04</th>\n",
              "      <th>ZernikeMoments_FFT Z_12_06</th>\n",
              "      <th>ZernikeMoments_FFT Z_12_08</th>\n",
              "      <th>ZernikeMoments_FFT Z_12_10</th>\n",
              "      <th>ZernikeMoments_FFT Z_12_12</th>\n",
              "      <th>ZernikeMoments_FFT Z_13_01</th>\n",
              "      <th>ZernikeMoments_FFT Z_13_03</th>\n",
              "      <th>ZernikeMoments_FFT Z_13_05</th>\n",
              "      <th>ZernikeMoments_FFT Z_13_07</th>\n",
              "      <th>ZernikeMoments_FFT Z_13_09</th>\n",
              "      <th>ZernikeMoments_FFT Z_13_11</th>\n",
              "      <th>ZernikeMoments_FFT Z_13_13</th>\n",
              "      <th>ZernikeMoments_FFT Z_14_00</th>\n",
              "      <th>ZernikeMoments_FFT Z_14_02</th>\n",
              "      <th>ZernikeMoments_FFT Z_14_04</th>\n",
              "      <th>ZernikeMoments_FFT Z_14_06</th>\n",
              "      <th>ZernikeMoments_FFT Z_14_08</th>\n",
              "      <th>ZernikeMoments_FFT Z_14_10</th>\n",
              "      <th>ZernikeMoments_FFT Z_14_12</th>\n",
              "      <th>ZernikeMoments_FFT Z_14_14</th>\n",
              "      <th>ZernikeMoments_FFT Z_15_01</th>\n",
              "      <th>ZernikeMoments_FFT Z_15_03</th>\n",
              "      <th>ZernikeMoments_FFT Z_15_05</th>\n",
              "      <th>ZernikeMoments_FFT Z_15_07</th>\n",
              "      <th>ZernikeMoments_FFT Z_15_09</th>\n",
              "      <th>ZernikeMoments_FFT Z_15_11</th>\n",
              "      <th>ZernikeMoments_FFT Z_15_13</th>\n",
              "      <th>ZernikeMoments_FFT Z_15_15</th>\n",
              "    </tr>\n",
              "  </thead>\n",
              "  <tbody>\n",
              "    <tr>\n",
              "      <th>0</th>\n",
              "      <td>All_damaged_tiff</td>\n",
              "      <td>321</td>\n",
              "      <td>155</td>\n",
              "      <td>27</td>\n",
              "      <td>9</td>\n",
              "      <td>9</td>\n",
              "      <td>0</td>\n",
              "      <td>0</td>\n",
              "      <td>2</td>\n",
              "      <td>2</td>\n",
              "      <td>0</td>\n",
              "      <td>0</td>\n",
              "      <td>0</td>\n",
              "      <td>0</td>\n",
              "      <td>0</td>\n",
              "      <td>0</td>\n",
              "      <td>0</td>\n",
              "      <td>1</td>\n",
              "      <td>0</td>\n",
              "      <td>0</td>\n",
              "      <td>0</td>\n",
              "      <td>1</td>\n",
              "      <td>0</td>\n",
              "      <td>0</td>\n",
              "      <td>0</td>\n",
              "      <td>1</td>\n",
              "      <td>0</td>\n",
              "      <td>0</td>\n",
              "      <td>0</td>\n",
              "      <td>0</td>\n",
              "      <td>0</td>\n",
              "      <td>0</td>\n",
              "      <td>1</td>\n",
              "      <td>447</td>\n",
              "      <td>29</td>\n",
              "      <td>15</td>\n",
              "      <td>13</td>\n",
              "      <td>3</td>\n",
              "      <td>5</td>\n",
              "      <td>2</td>\n",
              "      <td>...</td>\n",
              "      <td>0</td>\n",
              "      <td>0</td>\n",
              "      <td>0</td>\n",
              "      <td>0</td>\n",
              "      <td>0</td>\n",
              "      <td>0</td>\n",
              "      <td>0</td>\n",
              "      <td>0</td>\n",
              "      <td>0</td>\n",
              "      <td>0</td>\n",
              "      <td>0</td>\n",
              "      <td>0</td>\n",
              "      <td>0</td>\n",
              "      <td>0</td>\n",
              "      <td>0</td>\n",
              "      <td>0</td>\n",
              "      <td>0</td>\n",
              "      <td>0</td>\n",
              "      <td>0</td>\n",
              "      <td>0</td>\n",
              "      <td>0</td>\n",
              "      <td>0</td>\n",
              "      <td>0</td>\n",
              "      <td>0</td>\n",
              "      <td>0</td>\n",
              "      <td>0</td>\n",
              "      <td>0</td>\n",
              "      <td>0</td>\n",
              "      <td>0</td>\n",
              "      <td>0</td>\n",
              "      <td>0</td>\n",
              "      <td>0</td>\n",
              "      <td>0</td>\n",
              "      <td>0</td>\n",
              "      <td>0</td>\n",
              "      <td>0</td>\n",
              "      <td>0</td>\n",
              "      <td>0</td>\n",
              "      <td>0</td>\n",
              "      <td>0</td>\n",
              "    </tr>\n",
              "    <tr>\n",
              "      <th>1</th>\n",
              "      <td>All_damaged_tiff</td>\n",
              "      <td>262</td>\n",
              "      <td>173</td>\n",
              "      <td>58</td>\n",
              "      <td>16</td>\n",
              "      <td>5</td>\n",
              "      <td>6</td>\n",
              "      <td>3</td>\n",
              "      <td>2</td>\n",
              "      <td>0</td>\n",
              "      <td>0</td>\n",
              "      <td>0</td>\n",
              "      <td>0</td>\n",
              "      <td>0</td>\n",
              "      <td>1</td>\n",
              "      <td>0</td>\n",
              "      <td>0</td>\n",
              "      <td>0</td>\n",
              "      <td>0</td>\n",
              "      <td>0</td>\n",
              "      <td>1</td>\n",
              "      <td>0</td>\n",
              "      <td>0</td>\n",
              "      <td>1</td>\n",
              "      <td>0</td>\n",
              "      <td>0</td>\n",
              "      <td>0</td>\n",
              "      <td>0</td>\n",
              "      <td>0</td>\n",
              "      <td>0</td>\n",
              "      <td>0</td>\n",
              "      <td>0</td>\n",
              "      <td>1</td>\n",
              "      <td>447</td>\n",
              "      <td>36</td>\n",
              "      <td>10</td>\n",
              "      <td>9</td>\n",
              "      <td>5</td>\n",
              "      <td>7</td>\n",
              "      <td>5</td>\n",
              "      <td>...</td>\n",
              "      <td>0</td>\n",
              "      <td>0</td>\n",
              "      <td>0</td>\n",
              "      <td>0</td>\n",
              "      <td>0</td>\n",
              "      <td>0</td>\n",
              "      <td>0</td>\n",
              "      <td>0</td>\n",
              "      <td>0</td>\n",
              "      <td>0</td>\n",
              "      <td>0</td>\n",
              "      <td>0</td>\n",
              "      <td>0</td>\n",
              "      <td>0</td>\n",
              "      <td>0</td>\n",
              "      <td>0</td>\n",
              "      <td>0</td>\n",
              "      <td>0</td>\n",
              "      <td>0</td>\n",
              "      <td>0</td>\n",
              "      <td>0</td>\n",
              "      <td>0</td>\n",
              "      <td>0</td>\n",
              "      <td>0</td>\n",
              "      <td>0</td>\n",
              "      <td>0</td>\n",
              "      <td>0</td>\n",
              "      <td>0</td>\n",
              "      <td>0</td>\n",
              "      <td>0</td>\n",
              "      <td>0</td>\n",
              "      <td>0</td>\n",
              "      <td>0</td>\n",
              "      <td>0</td>\n",
              "      <td>0</td>\n",
              "      <td>0</td>\n",
              "      <td>0</td>\n",
              "      <td>0</td>\n",
              "      <td>0</td>\n",
              "      <td>0</td>\n",
              "    </tr>\n",
              "    <tr>\n",
              "      <th>2</th>\n",
              "      <td>All_damaged_tiff</td>\n",
              "      <td>305</td>\n",
              "      <td>158</td>\n",
              "      <td>44</td>\n",
              "      <td>7</td>\n",
              "      <td>2</td>\n",
              "      <td>6</td>\n",
              "      <td>2</td>\n",
              "      <td>1</td>\n",
              "      <td>0</td>\n",
              "      <td>0</td>\n",
              "      <td>0</td>\n",
              "      <td>0</td>\n",
              "      <td>0</td>\n",
              "      <td>0</td>\n",
              "      <td>0</td>\n",
              "      <td>0</td>\n",
              "      <td>0</td>\n",
              "      <td>1</td>\n",
              "      <td>1</td>\n",
              "      <td>0</td>\n",
              "      <td>0</td>\n",
              "      <td>0</td>\n",
              "      <td>0</td>\n",
              "      <td>0</td>\n",
              "      <td>0</td>\n",
              "      <td>1</td>\n",
              "      <td>0</td>\n",
              "      <td>0</td>\n",
              "      <td>0</td>\n",
              "      <td>0</td>\n",
              "      <td>0</td>\n",
              "      <td>1</td>\n",
              "      <td>444</td>\n",
              "      <td>33</td>\n",
              "      <td>22</td>\n",
              "      <td>8</td>\n",
              "      <td>5</td>\n",
              "      <td>8</td>\n",
              "      <td>1</td>\n",
              "      <td>...</td>\n",
              "      <td>0</td>\n",
              "      <td>0</td>\n",
              "      <td>0</td>\n",
              "      <td>0</td>\n",
              "      <td>0</td>\n",
              "      <td>0</td>\n",
              "      <td>0</td>\n",
              "      <td>0</td>\n",
              "      <td>0</td>\n",
              "      <td>0</td>\n",
              "      <td>0</td>\n",
              "      <td>0</td>\n",
              "      <td>0</td>\n",
              "      <td>0</td>\n",
              "      <td>0</td>\n",
              "      <td>0</td>\n",
              "      <td>0</td>\n",
              "      <td>0</td>\n",
              "      <td>0</td>\n",
              "      <td>0</td>\n",
              "      <td>0</td>\n",
              "      <td>0</td>\n",
              "      <td>0</td>\n",
              "      <td>0</td>\n",
              "      <td>0</td>\n",
              "      <td>0</td>\n",
              "      <td>0</td>\n",
              "      <td>0</td>\n",
              "      <td>0</td>\n",
              "      <td>0</td>\n",
              "      <td>0</td>\n",
              "      <td>0</td>\n",
              "      <td>0</td>\n",
              "      <td>0</td>\n",
              "      <td>0</td>\n",
              "      <td>0</td>\n",
              "      <td>0</td>\n",
              "      <td>0</td>\n",
              "      <td>0</td>\n",
              "      <td>0</td>\n",
              "    </tr>\n",
              "    <tr>\n",
              "      <th>3</th>\n",
              "      <td>All_damaged_tiff</td>\n",
              "      <td>411</td>\n",
              "      <td>85</td>\n",
              "      <td>11</td>\n",
              "      <td>8</td>\n",
              "      <td>6</td>\n",
              "      <td>0</td>\n",
              "      <td>2</td>\n",
              "      <td>2</td>\n",
              "      <td>0</td>\n",
              "      <td>0</td>\n",
              "      <td>0</td>\n",
              "      <td>0</td>\n",
              "      <td>0</td>\n",
              "      <td>0</td>\n",
              "      <td>0</td>\n",
              "      <td>1</td>\n",
              "      <td>0</td>\n",
              "      <td>0</td>\n",
              "      <td>0</td>\n",
              "      <td>0</td>\n",
              "      <td>1</td>\n",
              "      <td>0</td>\n",
              "      <td>0</td>\n",
              "      <td>0</td>\n",
              "      <td>1</td>\n",
              "      <td>0</td>\n",
              "      <td>0</td>\n",
              "      <td>0</td>\n",
              "      <td>0</td>\n",
              "      <td>0</td>\n",
              "      <td>0</td>\n",
              "      <td>1</td>\n",
              "      <td>446</td>\n",
              "      <td>55</td>\n",
              "      <td>8</td>\n",
              "      <td>4</td>\n",
              "      <td>6</td>\n",
              "      <td>5</td>\n",
              "      <td>0</td>\n",
              "      <td>...</td>\n",
              "      <td>0</td>\n",
              "      <td>0</td>\n",
              "      <td>0</td>\n",
              "      <td>0</td>\n",
              "      <td>0</td>\n",
              "      <td>0</td>\n",
              "      <td>0</td>\n",
              "      <td>0</td>\n",
              "      <td>0</td>\n",
              "      <td>0</td>\n",
              "      <td>0</td>\n",
              "      <td>0</td>\n",
              "      <td>0</td>\n",
              "      <td>0</td>\n",
              "      <td>0</td>\n",
              "      <td>0</td>\n",
              "      <td>0</td>\n",
              "      <td>0</td>\n",
              "      <td>0</td>\n",
              "      <td>0</td>\n",
              "      <td>0</td>\n",
              "      <td>0</td>\n",
              "      <td>0</td>\n",
              "      <td>0</td>\n",
              "      <td>0</td>\n",
              "      <td>0</td>\n",
              "      <td>0</td>\n",
              "      <td>0</td>\n",
              "      <td>0</td>\n",
              "      <td>0</td>\n",
              "      <td>0</td>\n",
              "      <td>0</td>\n",
              "      <td>0</td>\n",
              "      <td>0</td>\n",
              "      <td>0</td>\n",
              "      <td>0</td>\n",
              "      <td>0</td>\n",
              "      <td>0</td>\n",
              "      <td>0</td>\n",
              "      <td>0</td>\n",
              "    </tr>\n",
              "    <tr>\n",
              "      <th>4</th>\n",
              "      <td>All_damaged_tiff</td>\n",
              "      <td>354</td>\n",
              "      <td>141</td>\n",
              "      <td>18</td>\n",
              "      <td>6</td>\n",
              "      <td>4</td>\n",
              "      <td>0</td>\n",
              "      <td>2</td>\n",
              "      <td>0</td>\n",
              "      <td>0</td>\n",
              "      <td>0</td>\n",
              "      <td>0</td>\n",
              "      <td>0</td>\n",
              "      <td>0</td>\n",
              "      <td>0</td>\n",
              "      <td>0</td>\n",
              "      <td>1</td>\n",
              "      <td>0</td>\n",
              "      <td>0</td>\n",
              "      <td>0</td>\n",
              "      <td>0</td>\n",
              "      <td>1</td>\n",
              "      <td>0</td>\n",
              "      <td>0</td>\n",
              "      <td>0</td>\n",
              "      <td>1</td>\n",
              "      <td>0</td>\n",
              "      <td>0</td>\n",
              "      <td>0</td>\n",
              "      <td>0</td>\n",
              "      <td>0</td>\n",
              "      <td>0</td>\n",
              "      <td>1</td>\n",
              "      <td>430</td>\n",
              "      <td>51</td>\n",
              "      <td>13</td>\n",
              "      <td>11</td>\n",
              "      <td>7</td>\n",
              "      <td>4</td>\n",
              "      <td>2</td>\n",
              "      <td>...</td>\n",
              "      <td>0</td>\n",
              "      <td>0</td>\n",
              "      <td>0</td>\n",
              "      <td>0</td>\n",
              "      <td>0</td>\n",
              "      <td>0</td>\n",
              "      <td>0</td>\n",
              "      <td>0</td>\n",
              "      <td>0</td>\n",
              "      <td>0</td>\n",
              "      <td>0</td>\n",
              "      <td>0</td>\n",
              "      <td>0</td>\n",
              "      <td>0</td>\n",
              "      <td>0</td>\n",
              "      <td>0</td>\n",
              "      <td>0</td>\n",
              "      <td>0</td>\n",
              "      <td>0</td>\n",
              "      <td>0</td>\n",
              "      <td>0</td>\n",
              "      <td>0</td>\n",
              "      <td>0</td>\n",
              "      <td>0</td>\n",
              "      <td>0</td>\n",
              "      <td>0</td>\n",
              "      <td>0</td>\n",
              "      <td>0</td>\n",
              "      <td>0</td>\n",
              "      <td>0</td>\n",
              "      <td>0</td>\n",
              "      <td>0</td>\n",
              "      <td>0</td>\n",
              "      <td>0</td>\n",
              "      <td>0</td>\n",
              "      <td>0</td>\n",
              "      <td>0</td>\n",
              "      <td>0</td>\n",
              "      <td>0</td>\n",
              "      <td>0</td>\n",
              "    </tr>\n",
              "  </tbody>\n",
              "</table>\n",
              "<p>5 rows × 1026 columns</p>\n",
              "</div>"
            ],
            "text/plain": [
              "              Class  ...  ZernikeMoments_FFT Z_15_15\n",
              "0  All_damaged_tiff  ...                           0\n",
              "1  All_damaged_tiff  ...                           0\n",
              "2  All_damaged_tiff  ...                           0\n",
              "3  All_damaged_tiff  ...                           0\n",
              "4  All_damaged_tiff  ...                           0\n",
              "\n",
              "[5 rows x 1026 columns]"
            ]
          },
          "metadata": {
            "tags": []
          },
          "execution_count": 6
        }
      ]
    },
    {
      "cell_type": "code",
      "metadata": {
        "id": "pxyN-4fIiTQW"
      },
      "source": [
        ""
      ],
      "execution_count": null,
      "outputs": []
    },
    {
      "cell_type": "code",
      "metadata": {
        "id": "k_9OeGF9gV6H"
      },
      "source": [
        "from sklearn.utils import shuffle\n",
        "df = shuffle(df)"
      ],
      "execution_count": null,
      "outputs": []
    },
    {
      "cell_type": "code",
      "metadata": {
        "id": "kPrnQ7Z_gWAO"
      },
      "source": [
        ""
      ],
      "execution_count": null,
      "outputs": []
    },
    {
      "cell_type": "code",
      "metadata": {
        "id": "quNXo27yX6Ix"
      },
      "source": [
        "y = df['Class']\n",
        "X = df.drop(['Class'],axis=1)"
      ],
      "execution_count": null,
      "outputs": []
    },
    {
      "cell_type": "code",
      "metadata": {
        "id": "Y97gItCbX6Mt"
      },
      "source": [
        "#new_set = SelectKBest(chi2, k=2).fit_transform(X, y)\n",
        "#new_set = SelectKBest(f_score, k=2).fit_transform(X, y)"
      ],
      "execution_count": null,
      "outputs": []
    },
    {
      "cell_type": "code",
      "metadata": {
        "id": "-W1P48SRY2pI"
      },
      "source": [
        "new_set = SelectKBest(chi2, k=61).fit_transform(X.abs(), y)\n",
        "#new_set = SelectKBest(f_score, k=2).fit_transform(X, y)"
      ],
      "execution_count": null,
      "outputs": []
    },
    {
      "cell_type": "code",
      "metadata": {
        "id": "R_XoacIXZ9L5"
      },
      "source": [
        ""
      ],
      "execution_count": null,
      "outputs": []
    },
    {
      "cell_type": "code",
      "metadata": {
        "id": "_xFH28fMZ9Ry"
      },
      "source": [
        ""
      ],
      "execution_count": null,
      "outputs": []
    },
    {
      "cell_type": "code",
      "metadata": {
        "id": "-g3wUxeIgMhA"
      },
      "source": [
        "test=df.iloc[:300,:]\n",
        "train=df.iloc[300:,:]\n",
        "\n",
        "\n",
        "train_labels=train['Class'].tolist()\n",
        "train=train.drop(['Class'],axis=1)\n",
        "#train_samples=train.values.tolist()\n",
        "\n",
        "\n",
        "train_samples=train.values.tolist()\n",
        "\n",
        "test_labels=test['Class'].tolist()\n",
        "test=test.drop(['Class'],axis=1)\n",
        "test_samples=test.values.tolist()"
      ],
      "execution_count": null,
      "outputs": []
    },
    {
      "cell_type": "code",
      "metadata": {
        "id": "dKVDBp8ngMkh"
      },
      "source": [
        ""
      ],
      "execution_count": null,
      "outputs": []
    },
    {
      "cell_type": "code",
      "metadata": {
        "id": "gdrIV3fbYlfP"
      },
      "source": [
        "#train_samples = SelectKBest(chi2, k=2).fit_transform(train_samples, train_labels)"
      ],
      "execution_count": null,
      "outputs": []
    },
    {
      "cell_type": "code",
      "metadata": {
        "id": "Z6yXREi2Yljs"
      },
      "source": [
        ""
      ],
      "execution_count": null,
      "outputs": []
    },
    {
      "cell_type": "code",
      "metadata": {
        "id": "Qh-Nss5dYlqB"
      },
      "source": [
        ""
      ],
      "execution_count": null,
      "outputs": []
    },
    {
      "cell_type": "code",
      "metadata": {
        "id": "qay3h_QagMn5"
      },
      "source": [
        "for i in range (len(train_labels)):\n",
        "  if train_labels[i]=='damaged':\n",
        "    train_labels[i]=0\n",
        "  if train_labels[i]=='undamaged':\n",
        "    train_labels[i]=1\n",
        "\n",
        "for i in range (len(test_labels)):\n",
        "  if test_labels[i]=='damaged':\n",
        "    test_labels[i]=0\n",
        "  if test_labels[i]=='undamaged':\n",
        "    test_labels[i]=1\n"
      ],
      "execution_count": null,
      "outputs": []
    },
    {
      "cell_type": "code",
      "metadata": {
        "id": "li1IM21vgSs6"
      },
      "source": [
        ""
      ],
      "execution_count": null,
      "outputs": []
    },
    {
      "cell_type": "code",
      "metadata": {
        "id": "dLERdAofgSxa",
        "colab": {
          "base_uri": "https://localhost:8080/",
          "height": 225
        },
        "outputId": "061c8e38-e872-4331-b70e-66be1c792269"
      },
      "source": [
        "classifiers = [\n",
        "KNeighborsClassifier(3),\n",
        "SVC(kernel=\"rbf\", C=0.025, probability=True),\n",
        "#SVC(kernel=\"sigmoid\", C=0.025, probability=True),\n",
        "#NuSVC(probability=True),\n",
        "DecisionTreeClassifier(),\n",
        "RandomForestClassifier(),\n",
        "AdaBoostClassifier(),\n",
        "GradientBoostingClassifier(),\n",
        "GaussianNB(),\n",
        "LinearDiscriminantAnalysis(),\n",
        "QuadraticDiscriminantAnalysis()]\n",
        "\n",
        "for clf in classifiers:\n",
        "  clf.fit(train_samples, train_labels)\n",
        "  res=clf.predict(test_samples)\n",
        "  acc = accuracy_score(test_labels, res)\n",
        "  print (clf.__class__.__name__+\" Accuracy: \"+str(acc))\n",
        "\n",
        "correct_samples=0\n",
        "for i in range (len(test_labels)):\n",
        "  if test_labels[i]==res[i]:\n",
        "     correct_samples=correct_samples+1\n",
        "print(correct_samples/len(test_labels))"
      ],
      "execution_count": null,
      "outputs": [
        {
          "output_type": "stream",
          "text": [
            "KNeighborsClassifier Accuracy: 0.5633333333333334\n",
            "SVC Accuracy: 0.66\n",
            "DecisionTreeClassifier Accuracy: 0.62\n",
            "RandomForestClassifier Accuracy: 0.73\n",
            "AdaBoostClassifier Accuracy: 0.74\n",
            "GradientBoostingClassifier Accuracy: 0.7633333333333333\n",
            "GaussianNB Accuracy: 0.5066666666666667\n",
            "LinearDiscriminantAnalysis Accuracy: 0.78\n"
          ],
          "name": "stdout"
        },
        {
          "output_type": "stream",
          "text": [
            "/usr/local/lib/python3.6/dist-packages/sklearn/discriminant_analysis.py:691: UserWarning: Variables are collinear\n",
            "  warnings.warn(\"Variables are collinear\")\n"
          ],
          "name": "stderr"
        },
        {
          "output_type": "stream",
          "text": [
            "QuadraticDiscriminantAnalysis Accuracy: 0.5833333333333334\n",
            "0.5833333333333334\n"
          ],
          "name": "stdout"
        }
      ]
    },
    {
      "cell_type": "code",
      "metadata": {
        "id": "mCH0EKb-gS0l"
      },
      "source": [
        ""
      ],
      "execution_count": null,
      "outputs": []
    },
    {
      "cell_type": "code",
      "metadata": {
        "id": "5qNtzTXggS37"
      },
      "source": [
        ""
      ],
      "execution_count": null,
      "outputs": []
    },
    {
      "cell_type": "code",
      "metadata": {
        "id": "mWQjcUhUgMrV"
      },
      "source": [
        ""
      ],
      "execution_count": null,
      "outputs": []
    },
    {
      "cell_type": "code",
      "metadata": {
        "id": "8dTlRd18f2pl"
      },
      "source": [
        ""
      ],
      "execution_count": null,
      "outputs": []
    }
  ]
}