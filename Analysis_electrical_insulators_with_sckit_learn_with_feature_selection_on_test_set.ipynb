{
  "nbformat": 4,
  "nbformat_minor": 0,
  "metadata": {
    "colab": {
      "name": "Analysis electrical insulators with sckit-learn with feature selection on test set.ipynb",
      "provenance": [],
      "authorship_tag": "ABX9TyO2Te0q3LxEuQQNnDswC/ZO",
      "include_colab_link": true
    },
    "kernelspec": {
      "name": "python3",
      "display_name": "Python 3"
    },
    "accelerator": "GPU"
  },
  "cells": [
    {
      "cell_type": "markdown",
      "metadata": {
        "id": "view-in-github",
        "colab_type": "text"
      },
      "source": [
        "<a href=\"https://colab.research.google.com/github/demolakstate/AdeNet-Deep-Learning-Architecture/blob/main/Analysis_electrical_insulators_with_sckit_learn_with_feature_selection_on_test_set.ipynb\" target=\"_parent\"><img src=\"https://colab.research.google.com/assets/colab-badge.svg\" alt=\"Open In Colab\"/></a>"
      ]
    },
    {
      "cell_type": "code",
      "metadata": {
        "id": "SDo8aBqcf1y-"
      },
      "source": [
        ""
      ],
      "execution_count": null,
      "outputs": []
    },
    {
      "cell_type": "code",
      "metadata": {
        "id": "XMQ3iG9Hf2c8"
      },
      "source": [
        "from sklearn import svm\n",
        "from sklearn.metrics import accuracy_score, log_loss\n",
        "from sklearn.neighbors import KNeighborsClassifier\n",
        "from sklearn.svm import SVC, LinearSVC, NuSVC\n",
        "from sklearn.tree import DecisionTreeClassifier\n",
        "from sklearn.ensemble import RandomForestClassifier, AdaBoostClassifier, GradientBoostingClassifier\n",
        "from sklearn.naive_bayes import GaussianNB\n",
        "from sklearn.discriminant_analysis import LinearDiscriminantAnalysis\n",
        "from sklearn.discriminant_analysis import QuadraticDiscriminantAnalysis"
      ],
      "execution_count": null,
      "outputs": []
    },
    {
      "cell_type": "code",
      "metadata": {
        "id": "YZkuUkS3f2hd"
      },
      "source": [
        ""
      ],
      "execution_count": null,
      "outputs": []
    },
    {
      "cell_type": "code",
      "metadata": {
        "id": "RLqcqH6yYVb1"
      },
      "source": [
        "from sklearn.feature_selection import SelectKBest\n",
        "from sklearn.feature_selection import chi2"
      ],
      "execution_count": null,
      "outputs": []
    },
    {
      "cell_type": "code",
      "metadata": {
        "id": "uYTJ6OEeYVhH"
      },
      "source": [
        ""
      ],
      "execution_count": null,
      "outputs": []
    },
    {
      "cell_type": "code",
      "metadata": {
        "id": "wslOx-W7iEQP",
        "colab": {
          "base_uri": "https://localhost:8080/",
          "height": 35
        },
        "outputId": "a1a66a38-d389-4e8a-c748-bade0127b1d8"
      },
      "source": [
        "pwd"
      ],
      "execution_count": null,
      "outputs": [
        {
          "output_type": "execute_result",
          "data": {
            "application/vnd.google.colaboratory.intrinsic+json": {
              "type": "string"
            },
            "text/plain": [
              "'/content'"
            ]
          },
          "metadata": {
            "tags": []
          },
          "execution_count": 3
        }
      ]
    },
    {
      "cell_type": "code",
      "metadata": {
        "id": "7tw-aqt0iEV1",
        "colab": {
          "base_uri": "https://localhost:8080/",
          "height": 69
        },
        "outputId": "47b7fc93-bd58-4659-8551-075020ef707e"
      },
      "source": [
        "ls sample_data/"
      ],
      "execution_count": null,
      "outputs": [
        {
          "output_type": "stream",
          "text": [
            "\u001b[0m\u001b[01;32manscombe.json\u001b[0m*                mnist_test.csv\n",
            "california_housing_test.csv   mnist_train_small.csv\n",
            "california_housing_train.csv  \u001b[01;32mREADME.md\u001b[0m*\n"
          ],
          "name": "stdout"
        }
      ]
    },
    {
      "cell_type": "code",
      "metadata": {
        "id": "QVnopKJ1f2lf"
      },
      "source": [
        "from pandas import DataFrame, read_csv\n",
        "import pandas as pd\n",
        "\n",
        "df=pd.read_csv('test.csv')\n",
        "df=df.drop(['Path'],axis=1)"
      ],
      "execution_count": null,
      "outputs": []
    },
    {
      "cell_type": "code",
      "metadata": {
        "id": "-LDlsMKXgMc-"
      },
      "source": [
        ""
      ],
      "execution_count": null,
      "outputs": []
    },
    {
      "cell_type": "code",
      "metadata": {
        "id": "HKlMNfGAiTMH",
        "colab": {
          "base_uri": "https://localhost:8080/",
          "height": 321
        },
        "outputId": "eea5b839-0265-4087-dda1-9d5ca74d1739"
      },
      "source": [
        "df.head()"
      ],
      "execution_count": null,
      "outputs": [
        {
          "output_type": "execute_result",
          "data": {
            "text/html": [
              "<div>\n",
              "<style scoped>\n",
              "    .dataframe tbody tr th:only-of-type {\n",
              "        vertical-align: middle;\n",
              "    }\n",
              "\n",
              "    .dataframe tbody tr th {\n",
              "        vertical-align: top;\n",
              "    }\n",
              "\n",
              "    .dataframe thead th {\n",
              "        text-align: right;\n",
              "    }\n",
              "</style>\n",
              "<table border=\"1\" class=\"dataframe\">\n",
              "  <thead>\n",
              "    <tr style=\"text-align: right;\">\n",
              "      <th></th>\n",
              "      <th>Class</th>\n",
              "      <th>Edge Area</th>\n",
              "      <th>Edge DiffDirecHist bin 0</th>\n",
              "      <th>Edge DiffDirecHist bin 1</th>\n",
              "      <th>Edge DiffDirecHist bin 2</th>\n",
              "      <th>Edge DiffDirecHist bin 3</th>\n",
              "      <th>Edge Direction Histogram bin 0</th>\n",
              "      <th>Edge Direction Histogram bin 1</th>\n",
              "      <th>Edge Direction Histogram bin 2</th>\n",
              "      <th>Edge Direction Histogram bin 3</th>\n",
              "      <th>Edge Direction Histogram bin 4</th>\n",
              "      <th>Edge Direction Histogram bin 5</th>\n",
              "      <th>Edge Direction Histogram bin 6</th>\n",
              "      <th>Edge Direction Histogram bin 7</th>\n",
              "      <th>Edge Direction homogeneity</th>\n",
              "      <th>Edge Direction Mean</th>\n",
              "      <th>Edge Direction Median</th>\n",
              "      <th>Edge Direction Variance</th>\n",
              "      <th>Edge Magnitude Histogram bin 0</th>\n",
              "      <th>Edge Magnitude Histogram bin 1</th>\n",
              "      <th>Edge Magnitude Histogram bin 2</th>\n",
              "      <th>Edge Magnitude Histogram bin 3</th>\n",
              "      <th>Edge Magnitude Histogram bin 4</th>\n",
              "      <th>Edge Magnitude Histogram bin 5</th>\n",
              "      <th>Edge Magnitude Histogram bin 6</th>\n",
              "      <th>Edge Magnitude Histogram bin 7</th>\n",
              "      <th>Edge Magnitude Mean</th>\n",
              "      <th>Edge Magnitude Median</th>\n",
              "      <th>Edge Magnitude Variance</th>\n",
              "      <th>Feature area histogram bin 0</th>\n",
              "      <th>Feature area histogram bin 1</th>\n",
              "      <th>Feature area histogram bin 2</th>\n",
              "      <th>Feature area histogram bin 3</th>\n",
              "      <th>Feature area histogram bin 4</th>\n",
              "      <th>Feature area histogram bin 5</th>\n",
              "      <th>Feature area histogram bin 6</th>\n",
              "      <th>Feature area histogram bin 7</th>\n",
              "      <th>Feature area histogram bin 8</th>\n",
              "      <th>Feature area histogram bin 9</th>\n",
              "      <th>Feature AreaMax</th>\n",
              "      <th>...</th>\n",
              "      <th>Tamura Texture 5 (Edge Wavelet Transform)</th>\n",
              "      <th>Radon bin 0 (Edge Wavelet Transform)</th>\n",
              "      <th>Radon bin 1 (Edge Wavelet Transform)</th>\n",
              "      <th>Radon bin 2 (Edge Wavelet Transform)</th>\n",
              "      <th>Radon bin 3 (Edge Wavelet Transform)</th>\n",
              "      <th>Radon bin 4 (Edge Wavelet Transform)</th>\n",
              "      <th>Radon bin 5 (Edge Wavelet Transform)</th>\n",
              "      <th>Radon bin 6 (Edge Wavelet Transform)</th>\n",
              "      <th>Radon bin 7 (Edge Wavelet Transform)</th>\n",
              "      <th>Radon bin 8 (Edge Wavelet Transform)</th>\n",
              "      <th>Radon bin 9 (Edge Wavelet Transform)</th>\n",
              "      <th>Radon bin 10 (Edge Wavelet Transform)</th>\n",
              "      <th>Radon bin 11 (Edge Wavelet Transform)</th>\n",
              "      <th>Fractal bin 0 (Edge Wavelet Transform)</th>\n",
              "      <th>Fractal bin 1 (Edge Wavelet Transform)</th>\n",
              "      <th>Fractal bin 2 (Edge Wavelet Transform)</th>\n",
              "      <th>Fractal bin 3 (Edge Wavelet Transform)</th>\n",
              "      <th>Fractal bin 4 (Edge Wavelet Transform)</th>\n",
              "      <th>Fractal bin 5 (Edge Wavelet Transform)</th>\n",
              "      <th>Fractal bin 6 (Edge Wavelet Transform)</th>\n",
              "      <th>Fractal bin 7 (Edge Wavelet Transform)</th>\n",
              "      <th>Fractal bin 8 (Edge Wavelet Transform)</th>\n",
              "      <th>Fractal bin 9 (Edge Wavelet Transform)</th>\n",
              "      <th>Fractal bin 10 (Edge Wavelet Transform)</th>\n",
              "      <th>Fractal bin 11 (Edge Wavelet Transform)</th>\n",
              "      <th>Fractal bin 12 (Edge Wavelet Transform)</th>\n",
              "      <th>Fractal bin 13 (Edge Wavelet Transform)</th>\n",
              "      <th>Fractal bin 14 (Edge Wavelet Transform)</th>\n",
              "      <th>Fractal bin 15 (Edge Wavelet Transform)</th>\n",
              "      <th>Fractal bin 16 (Edge Wavelet Transform)</th>\n",
              "      <th>Fractal bin 17 (Edge Wavelet Transform)</th>\n",
              "      <th>Fractal bin 18 (Edge Wavelet Transform)</th>\n",
              "      <th>Fractal bin 19 (Edge Wavelet Transform)</th>\n",
              "      <th>gini coefficient (Edge Wavelet Transform)</th>\n",
              "      <th>Entropy (Edge Wavelet Transform)</th>\n",
              "      <th>mean (Edge Wavelet Transform)</th>\n",
              "      <th>median (Edge Wavelet Transform)</th>\n",
              "      <th>stddev (Edge Wavelet Transform)</th>\n",
              "      <th>min (Edge Wavelet Transform)</th>\n",
              "      <th>max (Edge Wavelet Transform)</th>\n",
              "    </tr>\n",
              "  </thead>\n",
              "  <tbody>\n",
              "    <tr>\n",
              "      <th>0</th>\n",
              "      <td>damaged</td>\n",
              "      <td>26316</td>\n",
              "      <td>0.010999</td>\n",
              "      <td>0.015854</td>\n",
              "      <td>0.061888</td>\n",
              "      <td>0.048045</td>\n",
              "      <td>0.094538</td>\n",
              "      <td>0.156292</td>\n",
              "      <td>0.163792</td>\n",
              "      <td>0.097924</td>\n",
              "      <td>0.092481</td>\n",
              "      <td>0.161328</td>\n",
              "      <td>0.144700</td>\n",
              "      <td>0.088946</td>\n",
              "      <td>0.250830</td>\n",
              "      <td>-0.040782</td>\n",
              "      <td>-0.081758</td>\n",
              "      <td>3.06386</td>\n",
              "      <td>0.690587</td>\n",
              "      <td>0.141464</td>\n",
              "      <td>0.065011</td>\n",
              "      <td>0.036984</td>\n",
              "      <td>0.028306</td>\n",
              "      <td>0.022713</td>\n",
              "      <td>0.012128</td>\n",
              "      <td>0.002807</td>\n",
              "      <td>54.4728</td>\n",
              "      <td>30.4785</td>\n",
              "      <td>2979.73</td>\n",
              "      <td>66</td>\n",
              "      <td>0</td>\n",
              "      <td>0</td>\n",
              "      <td>0</td>\n",
              "      <td>0</td>\n",
              "      <td>0</td>\n",
              "      <td>0</td>\n",
              "      <td>0</td>\n",
              "      <td>0</td>\n",
              "      <td>1</td>\n",
              "      <td>642</td>\n",
              "      <td>...</td>\n",
              "      <td>1.70803</td>\n",
              "      <td>396</td>\n",
              "      <td>26</td>\n",
              "      <td>21</td>\n",
              "      <td>294</td>\n",
              "      <td>65</td>\n",
              "      <td>84</td>\n",
              "      <td>297</td>\n",
              "      <td>50</td>\n",
              "      <td>96</td>\n",
              "      <td>325</td>\n",
              "      <td>72</td>\n",
              "      <td>46</td>\n",
              "      <td>3.74864</td>\n",
              "      <td>4.62541</td>\n",
              "      <td>5.27168</td>\n",
              "      <td>5.52261</td>\n",
              "      <td>5.75725</td>\n",
              "      <td>5.89249</td>\n",
              "      <td>6.02098</td>\n",
              "      <td>6.11325</td>\n",
              "      <td>6.21022</td>\n",
              "      <td>6.40988</td>\n",
              "      <td>6.57024</td>\n",
              "      <td>6.63530</td>\n",
              "      <td>6.58530</td>\n",
              "      <td>6.53315</td>\n",
              "      <td>6.49134</td>\n",
              "      <td>6.45291</td>\n",
              "      <td>6.42328</td>\n",
              "      <td>6.38050</td>\n",
              "      <td>6.33770</td>\n",
              "      <td>6.18647</td>\n",
              "      <td>0.748756</td>\n",
              "      <td>1.41612</td>\n",
              "      <td>8.09265</td>\n",
              "      <td>0.554195</td>\n",
              "      <td>24.8490</td>\n",
              "      <td>-56.8990</td>\n",
              "      <td>225.093</td>\n",
              "    </tr>\n",
              "    <tr>\n",
              "      <th>1</th>\n",
              "      <td>damaged</td>\n",
              "      <td>21877</td>\n",
              "      <td>0.012265</td>\n",
              "      <td>0.066410</td>\n",
              "      <td>0.040738</td>\n",
              "      <td>0.016342</td>\n",
              "      <td>0.111948</td>\n",
              "      <td>0.139971</td>\n",
              "      <td>0.133449</td>\n",
              "      <td>0.113074</td>\n",
              "      <td>0.109235</td>\n",
              "      <td>0.159885</td>\n",
              "      <td>0.123001</td>\n",
              "      <td>0.109437</td>\n",
              "      <td>0.251919</td>\n",
              "      <td>-0.007070</td>\n",
              "      <td>0.006340</td>\n",
              "      <td>3.19668</td>\n",
              "      <td>0.620029</td>\n",
              "      <td>0.179683</td>\n",
              "      <td>0.082886</td>\n",
              "      <td>0.052208</td>\n",
              "      <td>0.030649</td>\n",
              "      <td>0.025570</td>\n",
              "      <td>0.008225</td>\n",
              "      <td>0.000750</td>\n",
              "      <td>63.2288</td>\n",
              "      <td>37.5394</td>\n",
              "      <td>3408.16</td>\n",
              "      <td>448</td>\n",
              "      <td>0</td>\n",
              "      <td>0</td>\n",
              "      <td>0</td>\n",
              "      <td>0</td>\n",
              "      <td>0</td>\n",
              "      <td>0</td>\n",
              "      <td>0</td>\n",
              "      <td>0</td>\n",
              "      <td>1</td>\n",
              "      <td>269</td>\n",
              "      <td>...</td>\n",
              "      <td>1.74199</td>\n",
              "      <td>309</td>\n",
              "      <td>20</td>\n",
              "      <td>32</td>\n",
              "      <td>236</td>\n",
              "      <td>53</td>\n",
              "      <td>72</td>\n",
              "      <td>253</td>\n",
              "      <td>35</td>\n",
              "      <td>73</td>\n",
              "      <td>221</td>\n",
              "      <td>75</td>\n",
              "      <td>65</td>\n",
              "      <td>4.47379</td>\n",
              "      <td>5.22452</td>\n",
              "      <td>5.90264</td>\n",
              "      <td>6.15337</td>\n",
              "      <td>6.31183</td>\n",
              "      <td>6.44532</td>\n",
              "      <td>6.55192</td>\n",
              "      <td>6.68130</td>\n",
              "      <td>6.77805</td>\n",
              "      <td>6.84224</td>\n",
              "      <td>6.89356</td>\n",
              "      <td>6.93111</td>\n",
              "      <td>6.95114</td>\n",
              "      <td>6.92118</td>\n",
              "      <td>6.94275</td>\n",
              "      <td>6.85433</td>\n",
              "      <td>6.74405</td>\n",
              "      <td>6.58613</td>\n",
              "      <td>6.75654</td>\n",
              "      <td>6.98933</td>\n",
              "      <td>0.699940</td>\n",
              "      <td>1.65329</td>\n",
              "      <td>8.29617</td>\n",
              "      <td>0.792711</td>\n",
              "      <td>22.5518</td>\n",
              "      <td>-69.3201</td>\n",
              "      <td>197.266</td>\n",
              "    </tr>\n",
              "    <tr>\n",
              "      <th>2</th>\n",
              "      <td>damaged</td>\n",
              "      <td>31025</td>\n",
              "      <td>0.038476</td>\n",
              "      <td>0.043048</td>\n",
              "      <td>0.064006</td>\n",
              "      <td>0.045635</td>\n",
              "      <td>0.092085</td>\n",
              "      <td>0.155924</td>\n",
              "      <td>0.161706</td>\n",
              "      <td>0.093389</td>\n",
              "      <td>0.099455</td>\n",
              "      <td>0.169953</td>\n",
              "      <td>0.142251</td>\n",
              "      <td>0.085237</td>\n",
              "      <td>0.248009</td>\n",
              "      <td>-0.031708</td>\n",
              "      <td>-0.017860</td>\n",
              "      <td>3.01744</td>\n",
              "      <td>0.605498</td>\n",
              "      <td>0.177085</td>\n",
              "      <td>0.095308</td>\n",
              "      <td>0.064100</td>\n",
              "      <td>0.043389</td>\n",
              "      <td>0.012915</td>\n",
              "      <td>0.001043</td>\n",
              "      <td>0.000664</td>\n",
              "      <td>72.5687</td>\n",
              "      <td>45.7863</td>\n",
              "      <td>3766.22</td>\n",
              "      <td>104</td>\n",
              "      <td>0</td>\n",
              "      <td>0</td>\n",
              "      <td>0</td>\n",
              "      <td>0</td>\n",
              "      <td>0</td>\n",
              "      <td>0</td>\n",
              "      <td>0</td>\n",
              "      <td>0</td>\n",
              "      <td>1</td>\n",
              "      <td>2620</td>\n",
              "      <td>...</td>\n",
              "      <td>1.75483</td>\n",
              "      <td>398</td>\n",
              "      <td>11</td>\n",
              "      <td>38</td>\n",
              "      <td>288</td>\n",
              "      <td>24</td>\n",
              "      <td>135</td>\n",
              "      <td>293</td>\n",
              "      <td>30</td>\n",
              "      <td>124</td>\n",
              "      <td>306</td>\n",
              "      <td>84</td>\n",
              "      <td>57</td>\n",
              "      <td>3.72514</td>\n",
              "      <td>4.39750</td>\n",
              "      <td>5.07412</td>\n",
              "      <td>5.33808</td>\n",
              "      <td>5.54949</td>\n",
              "      <td>5.65798</td>\n",
              "      <td>5.69642</td>\n",
              "      <td>5.75235</td>\n",
              "      <td>5.79303</td>\n",
              "      <td>5.83772</td>\n",
              "      <td>5.88570</td>\n",
              "      <td>5.93696</td>\n",
              "      <td>5.97392</td>\n",
              "      <td>6.00333</td>\n",
              "      <td>6.02254</td>\n",
              "      <td>6.02531</td>\n",
              "      <td>5.95956</td>\n",
              "      <td>5.82705</td>\n",
              "      <td>5.62431</td>\n",
              "      <td>5.38080</td>\n",
              "      <td>0.712057</td>\n",
              "      <td>1.64576</td>\n",
              "      <td>9.75546</td>\n",
              "      <td>0.755904</td>\n",
              "      <td>25.5854</td>\n",
              "      <td>-62.6317</td>\n",
              "      <td>208.821</td>\n",
              "    </tr>\n",
              "    <tr>\n",
              "      <th>3</th>\n",
              "      <td>damaged</td>\n",
              "      <td>25959</td>\n",
              "      <td>0.038105</td>\n",
              "      <td>0.036172</td>\n",
              "      <td>0.089922</td>\n",
              "      <td>0.035810</td>\n",
              "      <td>0.087080</td>\n",
              "      <td>0.152506</td>\n",
              "      <td>0.163333</td>\n",
              "      <td>0.105013</td>\n",
              "      <td>0.093979</td>\n",
              "      <td>0.163953</td>\n",
              "      <td>0.136382</td>\n",
              "      <td>0.097752</td>\n",
              "      <td>0.239587</td>\n",
              "      <td>-0.009699</td>\n",
              "      <td>-0.037148</td>\n",
              "      <td>3.03752</td>\n",
              "      <td>0.654005</td>\n",
              "      <td>0.159664</td>\n",
              "      <td>0.072636</td>\n",
              "      <td>0.068114</td>\n",
              "      <td>0.036822</td>\n",
              "      <td>0.007674</td>\n",
              "      <td>0.000879</td>\n",
              "      <td>0.000207</td>\n",
              "      <td>64.6766</td>\n",
              "      <td>39.5185</td>\n",
              "      <td>3497.00</td>\n",
              "      <td>91</td>\n",
              "      <td>0</td>\n",
              "      <td>0</td>\n",
              "      <td>0</td>\n",
              "      <td>0</td>\n",
              "      <td>0</td>\n",
              "      <td>0</td>\n",
              "      <td>0</td>\n",
              "      <td>0</td>\n",
              "      <td>1</td>\n",
              "      <td>2455</td>\n",
              "      <td>...</td>\n",
              "      <td>1.80448</td>\n",
              "      <td>368</td>\n",
              "      <td>19</td>\n",
              "      <td>28</td>\n",
              "      <td>276</td>\n",
              "      <td>65</td>\n",
              "      <td>74</td>\n",
              "      <td>276</td>\n",
              "      <td>36</td>\n",
              "      <td>103</td>\n",
              "      <td>271</td>\n",
              "      <td>110</td>\n",
              "      <td>34</td>\n",
              "      <td>4.73087</td>\n",
              "      <td>5.67632</td>\n",
              "      <td>6.56209</td>\n",
              "      <td>6.96171</td>\n",
              "      <td>7.18385</td>\n",
              "      <td>7.26017</td>\n",
              "      <td>7.17162</td>\n",
              "      <td>6.98354</td>\n",
              "      <td>6.88591</td>\n",
              "      <td>6.86124</td>\n",
              "      <td>6.98097</td>\n",
              "      <td>7.14512</td>\n",
              "      <td>7.39007</td>\n",
              "      <td>7.62709</td>\n",
              "      <td>7.73828</td>\n",
              "      <td>7.74965</td>\n",
              "      <td>7.59684</td>\n",
              "      <td>7.33644</td>\n",
              "      <td>6.91971</td>\n",
              "      <td>6.43138</td>\n",
              "      <td>0.710902</td>\n",
              "      <td>1.68590</td>\n",
              "      <td>9.88577</td>\n",
              "      <td>0.863346</td>\n",
              "      <td>27.3027</td>\n",
              "      <td>-79.5423</td>\n",
              "      <td>231.246</td>\n",
              "    </tr>\n",
              "    <tr>\n",
              "      <th>4</th>\n",
              "      <td>damaged</td>\n",
              "      <td>45157</td>\n",
              "      <td>0.002858</td>\n",
              "      <td>0.071486</td>\n",
              "      <td>0.029843</td>\n",
              "      <td>0.026653</td>\n",
              "      <td>0.088383</td>\n",
              "      <td>0.164292</td>\n",
              "      <td>0.160065</td>\n",
              "      <td>0.081101</td>\n",
              "      <td>0.088890</td>\n",
              "      <td>0.189590</td>\n",
              "      <td>0.150788</td>\n",
              "      <td>0.076890</td>\n",
              "      <td>0.252675</td>\n",
              "      <td>-0.015710</td>\n",
              "      <td>0.049516</td>\n",
              "      <td>2.99129</td>\n",
              "      <td>0.622578</td>\n",
              "      <td>0.217404</td>\n",
              "      <td>0.066442</td>\n",
              "      <td>0.041049</td>\n",
              "      <td>0.032801</td>\n",
              "      <td>0.015419</td>\n",
              "      <td>0.003879</td>\n",
              "      <td>0.000427</td>\n",
              "      <td>67.5045</td>\n",
              "      <td>47.0672</td>\n",
              "      <td>3363.12</td>\n",
              "      <td>672</td>\n",
              "      <td>0</td>\n",
              "      <td>0</td>\n",
              "      <td>0</td>\n",
              "      <td>0</td>\n",
              "      <td>0</td>\n",
              "      <td>0</td>\n",
              "      <td>0</td>\n",
              "      <td>0</td>\n",
              "      <td>1</td>\n",
              "      <td>893</td>\n",
              "      <td>...</td>\n",
              "      <td>1.53788</td>\n",
              "      <td>415</td>\n",
              "      <td>25</td>\n",
              "      <td>45</td>\n",
              "      <td>314</td>\n",
              "      <td>41</td>\n",
              "      <td>130</td>\n",
              "      <td>324</td>\n",
              "      <td>43</td>\n",
              "      <td>118</td>\n",
              "      <td>302</td>\n",
              "      <td>144</td>\n",
              "      <td>39</td>\n",
              "      <td>4.03823</td>\n",
              "      <td>4.83674</td>\n",
              "      <td>5.51733</td>\n",
              "      <td>5.71913</td>\n",
              "      <td>5.87787</td>\n",
              "      <td>5.99508</td>\n",
              "      <td>6.04455</td>\n",
              "      <td>6.02176</td>\n",
              "      <td>5.98848</td>\n",
              "      <td>5.97945</td>\n",
              "      <td>6.01499</td>\n",
              "      <td>6.10476</td>\n",
              "      <td>6.20508</td>\n",
              "      <td>6.31218</td>\n",
              "      <td>6.38879</td>\n",
              "      <td>6.50124</td>\n",
              "      <td>6.54129</td>\n",
              "      <td>6.52765</td>\n",
              "      <td>6.48171</td>\n",
              "      <td>6.41494</td>\n",
              "      <td>0.697781</td>\n",
              "      <td>1.59328</td>\n",
              "      <td>8.33267</td>\n",
              "      <td>0.816015</td>\n",
              "      <td>21.7871</td>\n",
              "      <td>-61.2529</td>\n",
              "      <td>225.663</td>\n",
              "    </tr>\n",
              "  </tbody>\n",
              "</table>\n",
              "<p>5 rows × 2899 columns</p>\n",
              "</div>"
            ],
            "text/plain": [
              "     Class  ...  max (Edge Wavelet Transform)\n",
              "0  damaged  ...                       225.093\n",
              "1  damaged  ...                       197.266\n",
              "2  damaged  ...                       208.821\n",
              "3  damaged  ...                       231.246\n",
              "4  damaged  ...                       225.663\n",
              "\n",
              "[5 rows x 2899 columns]"
            ]
          },
          "metadata": {
            "tags": []
          },
          "execution_count": 6
        }
      ]
    },
    {
      "cell_type": "code",
      "metadata": {
        "id": "pxyN-4fIiTQW"
      },
      "source": [
        ""
      ],
      "execution_count": null,
      "outputs": []
    },
    {
      "cell_type": "code",
      "metadata": {
        "id": "k_9OeGF9gV6H"
      },
      "source": [
        "from sklearn.utils import shuffle\n",
        "df = shuffle(df)"
      ],
      "execution_count": null,
      "outputs": []
    },
    {
      "cell_type": "code",
      "metadata": {
        "id": "kPrnQ7Z_gWAO"
      },
      "source": [
        ""
      ],
      "execution_count": null,
      "outputs": []
    },
    {
      "cell_type": "code",
      "metadata": {
        "id": "quNXo27yX6Ix"
      },
      "source": [
        "y = df['Class']\n",
        "X = df.drop(['Class'],axis=1)"
      ],
      "execution_count": null,
      "outputs": []
    },
    {
      "cell_type": "code",
      "metadata": {
        "id": "Y97gItCbX6Mt"
      },
      "source": [
        "#new_set = SelectKBest(chi2, k=2).fit_transform(X, y)\n",
        "#new_set = SelectKBest(f_score, k=2).fit_transform(X, y)"
      ],
      "execution_count": null,
      "outputs": []
    },
    {
      "cell_type": "code",
      "metadata": {
        "id": "-W1P48SRY2pI"
      },
      "source": [
        "new_set = SelectKBest(chi2, k=61).fit_transform(X.abs(), y)\n",
        "#new_set = SelectKBest(f_score, k=2).fit_transform(X, y)"
      ],
      "execution_count": null,
      "outputs": []
    },
    {
      "cell_type": "code",
      "metadata": {
        "id": "R_XoacIXZ9L5"
      },
      "source": [
        ""
      ],
      "execution_count": null,
      "outputs": []
    },
    {
      "cell_type": "code",
      "metadata": {
        "id": "_xFH28fMZ9Ry"
      },
      "source": [
        ""
      ],
      "execution_count": null,
      "outputs": []
    },
    {
      "cell_type": "code",
      "metadata": {
        "id": "-g3wUxeIgMhA"
      },
      "source": [
        "test=df.iloc[:300,:]\n",
        "train=df.iloc[300:,:]\n",
        "\n",
        "\n",
        "train_labels=train['Class'].tolist()\n",
        "train=train.drop(['Class'],axis=1)\n",
        "#train_samples=train.values.tolist()\n",
        "\n",
        "\n",
        "train_samples=train.values.tolist()\n",
        "\n",
        "test_labels=test['Class'].tolist()\n",
        "test=test.drop(['Class'],axis=1)\n",
        "test_samples=test.values.tolist()"
      ],
      "execution_count": null,
      "outputs": []
    },
    {
      "cell_type": "code",
      "metadata": {
        "id": "dKVDBp8ngMkh"
      },
      "source": [
        ""
      ],
      "execution_count": null,
      "outputs": []
    },
    {
      "cell_type": "code",
      "metadata": {
        "id": "gdrIV3fbYlfP"
      },
      "source": [
        "#train_samples = SelectKBest(chi2, k=2).fit_transform(train_samples, train_labels)"
      ],
      "execution_count": null,
      "outputs": []
    },
    {
      "cell_type": "code",
      "metadata": {
        "id": "Z6yXREi2Yljs"
      },
      "source": [
        ""
      ],
      "execution_count": null,
      "outputs": []
    },
    {
      "cell_type": "code",
      "metadata": {
        "id": "Qh-Nss5dYlqB"
      },
      "source": [
        ""
      ],
      "execution_count": null,
      "outputs": []
    },
    {
      "cell_type": "code",
      "metadata": {
        "id": "qay3h_QagMn5"
      },
      "source": [
        "for i in range (len(train_labels)):\n",
        "  if train_labels[i]=='damaged':\n",
        "    train_labels[i]=0\n",
        "  if train_labels[i]=='undamaged':\n",
        "    train_labels[i]=1\n",
        "\n",
        "for i in range (len(test_labels)):\n",
        "  if test_labels[i]=='damaged':\n",
        "    test_labels[i]=0\n",
        "  if test_labels[i]=='undamaged':\n",
        "    test_labels[i]=1\n"
      ],
      "execution_count": null,
      "outputs": []
    },
    {
      "cell_type": "code",
      "metadata": {
        "id": "li1IM21vgSs6"
      },
      "source": [
        ""
      ],
      "execution_count": null,
      "outputs": []
    },
    {
      "cell_type": "code",
      "metadata": {
        "id": "dLERdAofgSxa",
        "colab": {
          "base_uri": "https://localhost:8080/",
          "height": 225
        },
        "outputId": "8259c459-249b-4e02-be32-4e458a882208"
      },
      "source": [
        "classifiers = [\n",
        "KNeighborsClassifier(3),\n",
        "SVC(kernel=\"rbf\", C=0.025, probability=True),\n",
        "#SVC(kernel=\"sigmoid\", C=0.025, probability=True),\n",
        "#NuSVC(probability=True),\n",
        "DecisionTreeClassifier(),\n",
        "RandomForestClassifier(),\n",
        "AdaBoostClassifier(),\n",
        "GradientBoostingClassifier(),\n",
        "GaussianNB(),\n",
        "LinearDiscriminantAnalysis(),\n",
        "QuadraticDiscriminantAnalysis()]\n",
        "\n",
        "for clf in classifiers:\n",
        "  clf.fit(train_samples, train_labels)\n",
        "  res=clf.predict(test_samples)\n",
        "  acc = accuracy_score(test_labels, res)\n",
        "  print (clf.__class__.__name__+\" Accuracy: \"+str(acc))\n",
        "\n",
        "correct_samples=0\n",
        "for i in range (len(test_labels)):\n",
        "  if test_labels[i]==res[i]:\n",
        "     correct_samples=correct_samples+1\n",
        "print(correct_samples/len(test_labels))"
      ],
      "execution_count": null,
      "outputs": [
        {
          "output_type": "stream",
          "text": [
            "KNeighborsClassifier Accuracy: 0.7366666666666667\n",
            "SVC Accuracy: 0.73\n",
            "DecisionTreeClassifier Accuracy: 0.7033333333333334\n",
            "RandomForestClassifier Accuracy: 0.76\n",
            "AdaBoostClassifier Accuracy: 0.73\n",
            "GradientBoostingClassifier Accuracy: 0.7633333333333333\n",
            "GaussianNB Accuracy: 0.35333333333333333\n",
            "LinearDiscriminantAnalysis Accuracy: 0.6533333333333333\n"
          ],
          "name": "stdout"
        },
        {
          "output_type": "stream",
          "text": [
            "/usr/local/lib/python3.6/dist-packages/sklearn/discriminant_analysis.py:691: UserWarning: Variables are collinear\n",
            "  warnings.warn(\"Variables are collinear\")\n"
          ],
          "name": "stderr"
        },
        {
          "output_type": "stream",
          "text": [
            "QuadraticDiscriminantAnalysis Accuracy: 0.6633333333333333\n",
            "0.6633333333333333\n"
          ],
          "name": "stdout"
        }
      ]
    },
    {
      "cell_type": "code",
      "metadata": {
        "id": "mCH0EKb-gS0l"
      },
      "source": [
        ""
      ],
      "execution_count": null,
      "outputs": []
    },
    {
      "cell_type": "code",
      "metadata": {
        "id": "5qNtzTXggS37"
      },
      "source": [
        ""
      ],
      "execution_count": null,
      "outputs": []
    },
    {
      "cell_type": "code",
      "metadata": {
        "id": "mWQjcUhUgMrV"
      },
      "source": [
        ""
      ],
      "execution_count": null,
      "outputs": []
    },
    {
      "cell_type": "code",
      "metadata": {
        "id": "8dTlRd18f2pl"
      },
      "source": [
        ""
      ],
      "execution_count": null,
      "outputs": []
    }
  ]
}